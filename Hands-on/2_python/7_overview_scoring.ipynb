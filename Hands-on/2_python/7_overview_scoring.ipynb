{
 "cells": [
  {
   "cell_type": "markdown",
   "metadata": {},
   "source": [
    "## Scoring Data\n",
    "This notebook illustrates how to re-use a previously trained pipeline to score new data coming in."
   ]
  },
  {
   "cell_type": "code",
   "execution_count": null,
   "metadata": {},
   "outputs": [],
   "source": [
    "import pandas as pd \n",
    "import pickle"
   ]
  },
  {
   "cell_type": "code",
   "execution_count": null,
   "metadata": {},
   "outputs": [],
   "source": [
    "features = ['CreditPolicy', 'PublicRecord',  'Purpose', 'InterestRate', 'Installment','Delinquencies2Yrs', \n",
    "            'CreditLineAge', 'DebtIncRatio', 'FICOScore','Inquiries6Mnths', 'LogAnnualInc', \n",
    "            'RevBalance','RevUtilization']\n",
    "target = 'Default'"
   ]
  },
  {
   "cell_type": "code",
   "execution_count": null,
   "metadata": {},
   "outputs": [],
   "source": [
    "with open('artifacts/sklearn_forest_pipeline.pkl', mode='rb') as file:\n",
    "    sklearn_pipeline = pickle.load(file)\n",
    "\n",
    "with open('artifacts/viya_forest_pipeline.pkl', mode='rb') as file:\n",
    "    viya_pipeline = pickle.load(file)\n",
    "\n",
    "score_data = pd.read_csv('../../data/cleaned_data/train_valid_test.csv').sample(n=10000).reset_index(drop=True)"
   ]
  },
  {
   "cell_type": "code",
   "execution_count": null,
   "metadata": {},
   "outputs": [],
   "source": [
    "score_data['SK_P1'] = sklearn_pipeline.predict_proba(score_data[features])[:,1]\n",
    "score_data['SK_P0'] = sklearn_pipeline.predict_proba(score_data[features])[:,0]\n",
    "score_data['SK_Preds'] = sklearn_pipeline.predict(score_data[features])\n",
    "\n",
    "score_data['Viya_P1'] = viya_pipeline.predict_proba(score_data[features])[:,1]\n",
    "score_data['Viya_P0'] = viya_pipeline.predict_proba(score_data[features])[:,0]\n",
    "score_data['Viya_Preds'] = viya_pipeline.predict(score_data[features])"
   ]
  },
  {
   "cell_type": "code",
   "execution_count": null,
   "metadata": {},
   "outputs": [],
   "source": [
    "score_data[['Default', 'SK_Preds', 'SK_P1', 'SK_P0', 'Viya_Preds', 'Viya_P1', 'Viya_P0']].head(10)"
   ]
  }
 ],
 "metadata": {
  "kernelspec": {
   "display_name": ".venv",
   "language": "python",
   "name": "python3"
  },
  "language_info": {
   "codemirror_mode": {
    "name": "ipython",
    "version": 3
   },
   "file_extension": ".py",
   "mimetype": "text/x-python",
   "name": "python",
   "nbconvert_exporter": "python",
   "pygments_lexer": "ipython3",
   "version": "3.11.9"
  }
 },
 "nbformat": 4,
 "nbformat_minor": 2
}
