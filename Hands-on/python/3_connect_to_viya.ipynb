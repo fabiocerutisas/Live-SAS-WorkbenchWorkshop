{
 "cells": [
  {
   "cell_type": "markdown",
   "metadata": {},
   "source": [
    "## Registering to Model Manager\n",
    "This notebook exemplifies how to register a model developed in Workbench to Model Manager."
   ]
  },
  {
   "cell_type": "code",
   "execution_count": 1,
   "metadata": {},
   "outputs": [],
   "source": [
    "import json\n",
    "import requests \n",
    "import getpass\n",
    "import os\n",
    "import sasviya \n",
    "from sasctl import Session, pzmm\n",
    "from sasctl.services import model_repository as mr\n",
    "import pickle \n",
    "import pandas as pd"
   ]
  },
  {
   "cell_type": "code",
   "execution_count": 2,
   "metadata": {},
   "outputs": [],
   "source": [
    "url = \"https://innovationlab.demo.sas.com/\"\n",
    "\n",
    "def _connect_to_instance(refresh_token, verification):\n",
    "\tauth_url = f\"{url}/SASLogon/oauth/token\"\n",
    "\t# reading long-lived refresh token from txt file\n",
    "\n",
    "\tpayload=f'grant_type=refresh_token&refresh_token={refresh_token}'\n",
    "\theaders = {\n",
    "\t'Accept': 'application/json',\n",
    "\t'Content-Type': 'application/x-www-form-urlencoded',\n",
    "\t'Authorization': 'Basic c2FzLmNsaTo=',\n",
    "\t}\n",
    "\n",
    "\tresponse = requests.request(\"POST\", auth_url, headers=headers, data=payload, verify=verification)\n",
    "\taccess_token = response.json()['access_token']\n",
    "\treturn access_token\n",
    "\n",
    "def _generate_access_token(auth_code, verification): \n",
    "\tserver = f\"{url}/SASLogon/oauth/token\"\n",
    "\n",
    "\tpayload = f'grant_type=authorization_code&code={auth_code}'\n",
    "\theaders = {\n",
    "\t\t'Accept': 'application/json',\n",
    "\t\t'Content-Type': 'application/x-www-form-urlencoded',\n",
    "\t\t'Authorization': 'Basic c2FzLmNsaTo='\n",
    "\t}\n",
    "\n",
    "\tresponse = requests.request(\"POST\", server, headers=headers, data=payload, verify=verification)\n",
    "\n",
    "\t# Parse the response text\n",
    "\tresponse_json = json.loads(response.text)\n",
    "\n",
    "\t# Get the refresh token\n",
    "\trefresh_token = response_json['refresh_token']\n",
    "\treturn refresh_token\n",
    "\n",
    "def get_connection(verify=False):\n",
    "\tif 'refresh_token.txt' not in [i.name for i in os.scandir()]:\n",
    "\t\twith open('refresh_token.txt', 'w') as file:\n",
    "\t\t\tfile.write('test')\n",
    "\tif verify:\n",
    "\t\tos.environ['CAS_CLIENT_SSL_CA_LIST'] = 'innovation_lab.pem'\n",
    "\t\tverify = 'innovation_lab.pem'\n",
    "\ttry:\n",
    "\t\twith open('refresh_token.txt', 'r') as token:\n",
    "\t\t\trefresh_token = token.read()\n",
    "\t\taccess_token = _connect_to_instance(refresh_token, verify)\n",
    "\n",
    "\texcept:\n",
    "\t\tprint(f'{url}/SASLogon/oauth/authorize?client_id=sas.cli&response_type=code')\n",
    "\t\tauth_code = input(f'Please provide your access token by going to {url}/SASLogon/oauth/authorize?client_id=sas.cli&response_type=code:')\n",
    "\t\trefresh_token = _generate_access_token(auth_code, verify)\n",
    "\t\twith open('refresh_token.txt', 'w') as file:\n",
    "\t\t\tfile.write(refresh_token)\n",
    "\t\taccess_token = _connect_to_instance(refresh_token, verify)\n",
    "\t\twith open('access_token.txt', 'w') as file:\n",
    "\t\t\tfile.write(access_token)\n",
    "\tprint('Connected!')\n",
    "\treturn access_token"
   ]
  },
  {
   "cell_type": "code",
   "execution_count": 3,
   "metadata": {},
   "outputs": [
    {
     "name": "stdout",
     "output_type": "stream",
     "text": [
      "Connected!\n"
     ]
    }
   ],
   "source": [
    "access_token = get_connection(verify=True)"
   ]
  },
  {
   "cell_type": "code",
   "execution_count": 4,
   "metadata": {},
   "outputs": [
    {
     "data": {
      "text/plain": [
       "<sasctl.core.Session at 0x7fb019591150>"
      ]
     },
     "execution_count": 4,
     "metadata": {},
     "output_type": "execute_result"
    }
   ],
   "source": [
    "st = Session(url, token=access_token)\n",
    "st"
   ]
  },
  {
   "cell_type": "code",
   "execution_count": 5,
   "metadata": {},
   "outputs": [],
   "source": [
    "project_name = \"Live_SAS_WBWorkshop_Python\"\n",
    "repository_name = \"DMRepository\"\n",
    "\n",
    "repository = mr.get_repository(repository_name)\n",
    "\n",
    "project = mr.get_project(project_name)\n",
    "\n",
    "if project == None:\n",
    "    project = mr.create_project(project_name, repository)"
   ]
  },
  {
   "cell_type": "markdown",
   "metadata": {},
   "source": [
    "### Register sasviya.ml Model"
   ]
  },
  {
   "cell_type": "code",
   "execution_count": 7,
   "metadata": {},
   "outputs": [],
   "source": [
    "model = sasviya.load_model('artifacts/gb_model.pkl')\n",
    "\n",
    "model_params = {\n",
    "    \"name\": \"GB_Model_ViyaML\",\n",
    "    \"projectId\": project.id,\n",
    "    \"type\": \"ASTORE\"\n",
    "}\n",
    "\n",
    "astore = mr.post(\n",
    "    \"/models\",\n",
    "    files={\"files\": (\"model_export.astore\", model.export())},\n",
    "    data=model_params,\n",
    ")"
   ]
  },
  {
   "cell_type": "markdown",
   "metadata": {},
   "source": [
    "### Register Sk-Learn Model"
   ]
  },
  {
   "cell_type": "markdown",
   "metadata": {},
   "source": [
    "Link to Tutorial: https://github.com/sassoftware/python-sasctl/blob/master/examples/pzmm_binary_classification_model_import.ipynb"
   ]
  },
  {
   "cell_type": "code",
   "execution_count": 6,
   "metadata": {},
   "outputs": [
    {
     "name": "stderr",
     "output_type": "stream",
     "text": [
      "/usr/local/lib64/python3.11/site-packages/numpy/core/getlimits.py:549: UserWarning: The value of the smallest subnormal for <class 'numpy.float64'> type is zero.\n",
      "  setattr(self, word, getattr(machar, word).flat[0])\n",
      "/usr/local/lib64/python3.11/site-packages/numpy/core/getlimits.py:89: UserWarning: The value of the smallest subnormal for <class 'numpy.float64'> type is zero.\n",
      "  return self._float_to_str(self.smallest_subnormal)\n",
      "/usr/local/lib64/python3.11/site-packages/numpy/core/getlimits.py:549: UserWarning: The value of the smallest subnormal for <class 'numpy.float32'> type is zero.\n",
      "  setattr(self, word, getattr(machar, word).flat[0])\n",
      "/usr/local/lib64/python3.11/site-packages/numpy/core/getlimits.py:89: UserWarning: The value of the smallest subnormal for <class 'numpy.float32'> type is zero.\n",
      "  return self._float_to_str(self.smallest_subnormal)\n"
     ]
    }
   ],
   "source": [
    "df = pd.read_csv('../../Data/cleaned_data/train_valid_test.csv')\n",
    "train = df[df['_PartInd_']==1].reset_index(drop=True)\n",
    "test = df[df['_PartInd_']==3].reset_index(drop=True)\n",
    "\n",
    "numerical_features = ['CreditLineAge','DebtIncRatio','FICOScore','Inquiries6Mnths',\n",
    "                      'LogAnnualInc','RevBalance','RevUtilization','Installment','InterestRate']\n",
    "categorical_features = ['CreditPolicy','Delinquencies2Yrs','PublicRecord','Purpose']\n",
    "features = numerical_features+categorical_features\n",
    "target = 'Default'\n",
    "\n",
    "with open('artifacts/data_prep.pkl', mode='rb') as f:\n",
    "    data_prep = pickle.load(f)\n",
    "x_train_prep = pd.DataFrame(data_prep.transform(train[features]), columns=features)\n",
    "x_test_prep = pd.DataFrame(data_prep.transform(test[features]), columns=features)\n",
    "\n",
    "with open('artifacts/sk_model.pkl', mode='rb') as f:\n",
    "    sk_model = pickle.load(f)"
   ]
  },
  {
   "cell_type": "code",
   "execution_count": 7,
   "metadata": {},
   "outputs": [],
   "source": [
    "score_metrics = [\"I_Default\", \"P_Default1\", \"P_Default0\"]\n",
    "def write_json_files(data, predict, target, path, prefix):    \n",
    "    # Write input variable mapping to a json file\n",
    "    pzmm.JSONFiles.write_var_json(input_data=data[predict], is_input=True, json_path=path)\n",
    "    \n",
    "    # Set output variables and assign an event threshold, then write output variable mapping\n",
    "    output_var = pd.DataFrame(columns=score_metrics, data=[['1', 0.5, 0.5]]) # data argument includes example expected types for outputs\n",
    "    pzmm.JSONFiles.write_var_json(output_var, is_input=False, json_path=path)\n",
    "    \n",
    "    # Write model properties to a json file\n",
    "    pzmm.JSONFiles.write_model_properties_json(\n",
    "        model_name=prefix, \n",
    "        target_variable=target, # Target variable to make predictions about (BAD in this case)\n",
    "        target_values=[\"1\", \"0\"], # Possible values for the target variable (1 or 0 for binary classification of BAD)\n",
    "        json_path=path, \n",
    "        model_desc=f\"Description for the {prefix} model.\",\n",
    "        model_algorithm=\"\",\n",
    "        modeler=\"faceru\",\n",
    "    )\n",
    "    \n",
    "    # Write model metadata to a json file so that SAS Model Manager can properly identify all model files\n",
    "    pzmm.JSONFiles.write_file_metadata_json(model_prefix=prefix, json_path=path)"
   ]
  },
  {
   "cell_type": "code",
   "execution_count": 8,
   "metadata": {},
   "outputs": [
    {
     "name": "stdout",
     "output_type": "stream",
     "text": [
      "inputVar.json was successfully written and saved to artifacts/sk_registration/inputVar.json\n",
      "outputVar.json was successfully written and saved to artifacts/sk_registration/outputVar.json\n",
      "ModelProperties.json was successfully written and saved to artifacts/sk_registration/ModelProperties.json\n",
      "fileMetadata.json was successfully written and saved to artifacts/sk_registration/fileMetadata.json\n"
     ]
    }
   ],
   "source": [
    "mypath = 'artifacts/sk_registration'\n",
    "prefix = 'SK_RandomForest'\n",
    "if not os.path.isdir(mypath):\n",
    "   os.makedirs(mypath)\n",
    "\n",
    "write_json_files(x_train_prep, features, target, mypath, prefix)"
   ]
  },
  {
   "cell_type": "code",
   "execution_count": 9,
   "metadata": {},
   "outputs": [
    {
     "name": "stderr",
     "output_type": "stream",
     "text": [
      "/workspaces/workshop/.venv/lib64/python3.11/site-packages/sasctl/pzmm/write_score_code.py:1640: UserWarning: Due to the ambiguity of the provided metrics and prediction return types, the score code assumes the return order to be: [classification, probability of event, probability of no event] for a single return. For batch scoring, the return order of the probabilities will mirror their return order in the model.\n",
      "  warn(\n"
     ]
    },
    {
     "name": "stdout",
     "output_type": "stream",
     "text": [
      "Model score code was written successfully to artifacts/sk_registration/score_SK_RandomForest.py and uploaded to SAS Model Manager.\n",
      "All model files were zipped to artifacts/sk_registration.\n"
     ]
    },
    {
     "name": "stderr",
     "output_type": "stream",
     "text": [
      "/workspaces/workshop/.venv/lib64/python3.11/site-packages/sasctl/tasks.py:183: UserWarning: This model's properties are different from the project's. If you want to run a performance definition with this model, the project's properties may need to be updated.\n",
      "  warn(\n"
     ]
    },
    {
     "name": "stdout",
     "output_type": "stream",
     "text": [
      "Model was successfully imported into SAS Model Manager as SK_RandomForest with the following UUID: d07c5412-f72e-49d3-b0ac-2968c2e3b01c.\n"
     ]
    },
    {
     "data": {
      "text/plain": [
       "(<class 'sasctl.core.RestObj'>(headers={'Date': 'Wed, 30 Oct 2024 16:46:54 GMT', 'Content-Type': 'application/vnd.sas.collection+json; charset=utf-8', 'Transfer-Encoding': 'chunked', 'Connection': 'keep-alive', 'Cache-Control': 'no-cache, no-store, max-age=0, must-revalidate', 'Content-Security-Policy': \"default-src 'self' *; script-src 'self' 'unsafe-inline' 'unsafe-eval' *; style-src 'self' 'unsafe-inline' *; img-src * blob: data:; child-src 'self'  * blob: data: ; frame-ancestors 'self'; form-action 'self';\", 'Expires': '0', 'Pragma': 'no-cache', 'Sas-Service-Response-Flag': 'true', 'Vary': 'Origin', 'X-Content-Type-Options': 'nosniff', 'X-Xss-Protection': '1; mode=block', 'Strict-Transport-Security': 'max-age=63072000; includeSubDomains'}, data={'creationTimeStamp': '2024-10-30T16:46:52.549Z', 'createdBy': 'Fabio.Ceruti@sas.com', 'modifiedTimeStamp': '2024-10-30T16:46:54.839Z', 'modifiedBy': 'Fabio.Ceruti@sas.com', 'id': 'd07c5412-f72e-49d3-b0ac-2968c2e3b01c', 'name': 'SK_RandomForest', 'description': 'Description for the SK_RandomForest model.', 'role': 'plain', 'scoreCodeType': 'python', 'function': 'classification', 'modeler': 'faceru', 'modelType': 'python', 'trainCodeType': 'Python', 'eventProbVar': 'P_1', 'targetVariable': 'Default', 'targetEvent': '1', 'targetLevel': 'binary', 'tool': 'Python 3', 'toolVersion': '3.11.9', 'version': 2, 'indirectFolderId': 'a57cea16-aeaf-4ac8-b38a-ad0129f8e0ce', 'repositoryId': 'f8c1b7c4-14dd-41bf-a00f-73650cb55a00', 'projectId': '285cf25b-0ff4-4c54-9f50-faa4a40af6f6', 'projectVersionId': '8793a7d8-e3ee-454c-8905-ddc2fdf47a6c', 'immutable': False, 'folderRef': '/folders/folders/944a7d03-67fc-4d07-9fe5-2e9a42aad641', 'location': '/Model Repositories/DMRepository/Live_SAS_WBWorkshop_Python/Version 1', 'modelVersionName': '1.0', 'projectName': 'Live_SAS_WBWorkshop_Python', 'projectVersionName': 'Version 1', 'projectVersionNum': '1.0', 'files': [{'creationTimeStamp': '2024-10-30T16:46:53.385294Z', 'createdBy': 'Fabio.Ceruti@sas.com', 'modifiedTimeStamp': '2024-10-30T16:46:53.385295Z', 'modifiedBy': 'Fabio.Ceruti@sas.com', 'version': 2, 'id': '44331fc4-d93a-4baf-ae46-5efe383ad990', 'name': 'ModelProperties.json', 'fileUri': '/files/files/94c4a7d9-ca11-473c-9485-750cf3cb325a', 'modelId': 'd07c5412-f72e-49d3-b0ac-2968c2e3b01c', 'links': [{'method': 'GET', 'rel': 'UP', 'href': '/modelRepository/models/d07c5412-f72e-49d3-b0ac-2968c2e3b01c', 'uri': '/modelRepository/models/d07c5412-f72e-49d3-b0ac-2968c2e3b01c', 'itemType': 'application/vnd.sas.models.model.content'}, {'method': 'GET', 'rel': 'self', 'href': '/modelRepository/models/d07c5412-f72e-49d3-b0ac-2968c2e3b01c/contents/44331fc4-d93a-4baf-ae46-5efe383ad990', 'uri': '/modelRepository/models/d07c5412-f72e-49d3-b0ac-2968c2e3b01c/contents/44331fc4-d93a-4baf-ae46-5efe383ad990', 'type': 'application/vnd.sas.models.model.content'}, {'method': 'GET', 'rel': 'content', 'uri': '/modelRepository/models/d07c5412-f72e-49d3-b0ac-2968c2e3b01c/contents/44331fc4-d93a-4baf-ae46-5efe383ad990/content', 'type': 'application/octet-stream'}, {'method': 'POST', 'rel': 'create', 'href': '/modelRepository/models/d07c5412-f72e-49d3-b0ac-2968c2e3b01c/contents/44331fc4-d93a-4baf-ae46-5efe383ad990', 'uri': '/modelRepository/models/d07c5412-f72e-49d3-b0ac-2968c2e3b01c/contents/44331fc4-d93a-4baf-ae46-5efe383ad990', 'type': 'multipart/form-data'}, {'method': 'PUT', 'rel': 'update', 'href': '/modelRepository/models/d07c5412-f72e-49d3-b0ac-2968c2e3b01c/contents/44331fc4-d93a-4baf-ae46-5efe383ad990', 'uri': '/modelRepository/models/d07c5412-f72e-49d3-b0ac-2968c2e3b01c/contents/44331fc4-d93a-4baf-ae46-5efe383ad990', 'type': 'application/vnd.sas.models.model.content'}, {'method': 'PUT', 'rel': 'updateContentMultipart', 'href': '/modelRepository/models/d07c5412-f72e-49d3-b0ac-2968c2e3b01c/contents/44331fc4-d93a-4baf-ae46-5efe383ad990', 'uri': '/modelRepository/models/d07c5412-f72e-49d3-b0ac-2968c2e3b01c/contents/44331fc4-d93a-4baf-ae46-5efe383ad990', 'type': 'application/vnd.sas.models.model.content'}, {'method': 'DELETE', 'rel': 'delete', 'href': '/modelRepository/models/d07c5412-f72e-49d3-b0ac-2968c2e3b01c/contents/44331fc4-d93a-4baf-ae46-5efe383ad990', 'uri': '/modelRepository/models/d07c5412-f72e-49d3-b0ac-2968c2e3b01c/contents/44331fc4-d93a-4baf-ae46-5efe383ad990'}]}, {'creationTimeStamp': '2024-10-30T16:46:53.899491Z', 'createdBy': 'Fabio.Ceruti@sas.com', 'modifiedTimeStamp': '2024-10-30T16:46:54.232344Z', 'modifiedBy': 'Fabio.Ceruti@sas.com', 'version': 2, 'id': 'bca8899a-c306-4a4a-8059-501e03303420', 'name': 'inputVar.json', 'role': 'inputVariables', 'fileUri': '/files/files/acecbbef-efb2-4b5d-8a11-8e7bcabe394e', 'modelId': 'd07c5412-f72e-49d3-b0ac-2968c2e3b01c', 'links': [{'method': 'GET', 'rel': 'UP', 'href': '/modelRepository/models/d07c5412-f72e-49d3-b0ac-2968c2e3b01c', 'uri': '/modelRepository/models/d07c5412-f72e-49d3-b0ac-2968c2e3b01c', 'itemType': 'application/vnd.sas.models.model.content'}, {'method': 'GET', 'rel': 'self', 'href': '/modelRepository/models/d07c5412-f72e-49d3-b0ac-2968c2e3b01c/contents/bca8899a-c306-4a4a-8059-501e03303420', 'uri': '/modelRepository/models/d07c5412-f72e-49d3-b0ac-2968c2e3b01c/contents/bca8899a-c306-4a4a-8059-501e03303420', 'type': 'application/vnd.sas.models.model.content'}, {'method': 'GET', 'rel': 'content', 'uri': '/modelRepository/models/d07c5412-f72e-49d3-b0ac-2968c2e3b01c/contents/bca8899a-c306-4a4a-8059-501e03303420/content', 'type': 'application/octet-stream'}, {'method': 'POST', 'rel': 'create', 'href': '/modelRepository/models/d07c5412-f72e-49d3-b0ac-2968c2e3b01c/contents/bca8899a-c306-4a4a-8059-501e03303420', 'uri': '/modelRepository/models/d07c5412-f72e-49d3-b0ac-2968c2e3b01c/contents/bca8899a-c306-4a4a-8059-501e03303420', 'type': 'multipart/form-data'}, {'method': 'PUT', 'rel': 'update', 'href': '/modelRepository/models/d07c5412-f72e-49d3-b0ac-2968c2e3b01c/contents/bca8899a-c306-4a4a-8059-501e03303420', 'uri': '/modelRepository/models/d07c5412-f72e-49d3-b0ac-2968c2e3b01c/contents/bca8899a-c306-4a4a-8059-501e03303420', 'type': 'application/vnd.sas.models.model.content'}, {'method': 'PUT', 'rel': 'updateContentMultipart', 'href': '/modelRepository/models/d07c5412-f72e-49d3-b0ac-2968c2e3b01c/contents/bca8899a-c306-4a4a-8059-501e03303420', 'uri': '/modelRepository/models/d07c5412-f72e-49d3-b0ac-2968c2e3b01c/contents/bca8899a-c306-4a4a-8059-501e03303420', 'type': 'application/vnd.sas.models.model.content'}, {'method': 'DELETE', 'rel': 'delete', 'href': '/modelRepository/models/d07c5412-f72e-49d3-b0ac-2968c2e3b01c/contents/bca8899a-c306-4a4a-8059-501e03303420', 'uri': '/modelRepository/models/d07c5412-f72e-49d3-b0ac-2968c2e3b01c/contents/bca8899a-c306-4a4a-8059-501e03303420'}]}, {'creationTimeStamp': '2024-10-30T16:46:54.117838Z', 'createdBy': 'Fabio.Ceruti@sas.com', 'modifiedTimeStamp': '2024-10-30T16:46:54.286908Z', 'modifiedBy': 'Fabio.Ceruti@sas.com', 'version': 2, 'id': 'c2fe82e7-0642-4762-ab67-057454bec8f0', 'name': 'outputVar.json', 'role': 'outputVariables', 'fileUri': '/files/files/549dcc8e-701a-47c4-b41a-94f11c211653', 'modelId': 'd07c5412-f72e-49d3-b0ac-2968c2e3b01c', 'links': [{'method': 'GET', 'rel': 'UP', 'href': '/modelRepository/models/d07c5412-f72e-49d3-b0ac-2968c2e3b01c', 'uri': '/modelRepository/models/d07c5412-f72e-49d3-b0ac-2968c2e3b01c', 'itemType': 'application/vnd.sas.models.model.content'}, {'method': 'GET', 'rel': 'self', 'href': '/modelRepository/models/d07c5412-f72e-49d3-b0ac-2968c2e3b01c/contents/c2fe82e7-0642-4762-ab67-057454bec8f0', 'uri': '/modelRepository/models/d07c5412-f72e-49d3-b0ac-2968c2e3b01c/contents/c2fe82e7-0642-4762-ab67-057454bec8f0', 'type': 'application/vnd.sas.models.model.content'}, {'method': 'GET', 'rel': 'content', 'uri': '/modelRepository/models/d07c5412-f72e-49d3-b0ac-2968c2e3b01c/contents/c2fe82e7-0642-4762-ab67-057454bec8f0/content', 'type': 'application/octet-stream'}, {'method': 'POST', 'rel': 'create', 'href': '/modelRepository/models/d07c5412-f72e-49d3-b0ac-2968c2e3b01c/contents/c2fe82e7-0642-4762-ab67-057454bec8f0', 'uri': '/modelRepository/models/d07c5412-f72e-49d3-b0ac-2968c2e3b01c/contents/c2fe82e7-0642-4762-ab67-057454bec8f0', 'type': 'multipart/form-data'}, {'method': 'PUT', 'rel': 'update', 'href': '/modelRepository/models/d07c5412-f72e-49d3-b0ac-2968c2e3b01c/contents/c2fe82e7-0642-4762-ab67-057454bec8f0', 'uri': '/modelRepository/models/d07c5412-f72e-49d3-b0ac-2968c2e3b01c/contents/c2fe82e7-0642-4762-ab67-057454bec8f0', 'type': 'application/vnd.sas.models.model.content'}, {'method': 'PUT', 'rel': 'updateContentMultipart', 'href': '/modelRepository/models/d07c5412-f72e-49d3-b0ac-2968c2e3b01c/contents/c2fe82e7-0642-4762-ab67-057454bec8f0', 'uri': '/modelRepository/models/d07c5412-f72e-49d3-b0ac-2968c2e3b01c/contents/c2fe82e7-0642-4762-ab67-057454bec8f0', 'type': 'application/vnd.sas.models.model.content'}, {'method': 'DELETE', 'rel': 'delete', 'href': '/modelRepository/models/d07c5412-f72e-49d3-b0ac-2968c2e3b01c/contents/c2fe82e7-0642-4762-ab67-057454bec8f0', 'uri': '/modelRepository/models/d07c5412-f72e-49d3-b0ac-2968c2e3b01c/contents/c2fe82e7-0642-4762-ab67-057454bec8f0'}]}, {'creationTimeStamp': '2024-10-30T16:46:54.217618Z', 'createdBy': 'Fabio.Ceruti@sas.com', 'modifiedTimeStamp': '2024-10-30T16:46:54.347336Z', 'modifiedBy': 'Fabio.Ceruti@sas.com', 'version': 2, 'id': '76b8ce87-86e7-497b-89ad-8f3c87881313', 'name': 'score_SK_RandomForest.py', 'role': 'score', 'fileUri': '/files/files/e18eb760-0b76-4580-9840-bd7a407b0eac', 'modelId': 'd07c5412-f72e-49d3-b0ac-2968c2e3b01c', 'links': [{'method': 'GET', 'rel': 'UP', 'href': '/modelRepository/models/d07c5412-f72e-49d3-b0ac-2968c2e3b01c', 'uri': '/modelRepository/models/d07c5412-f72e-49d3-b0ac-2968c2e3b01c', 'itemType': 'application/vnd.sas.models.model.content'}, {'method': 'GET', 'rel': 'self', 'href': '/modelRepository/models/d07c5412-f72e-49d3-b0ac-2968c2e3b01c/contents/76b8ce87-86e7-497b-89ad-8f3c87881313', 'uri': '/modelRepository/models/d07c5412-f72e-49d3-b0ac-2968c2e3b01c/contents/76b8ce87-86e7-497b-89ad-8f3c87881313', 'type': 'application/vnd.sas.models.model.content'}, {'method': 'GET', 'rel': 'content', 'uri': '/modelRepository/models/d07c5412-f72e-49d3-b0ac-2968c2e3b01c/contents/76b8ce87-86e7-497b-89ad-8f3c87881313/content', 'type': 'application/octet-stream'}, {'method': 'POST', 'rel': 'create', 'href': '/modelRepository/models/d07c5412-f72e-49d3-b0ac-2968c2e3b01c/contents/76b8ce87-86e7-497b-89ad-8f3c87881313', 'uri': '/modelRepository/models/d07c5412-f72e-49d3-b0ac-2968c2e3b01c/contents/76b8ce87-86e7-497b-89ad-8f3c87881313', 'type': 'multipart/form-data'}, {'method': 'PUT', 'rel': 'update', 'href': '/modelRepository/models/d07c5412-f72e-49d3-b0ac-2968c2e3b01c/contents/76b8ce87-86e7-497b-89ad-8f3c87881313', 'uri': '/modelRepository/models/d07c5412-f72e-49d3-b0ac-2968c2e3b01c/contents/76b8ce87-86e7-497b-89ad-8f3c87881313', 'type': 'application/vnd.sas.models.model.content'}, {'method': 'PUT', 'rel': 'updateContentMultipart', 'href': '/modelRepository/models/d07c5412-f72e-49d3-b0ac-2968c2e3b01c/contents/76b8ce87-86e7-497b-89ad-8f3c87881313', 'uri': '/modelRepository/models/d07c5412-f72e-49d3-b0ac-2968c2e3b01c/contents/76b8ce87-86e7-497b-89ad-8f3c87881313', 'type': 'application/vnd.sas.models.model.content'}, {'method': 'DELETE', 'rel': 'delete', 'href': '/modelRepository/models/d07c5412-f72e-49d3-b0ac-2968c2e3b01c/contents/76b8ce87-86e7-497b-89ad-8f3c87881313', 'uri': '/modelRepository/models/d07c5412-f72e-49d3-b0ac-2968c2e3b01c/contents/76b8ce87-86e7-497b-89ad-8f3c87881313'}]}, {'creationTimeStamp': '2024-10-30T16:46:54.710487Z', 'createdBy': 'Fabio.Ceruti@sas.com', 'modifiedTimeStamp': '2024-10-30T16:46:54.710488Z', 'modifiedBy': 'Fabio.Ceruti@sas.com', 'version': 2, 'id': '80432d1b-56ec-42b2-a80b-534f8a8dd673', 'name': 'fileMetadata.json', 'fileUri': '/files/files/d30ca6d9-7a34-4ebf-b4e1-28c18208b132', 'modelId': 'd07c5412-f72e-49d3-b0ac-2968c2e3b01c', 'links': [{'method': 'GET', 'rel': 'UP', 'href': '/modelRepository/models/d07c5412-f72e-49d3-b0ac-2968c2e3b01c', 'uri': '/modelRepository/models/d07c5412-f72e-49d3-b0ac-2968c2e3b01c', 'itemType': 'application/vnd.sas.models.model.content'}, {'method': 'GET', 'rel': 'self', 'href': '/modelRepository/models/d07c5412-f72e-49d3-b0ac-2968c2e3b01c/contents/80432d1b-56ec-42b2-a80b-534f8a8dd673', 'uri': '/modelRepository/models/d07c5412-f72e-49d3-b0ac-2968c2e3b01c/contents/80432d1b-56ec-42b2-a80b-534f8a8dd673', 'type': 'application/vnd.sas.models.model.content'}, {'method': 'GET', 'rel': 'content', 'uri': '/modelRepository/models/d07c5412-f72e-49d3-b0ac-2968c2e3b01c/contents/80432d1b-56ec-42b2-a80b-534f8a8dd673/content', 'type': 'application/octet-stream'}, {'method': 'POST', 'rel': 'create', 'href': '/modelRepository/models/d07c5412-f72e-49d3-b0ac-2968c2e3b01c/contents/80432d1b-56ec-42b2-a80b-534f8a8dd673', 'uri': '/modelRepository/models/d07c5412-f72e-49d3-b0ac-2968c2e3b01c/contents/80432d1b-56ec-42b2-a80b-534f8a8dd673', 'type': 'multipart/form-data'}, {'method': 'PUT', 'rel': 'update', 'href': '/modelRepository/models/d07c5412-f72e-49d3-b0ac-2968c2e3b01c/contents/80432d1b-56ec-42b2-a80b-534f8a8dd673', 'uri': '/modelRepository/models/d07c5412-f72e-49d3-b0ac-2968c2e3b01c/contents/80432d1b-56ec-42b2-a80b-534f8a8dd673', 'type': 'application/vnd.sas.models.model.content'}, {'method': 'PUT', 'rel': 'updateContentMultipart', 'href': '/modelRepository/models/d07c5412-f72e-49d3-b0ac-2968c2e3b01c/contents/80432d1b-56ec-42b2-a80b-534f8a8dd673', 'uri': '/modelRepository/models/d07c5412-f72e-49d3-b0ac-2968c2e3b01c/contents/80432d1b-56ec-42b2-a80b-534f8a8dd673', 'type': 'application/vnd.sas.models.model.content'}, {'method': 'DELETE', 'rel': 'delete', 'href': '/modelRepository/models/d07c5412-f72e-49d3-b0ac-2968c2e3b01c/contents/80432d1b-56ec-42b2-a80b-534f8a8dd673', 'uri': '/modelRepository/models/d07c5412-f72e-49d3-b0ac-2968c2e3b01c/contents/80432d1b-56ec-42b2-a80b-534f8a8dd673'}]}], 'inputVariables': [{'creationTimeStamp': '2024-10-30T16:46:53.404222Z', 'createdBy': 'anonymous', 'modifiedTimeStamp': '2024-10-30T16:46:53.404223Z', 'modifiedBy': 'anonymous', 'name': 'CreditLineAge', 'description': '', 'role': 'input', 'type': 'decimal', 'level': 'interval', 'format': '', 'aggregation': '', 'length': 8, 'id': 'cc2e86df-25d5-4bf1-928f-23dbb60b0e3d', 'holderId': 'd07c5412-f72e-49d3-b0ac-2968c2e3b01c', 'links': [{'method': 'GET', 'rel': 'up', 'href': '/modelRepository/models/d07c5412-f72e-49d3-b0ac-2968c2e3b01c/variables/cc2e86df-25d5-4bf1-928f-23dbb60b0e3d', 'uri': '/modelRepository/models/d07c5412-f72e-49d3-b0ac-2968c2e3b01c/variables', 'type': 'application/vnd.sas.collection'}, {'method': 'GET', 'rel': 'self', 'href': '/modelRepository/models/d07c5412-f72e-49d3-b0ac-2968c2e3b01c/variables/cc2e86df-25d5-4bf1-928f-23dbb60b0e3d', 'uri': '/modelRepository/models/d07c5412-f72e-49d3-b0ac-2968c2e3b01c/variables/cc2e86df-25d5-4bf1-928f-23dbb60b0e3d', 'type': 'application/vnd.sas.models.model.variable'}, {'method': 'PUT', 'rel': 'update', 'href': '/modelRepository/models/d07c5412-f72e-49d3-b0ac-2968c2e3b01c/variables/cc2e86df-25d5-4bf1-928f-23dbb60b0e3d', 'uri': '/modelRepository/models/d07c5412-f72e-49d3-b0ac-2968c2e3b01c/variables/cc2e86df-25d5-4bf1-928f-23dbb60b0e3d', 'type': 'application/vnd.sas.models.model.variable'}, {'method': 'DELETE', 'rel': 'delete', 'href': '/modelRepository/models/d07c5412-f72e-49d3-b0ac-2968c2e3b01c/variables/cc2e86df-25d5-4bf1-928f-23dbb60b0e3d', 'uri': '/modelRepository/models/d07c5412-f72e-49d3-b0ac-2968c2e3b01c/variables/cc2e86df-25d5-4bf1-928f-23dbb60b0e3d', 'type': 'application/vnd.sas.models.model.variable'}]}, {'creationTimeStamp': '2024-10-30T16:46:53.485975Z', 'createdBy': 'anonymous', 'modifiedTimeStamp': '2024-10-30T16:46:53.485976Z', 'modifiedBy': 'anonymous', 'name': 'DebtIncRatio', 'description': '', 'role': 'input', 'type': 'decimal', 'level': 'interval', 'format': '', 'aggregation': '', 'length': 8, 'id': 'b690a326-eaed-49ad-bd76-8139e16e4e5d', 'holderId': 'd07c5412-f72e-49d3-b0ac-2968c2e3b01c', 'links': [{'method': 'GET', 'rel': 'up', 'href': '/modelRepository/models/d07c5412-f72e-49d3-b0ac-2968c2e3b01c/variables/b690a326-eaed-49ad-bd76-8139e16e4e5d', 'uri': '/modelRepository/models/d07c5412-f72e-49d3-b0ac-2968c2e3b01c/variables', 'type': 'application/vnd.sas.collection'}, {'method': 'GET', 'rel': 'self', 'href': '/modelRepository/models/d07c5412-f72e-49d3-b0ac-2968c2e3b01c/variables/b690a326-eaed-49ad-bd76-8139e16e4e5d', 'uri': '/modelRepository/models/d07c5412-f72e-49d3-b0ac-2968c2e3b01c/variables/b690a326-eaed-49ad-bd76-8139e16e4e5d', 'type': 'application/vnd.sas.models.model.variable'}, {'method': 'PUT', 'rel': 'update', 'href': '/modelRepository/models/d07c5412-f72e-49d3-b0ac-2968c2e3b01c/variables/b690a326-eaed-49ad-bd76-8139e16e4e5d', 'uri': '/modelRepository/models/d07c5412-f72e-49d3-b0ac-2968c2e3b01c/variables/b690a326-eaed-49ad-bd76-8139e16e4e5d', 'type': 'application/vnd.sas.models.model.variable'}, {'method': 'DELETE', 'rel': 'delete', 'href': '/modelRepository/models/d07c5412-f72e-49d3-b0ac-2968c2e3b01c/variables/b690a326-eaed-49ad-bd76-8139e16e4e5d', 'uri': '/modelRepository/models/d07c5412-f72e-49d3-b0ac-2968c2e3b01c/variables/b690a326-eaed-49ad-bd76-8139e16e4e5d', 'type': 'application/vnd.sas.models.model.variable'}]}, {'creationTimeStamp': '2024-10-30T16:46:53.490543Z', 'createdBy': 'anonymous', 'modifiedTimeStamp': '2024-10-30T16:46:53.490543Z', 'modifiedBy': 'anonymous', 'name': 'FICOScore', 'description': '', 'role': 'input', 'type': 'decimal', 'level': 'interval', 'format': '', 'aggregation': '', 'length': 8, 'id': 'bf464cc6-b56f-4260-b740-34e9c2e1a28c', 'holderId': 'd07c5412-f72e-49d3-b0ac-2968c2e3b01c', 'links': [{'method': 'GET', 'rel': 'up', 'href': '/modelRepository/models/d07c5412-f72e-49d3-b0ac-2968c2e3b01c/variables/bf464cc6-b56f-4260-b740-34e9c2e1a28c', 'uri': '/modelRepository/models/d07c5412-f72e-49d3-b0ac-2968c2e3b01c/variables', 'type': 'application/vnd.sas.collection'}, {'method': 'GET', 'rel': 'self', 'href': '/modelRepository/models/d07c5412-f72e-49d3-b0ac-2968c2e3b01c/variables/bf464cc6-b56f-4260-b740-34e9c2e1a28c', 'uri': '/modelRepository/models/d07c5412-f72e-49d3-b0ac-2968c2e3b01c/variables/bf464cc6-b56f-4260-b740-34e9c2e1a28c', 'type': 'application/vnd.sas.models.model.variable'}, {'method': 'PUT', 'rel': 'update', 'href': '/modelRepository/models/d07c5412-f72e-49d3-b0ac-2968c2e3b01c/variables/bf464cc6-b56f-4260-b740-34e9c2e1a28c', 'uri': '/modelRepository/models/d07c5412-f72e-49d3-b0ac-2968c2e3b01c/variables/bf464cc6-b56f-4260-b740-34e9c2e1a28c', 'type': 'application/vnd.sas.models.model.variable'}, {'method': 'DELETE', 'rel': 'delete', 'href': '/modelRepository/models/d07c5412-f72e-49d3-b0ac-2968c2e3b01c/variables/bf464cc6-b56f-4260-b740-34e9c2e1a28c', 'uri': '/modelRepository/models/d07c5412-f72e-49d3-b0ac-2968c2e3b01c/variables/bf464cc6-b56f-4260-b740-34e9c2e1a28c', 'type': 'application/vnd.sas.models.model.variable'}]}, {'creationTimeStamp': '2024-10-30T16:46:53.496048Z', 'createdBy': 'anonymous', 'modifiedTimeStamp': '2024-10-30T16:46:53.496048Z', 'modifiedBy': 'anonymous', 'name': 'Inquiries6Mnths', 'description': '', 'role': 'input', 'type': 'decimal', 'level': 'interval', 'format': '', 'aggregation': '', 'length': 8, 'id': '98c6e735-a162-40dc-83f7-d0c482687c2b', 'holderId': 'd07c5412-f72e-49d3-b0ac-2968c2e3b01c', 'links': [{'method': 'GET', 'rel': 'up', 'href': '/modelRepository/models/d07c5412-f72e-49d3-b0ac-2968c2e3b01c/variables/98c6e735-a162-40dc-83f7-d0c482687c2b', 'uri': '/modelRepository/models/d07c5412-f72e-49d3-b0ac-2968c2e3b01c/variables', 'type': 'application/vnd.sas.collection'}, {'method': 'GET', 'rel': 'self', 'href': '/modelRepository/models/d07c5412-f72e-49d3-b0ac-2968c2e3b01c/variables/98c6e735-a162-40dc-83f7-d0c482687c2b', 'uri': '/modelRepository/models/d07c5412-f72e-49d3-b0ac-2968c2e3b01c/variables/98c6e735-a162-40dc-83f7-d0c482687c2b', 'type': 'application/vnd.sas.models.model.variable'}, {'method': 'PUT', 'rel': 'update', 'href': '/modelRepository/models/d07c5412-f72e-49d3-b0ac-2968c2e3b01c/variables/98c6e735-a162-40dc-83f7-d0c482687c2b', 'uri': '/modelRepository/models/d07c5412-f72e-49d3-b0ac-2968c2e3b01c/variables/98c6e735-a162-40dc-83f7-d0c482687c2b', 'type': 'application/vnd.sas.models.model.variable'}, {'method': 'DELETE', 'rel': 'delete', 'href': '/modelRepository/models/d07c5412-f72e-49d3-b0ac-2968c2e3b01c/variables/98c6e735-a162-40dc-83f7-d0c482687c2b', 'uri': '/modelRepository/models/d07c5412-f72e-49d3-b0ac-2968c2e3b01c/variables/98c6e735-a162-40dc-83f7-d0c482687c2b', 'type': 'application/vnd.sas.models.model.variable'}]}, {'creationTimeStamp': '2024-10-30T16:46:53.501651Z', 'createdBy': 'anonymous', 'modifiedTimeStamp': '2024-10-30T16:46:53.501651Z', 'modifiedBy': 'anonymous', 'name': 'LogAnnualInc', 'description': '', 'role': 'input', 'type': 'decimal', 'level': 'interval', 'format': '', 'aggregation': '', 'length': 8, 'id': '5d66dd50-4a00-482c-ac75-cc298006c8c5', 'holderId': 'd07c5412-f72e-49d3-b0ac-2968c2e3b01c', 'links': [{'method': 'GET', 'rel': 'up', 'href': '/modelRepository/models/d07c5412-f72e-49d3-b0ac-2968c2e3b01c/variables/5d66dd50-4a00-482c-ac75-cc298006c8c5', 'uri': '/modelRepository/models/d07c5412-f72e-49d3-b0ac-2968c2e3b01c/variables', 'type': 'application/vnd.sas.collection'}, {'method': 'GET', 'rel': 'self', 'href': '/modelRepository/models/d07c5412-f72e-49d3-b0ac-2968c2e3b01c/variables/5d66dd50-4a00-482c-ac75-cc298006c8c5', 'uri': '/modelRepository/models/d07c5412-f72e-49d3-b0ac-2968c2e3b01c/variables/5d66dd50-4a00-482c-ac75-cc298006c8c5', 'type': 'application/vnd.sas.models.model.variable'}, {'method': 'PUT', 'rel': 'update', 'href': '/modelRepository/models/d07c5412-f72e-49d3-b0ac-2968c2e3b01c/variables/5d66dd50-4a00-482c-ac75-cc298006c8c5', 'uri': '/modelRepository/models/d07c5412-f72e-49d3-b0ac-2968c2e3b01c/variables/5d66dd50-4a00-482c-ac75-cc298006c8c5', 'type': 'application/vnd.sas.models.model.variable'}, {'method': 'DELETE', 'rel': 'delete', 'href': '/modelRepository/models/d07c5412-f72e-49d3-b0ac-2968c2e3b01c/variables/5d66dd50-4a00-482c-ac75-cc298006c8c5', 'uri': '/modelRepository/models/d07c5412-f72e-49d3-b0ac-2968c2e3b01c/variables/5d66dd50-4a00-482c-ac75-cc298006c8c5', 'type': 'application/vnd.sas.models.model.variable'}]}, {'creationTimeStamp': '2024-10-30T16:46:53.516549Z', 'createdBy': 'anonymous', 'modifiedTimeStamp': '2024-10-30T16:46:53.516549Z', 'modifiedBy': 'anonymous', 'name': 'RevBalance', 'description': '', 'role': 'input', 'type': 'decimal', 'level': 'interval', 'format': '', 'aggregation': '', 'length': 8, 'id': 'f71fc32a-3806-4559-9b5c-a8ec5b2c4da2', 'holderId': 'd07c5412-f72e-49d3-b0ac-2968c2e3b01c', 'links': [{'method': 'GET', 'rel': 'up', 'href': '/modelRepository/models/d07c5412-f72e-49d3-b0ac-2968c2e3b01c/variables/f71fc32a-3806-4559-9b5c-a8ec5b2c4da2', 'uri': '/modelRepository/models/d07c5412-f72e-49d3-b0ac-2968c2e3b01c/variables', 'type': 'application/vnd.sas.collection'}, {'method': 'GET', 'rel': 'self', 'href': '/modelRepository/models/d07c5412-f72e-49d3-b0ac-2968c2e3b01c/variables/f71fc32a-3806-4559-9b5c-a8ec5b2c4da2', 'uri': '/modelRepository/models/d07c5412-f72e-49d3-b0ac-2968c2e3b01c/variables/f71fc32a-3806-4559-9b5c-a8ec5b2c4da2', 'type': 'application/vnd.sas.models.model.variable'}, {'method': 'PUT', 'rel': 'update', 'href': '/modelRepository/models/d07c5412-f72e-49d3-b0ac-2968c2e3b01c/variables/f71fc32a-3806-4559-9b5c-a8ec5b2c4da2', 'uri': '/modelRepository/models/d07c5412-f72e-49d3-b0ac-2968c2e3b01c/variables/f71fc32a-3806-4559-9b5c-a8ec5b2c4da2', 'type': 'application/vnd.sas.models.model.variable'}, {'method': 'DELETE', 'rel': 'delete', 'href': '/modelRepository/models/d07c5412-f72e-49d3-b0ac-2968c2e3b01c/variables/f71fc32a-3806-4559-9b5c-a8ec5b2c4da2', 'uri': '/modelRepository/models/d07c5412-f72e-49d3-b0ac-2968c2e3b01c/variables/f71fc32a-3806-4559-9b5c-a8ec5b2c4da2', 'type': 'application/vnd.sas.models.model.variable'}]}, {'creationTimeStamp': '2024-10-30T16:46:53.578329Z', 'createdBy': 'anonymous', 'modifiedTimeStamp': '2024-10-30T16:46:53.578329Z', 'modifiedBy': 'anonymous', 'name': 'RevUtilization', 'description': '', 'role': 'input', 'type': 'decimal', 'level': 'interval', 'format': '', 'aggregation': '', 'length': 8, 'id': '17627453-07e0-4764-aa9c-e2a95891a300', 'holderId': 'd07c5412-f72e-49d3-b0ac-2968c2e3b01c', 'links': [{'method': 'GET', 'rel': 'up', 'href': '/modelRepository/models/d07c5412-f72e-49d3-b0ac-2968c2e3b01c/variables/17627453-07e0-4764-aa9c-e2a95891a300', 'uri': '/modelRepository/models/d07c5412-f72e-49d3-b0ac-2968c2e3b01c/variables', 'type': 'application/vnd.sas.collection'}, {'method': 'GET', 'rel': 'self', 'href': '/modelRepository/models/d07c5412-f72e-49d3-b0ac-2968c2e3b01c/variables/17627453-07e0-4764-aa9c-e2a95891a300', 'uri': '/modelRepository/models/d07c5412-f72e-49d3-b0ac-2968c2e3b01c/variables/17627453-07e0-4764-aa9c-e2a95891a300', 'type': 'application/vnd.sas.models.model.variable'}, {'method': 'PUT', 'rel': 'update', 'href': '/modelRepository/models/d07c5412-f72e-49d3-b0ac-2968c2e3b01c/variables/17627453-07e0-4764-aa9c-e2a95891a300', 'uri': '/modelRepository/models/d07c5412-f72e-49d3-b0ac-2968c2e3b01c/variables/17627453-07e0-4764-aa9c-e2a95891a300', 'type': 'application/vnd.sas.models.model.variable'}, {'method': 'DELETE', 'rel': 'delete', 'href': '/modelRepository/models/d07c5412-f72e-49d3-b0ac-2968c2e3b01c/variables/17627453-07e0-4764-aa9c-e2a95891a300', 'uri': '/modelRepository/models/d07c5412-f72e-49d3-b0ac-2968c2e3b01c/variables/17627453-07e0-4764-aa9c-e2a95891a300', 'type': 'application/vnd.sas.models.model.variable'}]}, {'creationTimeStamp': '2024-10-30T16:46:53.582632Z', 'createdBy': 'anonymous', 'modifiedTimeStamp': '2024-10-30T16:46:53.582632Z', 'modifiedBy': 'anonymous', 'name': 'Installment', 'description': '', 'role': 'input', 'type': 'decimal', 'level': 'interval', 'format': '', 'aggregation': '', 'length': 8, 'id': 'b8be3884-62e0-4d42-a019-0079ab4f7e38', 'holderId': 'd07c5412-f72e-49d3-b0ac-2968c2e3b01c', 'links': [{'method': 'GET', 'rel': 'up', 'href': '/modelRepository/models/d07c5412-f72e-49d3-b0ac-2968c2e3b01c/variables/b8be3884-62e0-4d42-a019-0079ab4f7e38', 'uri': '/modelRepository/models/d07c5412-f72e-49d3-b0ac-2968c2e3b01c/variables', 'type': 'application/vnd.sas.collection'}, {'method': 'GET', 'rel': 'self', 'href': '/modelRepository/models/d07c5412-f72e-49d3-b0ac-2968c2e3b01c/variables/b8be3884-62e0-4d42-a019-0079ab4f7e38', 'uri': '/modelRepository/models/d07c5412-f72e-49d3-b0ac-2968c2e3b01c/variables/b8be3884-62e0-4d42-a019-0079ab4f7e38', 'type': 'application/vnd.sas.models.model.variable'}, {'method': 'PUT', 'rel': 'update', 'href': '/modelRepository/models/d07c5412-f72e-49d3-b0ac-2968c2e3b01c/variables/b8be3884-62e0-4d42-a019-0079ab4f7e38', 'uri': '/modelRepository/models/d07c5412-f72e-49d3-b0ac-2968c2e3b01c/variables/b8be3884-62e0-4d42-a019-0079ab4f7e38', 'type': 'application/vnd.sas.models.model.variable'}, {'method': 'DELETE', 'rel': 'delete', 'href': '/modelRepository/models/d07c5412-f72e-49d3-b0ac-2968c2e3b01c/variables/b8be3884-62e0-4d42-a019-0079ab4f7e38', 'uri': '/modelRepository/models/d07c5412-f72e-49d3-b0ac-2968c2e3b01c/variables/b8be3884-62e0-4d42-a019-0079ab4f7e38', 'type': 'application/vnd.sas.models.model.variable'}]}, {'creationTimeStamp': '2024-10-30T16:46:53.586733Z', 'createdBy': 'anonymous', 'modifiedTimeStamp': '2024-10-30T16:46:53.586733Z', 'modifiedBy': 'anonymous', 'name': 'InterestRate', 'description': '', 'role': 'input', 'type': 'decimal', 'level': 'interval', 'format': '', 'aggregation': '', 'length': 8, 'id': '2fd8946a-b45e-474f-b3ab-0e4c0afe50bc', 'holderId': 'd07c5412-f72e-49d3-b0ac-2968c2e3b01c', 'links': [{'method': 'GET', 'rel': 'up', 'href': '/modelRepository/models/d07c5412-f72e-49d3-b0ac-2968c2e3b01c/variables/2fd8946a-b45e-474f-b3ab-0e4c0afe50bc', 'uri': '/modelRepository/models/d07c5412-f72e-49d3-b0ac-2968c2e3b01c/variables', 'type': 'application/vnd.sas.collection'}, {'method': 'GET', 'rel': 'self', 'href': '/modelRepository/models/d07c5412-f72e-49d3-b0ac-2968c2e3b01c/variables/2fd8946a-b45e-474f-b3ab-0e4c0afe50bc', 'uri': '/modelRepository/models/d07c5412-f72e-49d3-b0ac-2968c2e3b01c/variables/2fd8946a-b45e-474f-b3ab-0e4c0afe50bc', 'type': 'application/vnd.sas.models.model.variable'}, {'method': 'PUT', 'rel': 'update', 'href': '/modelRepository/models/d07c5412-f72e-49d3-b0ac-2968c2e3b01c/variables/2fd8946a-b45e-474f-b3ab-0e4c0afe50bc', 'uri': '/modelRepository/models/d07c5412-f72e-49d3-b0ac-2968c2e3b01c/variables/2fd8946a-b45e-474f-b3ab-0e4c0afe50bc', 'type': 'application/vnd.sas.models.model.variable'}, {'method': 'DELETE', 'rel': 'delete', 'href': '/modelRepository/models/d07c5412-f72e-49d3-b0ac-2968c2e3b01c/variables/2fd8946a-b45e-474f-b3ab-0e4c0afe50bc', 'uri': '/modelRepository/models/d07c5412-f72e-49d3-b0ac-2968c2e3b01c/variables/2fd8946a-b45e-474f-b3ab-0e4c0afe50bc', 'type': 'application/vnd.sas.models.model.variable'}]}, {'creationTimeStamp': '2024-10-30T16:46:53.59587Z', 'createdBy': 'anonymous', 'modifiedTimeStamp': '2024-10-30T16:46:53.59587Z', 'modifiedBy': 'anonymous', 'name': 'CreditPolicy', 'description': '', 'role': 'input', 'type': 'decimal', 'level': 'interval', 'format': '', 'aggregation': '', 'length': 8, 'id': 'daa524d5-1c3d-45f9-9a7b-87a2d62fbef1', 'holderId': 'd07c5412-f72e-49d3-b0ac-2968c2e3b01c', 'links': [{'method': 'GET', 'rel': 'up', 'href': '/modelRepository/models/d07c5412-f72e-49d3-b0ac-2968c2e3b01c/variables/daa524d5-1c3d-45f9-9a7b-87a2d62fbef1', 'uri': '/modelRepository/models/d07c5412-f72e-49d3-b0ac-2968c2e3b01c/variables', 'type': 'application/vnd.sas.collection'}, {'method': 'GET', 'rel': 'self', 'href': '/modelRepository/models/d07c5412-f72e-49d3-b0ac-2968c2e3b01c/variables/daa524d5-1c3d-45f9-9a7b-87a2d62fbef1', 'uri': '/modelRepository/models/d07c5412-f72e-49d3-b0ac-2968c2e3b01c/variables/daa524d5-1c3d-45f9-9a7b-87a2d62fbef1', 'type': 'application/vnd.sas.models.model.variable'}, {'method': 'PUT', 'rel': 'update', 'href': '/modelRepository/models/d07c5412-f72e-49d3-b0ac-2968c2e3b01c/variables/daa524d5-1c3d-45f9-9a7b-87a2d62fbef1', 'uri': '/modelRepository/models/d07c5412-f72e-49d3-b0ac-2968c2e3b01c/variables/daa524d5-1c3d-45f9-9a7b-87a2d62fbef1', 'type': 'application/vnd.sas.models.model.variable'}, {'method': 'DELETE', 'rel': 'delete', 'href': '/modelRepository/models/d07c5412-f72e-49d3-b0ac-2968c2e3b01c/variables/daa524d5-1c3d-45f9-9a7b-87a2d62fbef1', 'uri': '/modelRepository/models/d07c5412-f72e-49d3-b0ac-2968c2e3b01c/variables/daa524d5-1c3d-45f9-9a7b-87a2d62fbef1', 'type': 'application/vnd.sas.models.model.variable'}]}, {'creationTimeStamp': '2024-10-30T16:46:53.620234Z', 'createdBy': 'anonymous', 'modifiedTimeStamp': '2024-10-30T16:46:53.620235Z', 'modifiedBy': 'anonymous', 'name': 'Delinquencies2Yrs', 'description': '', 'role': 'input', 'type': 'decimal', 'level': 'interval', 'format': '', 'aggregation': '', 'length': 8, 'id': '81bc75c8-bd1c-48d4-9bdb-3be12dc80b25', 'holderId': 'd07c5412-f72e-49d3-b0ac-2968c2e3b01c', 'links': [{'method': 'GET', 'rel': 'up', 'href': '/modelRepository/models/d07c5412-f72e-49d3-b0ac-2968c2e3b01c/variables/81bc75c8-bd1c-48d4-9bdb-3be12dc80b25', 'uri': '/modelRepository/models/d07c5412-f72e-49d3-b0ac-2968c2e3b01c/variables', 'type': 'application/vnd.sas.collection'}, {'method': 'GET', 'rel': 'self', 'href': '/modelRepository/models/d07c5412-f72e-49d3-b0ac-2968c2e3b01c/variables/81bc75c8-bd1c-48d4-9bdb-3be12dc80b25', 'uri': '/modelRepository/models/d07c5412-f72e-49d3-b0ac-2968c2e3b01c/variables/81bc75c8-bd1c-48d4-9bdb-3be12dc80b25', 'type': 'application/vnd.sas.models.model.variable'}, {'method': 'PUT', 'rel': 'update', 'href': '/modelRepository/models/d07c5412-f72e-49d3-b0ac-2968c2e3b01c/variables/81bc75c8-bd1c-48d4-9bdb-3be12dc80b25', 'uri': '/modelRepository/models/d07c5412-f72e-49d3-b0ac-2968c2e3b01c/variables/81bc75c8-bd1c-48d4-9bdb-3be12dc80b25', 'type': 'application/vnd.sas.models.model.variable'}, {'method': 'DELETE', 'rel': 'delete', 'href': '/modelRepository/models/d07c5412-f72e-49d3-b0ac-2968c2e3b01c/variables/81bc75c8-bd1c-48d4-9bdb-3be12dc80b25', 'uri': '/modelRepository/models/d07c5412-f72e-49d3-b0ac-2968c2e3b01c/variables/81bc75c8-bd1c-48d4-9bdb-3be12dc80b25', 'type': 'application/vnd.sas.models.model.variable'}]}, {'creationTimeStamp': '2024-10-30T16:46:53.649395Z', 'createdBy': 'anonymous', 'modifiedTimeStamp': '2024-10-30T16:46:53.649395Z', 'modifiedBy': 'anonymous', 'name': 'PublicRecord', 'description': '', 'role': 'input', 'type': 'decimal', 'level': 'interval', 'format': '', 'aggregation': '', 'length': 8, 'id': '8ff6efc7-fc86-4c74-9b88-0f0c8573f5b8', 'holderId': 'd07c5412-f72e-49d3-b0ac-2968c2e3b01c', 'links': [{'method': 'GET', 'rel': 'up', 'href': '/modelRepository/models/d07c5412-f72e-49d3-b0ac-2968c2e3b01c/variables/8ff6efc7-fc86-4c74-9b88-0f0c8573f5b8', 'uri': '/modelRepository/models/d07c5412-f72e-49d3-b0ac-2968c2e3b01c/variables', 'type': 'application/vnd.sas.collection'}, {'method': 'GET', 'rel': 'self', 'href': '/modelRepository/models/d07c5412-f72e-49d3-b0ac-2968c2e3b01c/variables/8ff6efc7-fc86-4c74-9b88-0f0c8573f5b8', 'uri': '/modelRepository/models/d07c5412-f72e-49d3-b0ac-2968c2e3b01c/variables/8ff6efc7-fc86-4c74-9b88-0f0c8573f5b8', 'type': 'application/vnd.sas.models.model.variable'}, {'method': 'PUT', 'rel': 'update', 'href': '/modelRepository/models/d07c5412-f72e-49d3-b0ac-2968c2e3b01c/variables/8ff6efc7-fc86-4c74-9b88-0f0c8573f5b8', 'uri': '/modelRepository/models/d07c5412-f72e-49d3-b0ac-2968c2e3b01c/variables/8ff6efc7-fc86-4c74-9b88-0f0c8573f5b8', 'type': 'application/vnd.sas.models.model.variable'}, {'method': 'DELETE', 'rel': 'delete', 'href': '/modelRepository/models/d07c5412-f72e-49d3-b0ac-2968c2e3b01c/variables/8ff6efc7-fc86-4c74-9b88-0f0c8573f5b8', 'uri': '/modelRepository/models/d07c5412-f72e-49d3-b0ac-2968c2e3b01c/variables/8ff6efc7-fc86-4c74-9b88-0f0c8573f5b8', 'type': 'application/vnd.sas.models.model.variable'}]}, {'creationTimeStamp': '2024-10-30T16:46:53.653377Z', 'createdBy': 'anonymous', 'modifiedTimeStamp': '2024-10-30T16:46:53.653378Z', 'modifiedBy': 'anonymous', 'name': 'Purpose', 'description': '', 'role': 'input', 'type': 'decimal', 'level': 'interval', 'format': '', 'aggregation': '', 'length': 8, 'id': '6cc2d1f1-b77a-40fd-8d94-507833828813', 'holderId': 'd07c5412-f72e-49d3-b0ac-2968c2e3b01c', 'links': [{'method': 'GET', 'rel': 'up', 'href': '/modelRepository/models/d07c5412-f72e-49d3-b0ac-2968c2e3b01c/variables/6cc2d1f1-b77a-40fd-8d94-507833828813', 'uri': '/modelRepository/models/d07c5412-f72e-49d3-b0ac-2968c2e3b01c/variables', 'type': 'application/vnd.sas.collection'}, {'method': 'GET', 'rel': 'self', 'href': '/modelRepository/models/d07c5412-f72e-49d3-b0ac-2968c2e3b01c/variables/6cc2d1f1-b77a-40fd-8d94-507833828813', 'uri': '/modelRepository/models/d07c5412-f72e-49d3-b0ac-2968c2e3b01c/variables/6cc2d1f1-b77a-40fd-8d94-507833828813', 'type': 'application/vnd.sas.models.model.variable'}, {'method': 'PUT', 'rel': 'update', 'href': '/modelRepository/models/d07c5412-f72e-49d3-b0ac-2968c2e3b01c/variables/6cc2d1f1-b77a-40fd-8d94-507833828813', 'uri': '/modelRepository/models/d07c5412-f72e-49d3-b0ac-2968c2e3b01c/variables/6cc2d1f1-b77a-40fd-8d94-507833828813', 'type': 'application/vnd.sas.models.model.variable'}, {'method': 'DELETE', 'rel': 'delete', 'href': '/modelRepository/models/d07c5412-f72e-49d3-b0ac-2968c2e3b01c/variables/6cc2d1f1-b77a-40fd-8d94-507833828813', 'uri': '/modelRepository/models/d07c5412-f72e-49d3-b0ac-2968c2e3b01c/variables/6cc2d1f1-b77a-40fd-8d94-507833828813', 'type': 'application/vnd.sas.models.model.variable'}]}], 'outputVariables': [{'creationTimeStamp': '2024-10-30T16:46:53.913794Z', 'createdBy': 'anonymous', 'modifiedTimeStamp': '2024-10-30T16:46:53.913794Z', 'modifiedBy': 'anonymous', 'name': 'I_Default', 'description': '', 'role': 'output', 'type': 'string', 'level': 'nominal', 'format': '', 'aggregation': '', 'length': 1, 'id': 'f213e40a-e0db-4da7-9833-dbad59efb985', 'holderId': 'd07c5412-f72e-49d3-b0ac-2968c2e3b01c', 'links': [{'method': 'GET', 'rel': 'up', 'href': '/modelRepository/models/d07c5412-f72e-49d3-b0ac-2968c2e3b01c/variables/f213e40a-e0db-4da7-9833-dbad59efb985', 'uri': '/modelRepository/models/d07c5412-f72e-49d3-b0ac-2968c2e3b01c/variables', 'type': 'application/vnd.sas.collection'}, {'method': 'GET', 'rel': 'self', 'href': '/modelRepository/models/d07c5412-f72e-49d3-b0ac-2968c2e3b01c/variables/f213e40a-e0db-4da7-9833-dbad59efb985', 'uri': '/modelRepository/models/d07c5412-f72e-49d3-b0ac-2968c2e3b01c/variables/f213e40a-e0db-4da7-9833-dbad59efb985', 'type': 'application/vnd.sas.models.model.variable'}, {'method': 'PUT', 'rel': 'update', 'href': '/modelRepository/models/d07c5412-f72e-49d3-b0ac-2968c2e3b01c/variables/f213e40a-e0db-4da7-9833-dbad59efb985', 'uri': '/modelRepository/models/d07c5412-f72e-49d3-b0ac-2968c2e3b01c/variables/f213e40a-e0db-4da7-9833-dbad59efb985', 'type': 'application/vnd.sas.models.model.variable'}, {'method': 'DELETE', 'rel': 'delete', 'href': '/modelRepository/models/d07c5412-f72e-49d3-b0ac-2968c2e3b01c/variables/f213e40a-e0db-4da7-9833-dbad59efb985', 'uri': '/modelRepository/models/d07c5412-f72e-49d3-b0ac-2968c2e3b01c/variables/f213e40a-e0db-4da7-9833-dbad59efb985', 'type': 'application/vnd.sas.models.model.variable'}]}, {'creationTimeStamp': '2024-10-30T16:46:53.978819Z', 'createdBy': 'anonymous', 'modifiedTimeStamp': '2024-10-30T16:46:53.97882Z', 'modifiedBy': 'anonymous', 'name': 'P_Default1', 'description': '', 'role': 'output', 'type': 'decimal', 'level': 'interval', 'format': '', 'aggregation': '', 'length': 8, 'id': '7fb7d592-31f3-41ea-819a-8d3b1a077ab6', 'holderId': 'd07c5412-f72e-49d3-b0ac-2968c2e3b01c', 'links': [{'method': 'GET', 'rel': 'up', 'href': '/modelRepository/models/d07c5412-f72e-49d3-b0ac-2968c2e3b01c/variables/7fb7d592-31f3-41ea-819a-8d3b1a077ab6', 'uri': '/modelRepository/models/d07c5412-f72e-49d3-b0ac-2968c2e3b01c/variables', 'type': 'application/vnd.sas.collection'}, {'method': 'GET', 'rel': 'self', 'href': '/modelRepository/models/d07c5412-f72e-49d3-b0ac-2968c2e3b01c/variables/7fb7d592-31f3-41ea-819a-8d3b1a077ab6', 'uri': '/modelRepository/models/d07c5412-f72e-49d3-b0ac-2968c2e3b01c/variables/7fb7d592-31f3-41ea-819a-8d3b1a077ab6', 'type': 'application/vnd.sas.models.model.variable'}, {'method': 'PUT', 'rel': 'update', 'href': '/modelRepository/models/d07c5412-f72e-49d3-b0ac-2968c2e3b01c/variables/7fb7d592-31f3-41ea-819a-8d3b1a077ab6', 'uri': '/modelRepository/models/d07c5412-f72e-49d3-b0ac-2968c2e3b01c/variables/7fb7d592-31f3-41ea-819a-8d3b1a077ab6', 'type': 'application/vnd.sas.models.model.variable'}, {'method': 'DELETE', 'rel': 'delete', 'href': '/modelRepository/models/d07c5412-f72e-49d3-b0ac-2968c2e3b01c/variables/7fb7d592-31f3-41ea-819a-8d3b1a077ab6', 'uri': '/modelRepository/models/d07c5412-f72e-49d3-b0ac-2968c2e3b01c/variables/7fb7d592-31f3-41ea-819a-8d3b1a077ab6', 'type': 'application/vnd.sas.models.model.variable'}]}, {'creationTimeStamp': '2024-10-30T16:46:53.983819Z', 'createdBy': 'anonymous', 'modifiedTimeStamp': '2024-10-30T16:46:53.98382Z', 'modifiedBy': 'anonymous', 'name': 'P_Default0', 'description': '', 'role': 'output', 'type': 'decimal', 'level': 'interval', 'format': '', 'aggregation': '', 'length': 8, 'id': '20a66df3-b3a4-4e1d-b36a-6a3cb10a9511', 'holderId': 'd07c5412-f72e-49d3-b0ac-2968c2e3b01c', 'links': [{'method': 'GET', 'rel': 'up', 'href': '/modelRepository/models/d07c5412-f72e-49d3-b0ac-2968c2e3b01c/variables/20a66df3-b3a4-4e1d-b36a-6a3cb10a9511', 'uri': '/modelRepository/models/d07c5412-f72e-49d3-b0ac-2968c2e3b01c/variables', 'type': 'application/vnd.sas.collection'}, {'method': 'GET', 'rel': 'self', 'href': '/modelRepository/models/d07c5412-f72e-49d3-b0ac-2968c2e3b01c/variables/20a66df3-b3a4-4e1d-b36a-6a3cb10a9511', 'uri': '/modelRepository/models/d07c5412-f72e-49d3-b0ac-2968c2e3b01c/variables/20a66df3-b3a4-4e1d-b36a-6a3cb10a9511', 'type': 'application/vnd.sas.models.model.variable'}, {'method': 'PUT', 'rel': 'update', 'href': '/modelRepository/models/d07c5412-f72e-49d3-b0ac-2968c2e3b01c/variables/20a66df3-b3a4-4e1d-b36a-6a3cb10a9511', 'uri': '/modelRepository/models/d07c5412-f72e-49d3-b0ac-2968c2e3b01c/variables/20a66df3-b3a4-4e1d-b36a-6a3cb10a9511', 'type': 'application/vnd.sas.models.model.variable'}, {'method': 'DELETE', 'rel': 'delete', 'href': '/modelRepository/models/d07c5412-f72e-49d3-b0ac-2968c2e3b01c/variables/20a66df3-b3a4-4e1d-b36a-6a3cb10a9511', 'uri': '/modelRepository/models/d07c5412-f72e-49d3-b0ac-2968c2e3b01c/variables/20a66df3-b3a4-4e1d-b36a-6a3cb10a9511', 'type': 'application/vnd.sas.models.model.variable'}]}], 'modelVersions': [], 'modelLocks': None, 'globalTags': ['ProductManagement', 'Active', 'TrustworthyAI', 'MitigateBias', 'SAS', 'PythonAPI', 'TAI', 'Home_Equity_Loans', 'HMEQ', 'Loans'], 'links': [{'method': 'GET', 'rel': 'up', 'href': '/modelRepository/models', 'uri': '/modelRepository/models', 'type': 'application/vnd.sas.models.model'}, {'method': 'GET', 'rel': 'self', 'href': '/modelRepository/models/d07c5412-f72e-49d3-b0ac-2968c2e3b01c', 'uri': '/modelRepository/models/d07c5412-f72e-49d3-b0ac-2968c2e3b01c', 'type': 'application/vnd.sas.models.model'}, {'method': 'PUT', 'rel': 'update', 'href': '/modelRepository/models/d07c5412-f72e-49d3-b0ac-2968c2e3b01c', 'uri': '/modelRepository/models/d07c5412-f72e-49d3-b0ac-2968c2e3b01c', 'type': 'application/vnd.sas.models.model', 'responseItemType': 'application/vnd.sas.models.model'}, {'method': 'DELETE', 'rel': 'delete', 'href': '/modelRepository/models/d07c5412-f72e-49d3-b0ac-2968c2e3b01c', 'uri': '/modelRepository/models/d07c5412-f72e-49d3-b0ac-2968c2e3b01c'}, {'method': 'GET', 'rel': 'scoreCode', 'href': '/modelRepository/models/d07c5412-f72e-49d3-b0ac-2968c2e3b01c/code', 'uri': '/modelRepository/models/d07c5412-f72e-49d3-b0ac-2968c2e3b01c/code', 'type': 'text/plain'}, {'method': 'GET', 'rel': 'contents', 'href': '/modelRepository/models/d07c5412-f72e-49d3-b0ac-2968c2e3b01c/contents', 'uri': '/modelRepository/models/d07c5412-f72e-49d3-b0ac-2968c2e3b01c/contents', 'type': 'application/vnd.sas.collection', 'itemType': 'application/vnd.sas.models.model.content'}, {'method': 'GET', 'rel': 'modelVersions', 'href': '/modelRepository/models/d07c5412-f72e-49d3-b0ac-2968c2e3b01c/modelVersions', 'uri': '/modelRepository/models/d07c5412-f72e-49d3-b0ac-2968c2e3b01c/modelVersions', 'type': 'application/vnd.sas.collection', 'responseItemType': 'application/vnd.sas.models.model.version'}, {'method': 'POST', 'rel': 'addModelVersion', 'href': '/modelRepository/models/d07c5412-f72e-49d3-b0ac-2968c2e3b01c/modelVersions', 'uri': '/modelRepository/models/d07c5412-f72e-49d3-b0ac-2968c2e3b01c/modelVersions', 'type': 'application/vnd.sas.models.model.version'}, {'method': 'GET', 'rel': 'variables', 'href': '/modelRepository/models/d07c5412-f72e-49d3-b0ac-2968c2e3b01c/variables', 'uri': '/modelRepository/models/d07c5412-f72e-49d3-b0ac-2968c2e3b01c/variables', 'type': 'application/vnd.sas.collection', 'itemType': 'application/vnd.sas.models.model.variable'}]}),\n",
       " 'artifacts/sk_registration')"
      ]
     },
     "execution_count": 9,
     "metadata": {},
     "output_type": "execute_result"
    }
   ],
   "source": [
    "pzmm.ImportModel.import_model(\n",
    "        model_files=mypath, # Where are the model files?\n",
    "        model_prefix=prefix, # What is the model name?\n",
    "        project=project_name, # What is the project name?\n",
    "        input_data=x_train_prep, # What does example input data look like?\n",
    "        predict_method=[sk_model.predict_proba, [int, int]], # What is the predict method and what does it return?\n",
    "        score_metrics=score_metrics, # What are the output variables?\n",
    "        overwrite_model=True, # Overwrite the model if it already exists?\n",
    "        target_values=[\"0\", \"1\"], # What are the expected values of the target variable?\n",
    "        target_index=1, # What is the index of the target value in target_values?\n",
    "        model_file_name=prefix + \".pkl\", # How was the model file serialized?\n",
    "        missing_values=False # Does the data include missing values?\n",
    "    )"
   ]
  },
  {
   "cell_type": "code",
   "execution_count": null,
   "metadata": {},
   "outputs": [],
   "source": []
  }
 ],
 "metadata": {
  "kernelspec": {
   "display_name": "Python 3",
   "language": "python",
   "name": "python3"
  },
  "language_info": {
   "codemirror_mode": {
    "name": "ipython",
    "version": 3
   },
   "file_extension": ".py",
   "mimetype": "text/x-python",
   "name": "python",
   "nbconvert_exporter": "python",
   "pygments_lexer": "ipython3",
   "version": "3.11.9"
  }
 },
 "nbformat": 4,
 "nbformat_minor": 2
}
