{
 "cells": [
  {
   "cell_type": "markdown",
   "metadata": {},
   "source": [
    "## Registering to Model Manager\n",
    "This notebook exemplifies how to register a model developed in Workbench to Model Manager."
   ]
  },
  {
   "cell_type": "code",
   "execution_count": 1,
   "metadata": {},
   "outputs": [],
   "source": [
    "import json\n",
    "import requests \n",
    "import os\n",
    "import sasviya \n",
    "from sasctl import Session, pzmm\n",
    "from sasctl.services import model_repository as mr\n",
    "import pickle \n",
    "import pandas as pd"
   ]
  },
  {
   "cell_type": "code",
   "execution_count": 2,
   "metadata": {},
   "outputs": [],
   "source": [
    "url = \"https://innovationlab.demo.sas.com/\"\n",
    "\n",
    "def _connect_to_instance(refresh_token, verification):\n",
    "\tauth_url = f\"{url}/SASLogon/oauth/token\"\n",
    "\t# reading long-lived refresh token from txt file\n",
    "\n",
    "\tpayload=f'grant_type=refresh_token&refresh_token={refresh_token}'\n",
    "\theaders = {\n",
    "\t'Accept': 'application/json',\n",
    "\t'Content-Type': 'application/x-www-form-urlencoded',\n",
    "\t'Authorization': 'Basic c2FzLmNsaTo=',\n",
    "\t}\n",
    "\n",
    "\tresponse = requests.request(\"POST\", auth_url, headers=headers, data=payload, verify=verification)\n",
    "\taccess_token = response.json()['access_token']\n",
    "\treturn access_token\n",
    "\n",
    "def _generate_access_token(auth_code, verification): \n",
    "\tserver = f\"{url}/SASLogon/oauth/token\"\n",
    "\n",
    "\tpayload = f'grant_type=authorization_code&code={auth_code}'\n",
    "\theaders = {\n",
    "\t\t'Accept': 'application/json',\n",
    "\t\t'Content-Type': 'application/x-www-form-urlencoded',\n",
    "\t\t'Authorization': 'Basic c2FzLmNsaTo='\n",
    "\t}\n",
    "\n",
    "\tresponse = requests.request(\"POST\", server, headers=headers, data=payload, verify=verification)\n",
    "\n",
    "\t# Parse the response text\n",
    "\tresponse_json = json.loads(response.text)\n",
    "\n",
    "\t# Get the refresh token\n",
    "\trefresh_token = response_json['refresh_token']\n",
    "\treturn refresh_token\n",
    "\n",
    "def get_connection(verify=False):\n",
    "\tif 'refresh_token.txt' not in [i.name for i in os.scandir()]:\n",
    "\t\twith open('refresh_token.txt', 'w') as file:\n",
    "\t\t\tfile.write('test')\n",
    "\tif verify:\n",
    "\t\tos.environ['CAS_CLIENT_SSL_CA_LIST'] = 'innovation_lab.pem'\n",
    "\t\tverify = 'innovation_lab.pem'\n",
    "\ttry:\n",
    "\t\twith open('refresh_token.txt', 'r') as token:\n",
    "\t\t\trefresh_token = token.read()\n",
    "\t\taccess_token = _connect_to_instance(refresh_token, verify)\n",
    "\n",
    "\texcept:\n",
    "\t\tprint(f'{url}/SASLogon/oauth/authorize?client_id=sas.cli&response_type=code')\n",
    "\t\tauth_code = input(f'Please provide your access token by going to {url}/SASLogon/oauth/authorize?client_id=sas.cli&response_type=code:')\n",
    "\t\trefresh_token = _generate_access_token(auth_code, verify)\n",
    "\t\twith open('refresh_token.txt', 'w') as file:\n",
    "\t\t\tfile.write(refresh_token)\n",
    "\t\taccess_token = _connect_to_instance(refresh_token, verify)\n",
    "\t\twith open('access_token.txt', 'w') as file:\n",
    "\t\t\tfile.write(access_token)\n",
    "\tprint('Connected!')\n",
    "\treturn access_token"
   ]
  },
  {
   "cell_type": "code",
   "execution_count": 3,
   "metadata": {},
   "outputs": [
    {
     "name": "stdout",
     "output_type": "stream",
     "text": [
      "Connected!\n"
     ]
    }
   ],
   "source": [
    "access_token = get_connection(verify=True)"
   ]
  },
  {
   "cell_type": "code",
   "execution_count": 4,
   "metadata": {},
   "outputs": [
    {
     "data": {
      "text/plain": [
       "<sasctl.core.Session at 0x7fa76c7147d0>"
      ]
     },
     "execution_count": 4,
     "metadata": {},
     "output_type": "execute_result"
    }
   ],
   "source": [
    "st = Session(url, token=access_token)\n",
    "st"
   ]
  },
  {
   "cell_type": "code",
   "execution_count": 5,
   "metadata": {},
   "outputs": [],
   "source": [
    "project_name = \"Live_SAS_WBWorkshop_Python\"\n",
    "repository_name = \"DMRepository\"\n",
    "\n",
    "repository = mr.get_repository(repository_name)\n",
    "\n",
    "project = mr.get_project(project_name)\n",
    "\n",
    "if project == None:\n",
    "    project = mr.create_project(project_name, repository)"
   ]
  },
  {
   "cell_type": "markdown",
   "metadata": {},
   "source": [
    "### Register sasviya.ml Model"
   ]
  },
  {
   "cell_type": "code",
   "execution_count": 7,
   "metadata": {},
   "outputs": [],
   "source": [
    "model = sasviya.load_model('artifacts/gb_model.pkl')\n",
    "\n",
    "model_params = {\n",
    "    \"name\": \"GB_Model_ViyaML\",\n",
    "    \"projectId\": project.id,\n",
    "    \"type\": \"ASTORE\"\n",
    "}\n",
    "\n",
    "astore = mr.post(\n",
    "    \"/models\",\n",
    "    files={\"files\": (\"model_export.astore\", model.export())},\n",
    "    data=model_params,\n",
    ")"
   ]
  },
  {
   "cell_type": "markdown",
   "metadata": {},
   "source": [
    "### Register Sk-Learn Model"
   ]
  },
  {
   "cell_type": "markdown",
   "metadata": {},
   "source": [
    "Link to Tutorial: https://github.com/sassoftware/python-sasctl/blob/master/examples/pzmm_binary_classification_model_import.ipynb"
   ]
  },
  {
   "cell_type": "code",
   "execution_count": 6,
   "metadata": {},
   "outputs": [
    {
     "name": "stderr",
     "output_type": "stream",
     "text": [
      "/usr/local/lib64/python3.11/site-packages/numpy/core/getlimits.py:549: UserWarning: The value of the smallest subnormal for <class 'numpy.float64'> type is zero.\n",
      "  setattr(self, word, getattr(machar, word).flat[0])\n",
      "/usr/local/lib64/python3.11/site-packages/numpy/core/getlimits.py:89: UserWarning: The value of the smallest subnormal for <class 'numpy.float64'> type is zero.\n",
      "  return self._float_to_str(self.smallest_subnormal)\n",
      "/usr/local/lib64/python3.11/site-packages/numpy/core/getlimits.py:549: UserWarning: The value of the smallest subnormal for <class 'numpy.float32'> type is zero.\n",
      "  setattr(self, word, getattr(machar, word).flat[0])\n",
      "/usr/local/lib64/python3.11/site-packages/numpy/core/getlimits.py:89: UserWarning: The value of the smallest subnormal for <class 'numpy.float32'> type is zero.\n",
      "  return self._float_to_str(self.smallest_subnormal)\n"
     ]
    }
   ],
   "source": [
    "df = pd.read_csv('../../Data/cleaned_data/train_valid_test.csv')\n",
    "train = df[df['_PartInd_']==1].reset_index(drop=True)\n",
    "test = df[df['_PartInd_']==3].reset_index(drop=True)\n",
    "\n",
    "numerical_features = ['CreditLineAge','DebtIncRatio','FICOScore','Inquiries6Mnths',\n",
    "                      'LogAnnualInc','RevBalance','RevUtilization','Installment','InterestRate']\n",
    "categorical_features = ['CreditPolicy','Delinquencies2Yrs','PublicRecord','Purpose']\n",
    "features = numerical_features+categorical_features\n",
    "target = 'Default'\n",
    "\n",
    "with open('artifacts/data_prep.pkl', mode='rb') as f:\n",
    "    data_prep = pickle.load(f)\n",
    "x_train_prep = pd.DataFrame(data_prep.transform(train[features]), columns=features)\n",
    "x_test_prep = pd.DataFrame(data_prep.transform(test[features]), columns=features)\n",
    "\n",
    "with open('artifacts/sk_model.pkl', mode='rb') as f:\n",
    "    sk_model = pickle.load(f)"
   ]
  },
  {
   "cell_type": "code",
   "execution_count": 7,
   "metadata": {},
   "outputs": [],
   "source": [
    "score_metrics = [\"I_Default\", \"P_Default1\", \"P_Default0\"]\n",
    "def write_json_files(data, predict, target, path, prefix):    \n",
    "    # Write input variable mapping to a json file\n",
    "    pzmm.JSONFiles.write_var_json(input_data=data[predict], is_input=True, json_path=path)\n",
    "    \n",
    "    # Set output variables and assign an event threshold, then write output variable mapping\n",
    "    output_var = pd.DataFrame(columns=score_metrics, data=[['1', 0.5, 0.5]]) # data argument includes example expected types for outputs\n",
    "    pzmm.JSONFiles.write_var_json(output_var, is_input=False, json_path=path)\n",
    "    \n",
    "    # Write model properties to a json file\n",
    "    pzmm.JSONFiles.write_model_properties_json(\n",
    "        model_name=prefix, \n",
    "        target_variable=target, # Target variable to make predictions about (BAD in this case)\n",
    "        target_values=[\"1\", \"0\"], # Possible values for the target variable (1 or 0 for binary classification of BAD)\n",
    "        json_path=path, \n",
    "        model_desc=f\"Description for the {prefix} model.\",\n",
    "        model_algorithm=\"\",\n",
    "        modeler=\"faceru\",\n",
    "    )\n",
    "    \n",
    "    # Write model metadata to a json file so that SAS Model Manager can properly identify all model files\n",
    "    pzmm.JSONFiles.write_file_metadata_json(model_prefix=prefix, json_path=path)"
   ]
  },
  {
   "cell_type": "code",
   "execution_count": 8,
   "metadata": {},
   "outputs": [
    {
     "name": "stdout",
     "output_type": "stream",
     "text": [
      "Model SK_GB was successfully pickled and saved to artifacts/sk_registration/SK_GB.pickle.\n",
      "inputVar.json was successfully written and saved to artifacts/sk_registration/inputVar.json\n",
      "outputVar.json was successfully written and saved to artifacts/sk_registration/outputVar.json\n",
      "ModelProperties.json was successfully written and saved to artifacts/sk_registration/ModelProperties.json\n",
      "fileMetadata.json was successfully written and saved to artifacts/sk_registration/fileMetadata.json\n"
     ]
    }
   ],
   "source": [
    "mypath = 'artifacts/sk_registration'\n",
    "prefix = 'SK_GB'\n",
    "if not os.path.isdir(mypath):\n",
    "   os.makedirs(mypath)\n",
    "\n",
    "pzmm.PickleModel.pickle_trained_model(\n",
    "        model_prefix=prefix,\n",
    "        trained_model=sk_model,\n",
    "        pickle_path=mypath\n",
    "    )\n",
    "write_json_files(x_train_prep, features, target, mypath, prefix)"
   ]
  },
  {
   "cell_type": "code",
   "execution_count": 9,
   "metadata": {},
   "outputs": [
    {
     "name": "stderr",
     "output_type": "stream",
     "text": [
      "/workspaces/workshop/.venv/lib64/python3.11/site-packages/sasctl/pzmm/write_score_code.py:1671: UserWarning: Due to the ambiguity of the provided metrics and prediction return types, the score code assumes the return order to be: [classification, probability of event, probability of no event] for a single return. For batch scoring, the return order of the probabilities will mirror their return order in the model.\n",
      "  warn(\n"
     ]
    },
    {
     "name": "stdout",
     "output_type": "stream",
     "text": [
      "Model score code was written successfully to artifacts/sk_registration/score_SK_GB.py and uploaded to SAS Model Manager.\n",
      "All model files were zipped to artifacts/sk_registration.\n"
     ]
    },
    {
     "name": "stderr",
     "output_type": "stream",
     "text": [
      "/workspaces/workshop/.venv/lib64/python3.11/site-packages/sasctl/tasks.py:188: UserWarning: This model's properties are different from the project's. If you want to run a performance definition with this model, the project's properties may need to be updated.\n",
      "  warn(\n"
     ]
    },
    {
     "name": "stdout",
     "output_type": "stream",
     "text": [
      "Model was successfully imported into SAS Model Manager as SK_GB with the following UUID: 496f23c3-7053-4d14-af3f-3268694bf0a2.\n"
     ]
    },
    {
     "data": {
      "text/plain": [
       "(<class 'sasctl.core.RestObj'>(headers={'Date': 'Thu, 31 Oct 2024 17:04:03 GMT', 'Content-Type': 'application/vnd.sas.collection+json; charset=utf-8', 'Transfer-Encoding': 'chunked', 'Connection': 'keep-alive', 'Cache-Control': 'no-cache, no-store, max-age=0, must-revalidate', 'Content-Security-Policy': \"default-src 'self' *; script-src 'self' 'unsafe-inline' 'unsafe-eval' *; style-src 'self' 'unsafe-inline' *; img-src * blob: data:; child-src 'self'  * blob: data: ; frame-ancestors 'self'; form-action 'self';\", 'Expires': '0', 'Pragma': 'no-cache', 'Sas-Service-Response-Flag': 'true', 'Vary': 'Origin', 'X-Content-Type-Options': 'nosniff', 'X-Xss-Protection': '1; mode=block', 'Strict-Transport-Security': 'max-age=63072000; includeSubDomains'}, data={'creationTimeStamp': '2024-10-31T17:04:01.393Z', 'createdBy': 'Fabio.Ceruti@sas.com', 'modifiedTimeStamp': '2024-10-31T17:04:03.342Z', 'modifiedBy': 'Fabio.Ceruti@sas.com', 'id': '496f23c3-7053-4d14-af3f-3268694bf0a2', 'name': 'SK_GB', 'description': 'Description for the SK_GB model.', 'role': 'plain', 'scoreCodeType': 'python', 'function': 'classification', 'modeler': 'faceru', 'modelType': 'python', 'trainCodeType': 'Python', 'eventProbVar': 'P_1', 'targetVariable': 'Default', 'targetEvent': '1', 'targetLevel': 'binary', 'tool': 'Python 3', 'toolVersion': '3.11.9', 'version': 2, 'indirectFolderId': 'a57cea16-aeaf-4ac8-b38a-ad0129f8e0ce', 'repositoryId': 'f8c1b7c4-14dd-41bf-a00f-73650cb55a00', 'projectId': '285cf25b-0ff4-4c54-9f50-faa4a40af6f6', 'projectVersionId': '8793a7d8-e3ee-454c-8905-ddc2fdf47a6c', 'immutable': False, 'folderRef': '/folders/folders/9b8209b3-63ae-4260-9475-b26baf02595f', 'location': '/Model Repositories/DMRepository/Live_SAS_WBWorkshop_Python/Version 1', 'modelVersionName': '1.0', 'projectName': 'Live_SAS_WBWorkshop_Python', 'projectVersionName': 'Version 1', 'projectVersionNum': '1.0', 'files': [{'creationTimeStamp': '2024-10-31T17:04:01.985951Z', 'createdBy': 'Fabio.Ceruti@sas.com', 'modifiedTimeStamp': '2024-10-31T17:04:01.985951Z', 'modifiedBy': 'Fabio.Ceruti@sas.com', 'version': 2, 'id': '4f96b095-7f27-4ac7-b1df-71e30ed186a9', 'name': 'ModelProperties.json', 'fileUri': '/files/files/91a6eea1-612a-419d-9d6a-ca81cde5dc86', 'modelId': '496f23c3-7053-4d14-af3f-3268694bf0a2', 'links': [{'method': 'GET', 'rel': 'UP', 'href': '/modelRepository/models/496f23c3-7053-4d14-af3f-3268694bf0a2', 'uri': '/modelRepository/models/496f23c3-7053-4d14-af3f-3268694bf0a2', 'itemType': 'application/vnd.sas.models.model.content'}, {'method': 'GET', 'rel': 'self', 'href': '/modelRepository/models/496f23c3-7053-4d14-af3f-3268694bf0a2/contents/4f96b095-7f27-4ac7-b1df-71e30ed186a9', 'uri': '/modelRepository/models/496f23c3-7053-4d14-af3f-3268694bf0a2/contents/4f96b095-7f27-4ac7-b1df-71e30ed186a9', 'type': 'application/vnd.sas.models.model.content'}, {'method': 'GET', 'rel': 'content', 'uri': '/modelRepository/models/496f23c3-7053-4d14-af3f-3268694bf0a2/contents/4f96b095-7f27-4ac7-b1df-71e30ed186a9/content', 'type': 'application/octet-stream'}, {'method': 'POST', 'rel': 'create', 'href': '/modelRepository/models/496f23c3-7053-4d14-af3f-3268694bf0a2/contents/4f96b095-7f27-4ac7-b1df-71e30ed186a9', 'uri': '/modelRepository/models/496f23c3-7053-4d14-af3f-3268694bf0a2/contents/4f96b095-7f27-4ac7-b1df-71e30ed186a9', 'type': 'multipart/form-data'}, {'method': 'PUT', 'rel': 'update', 'href': '/modelRepository/models/496f23c3-7053-4d14-af3f-3268694bf0a2/contents/4f96b095-7f27-4ac7-b1df-71e30ed186a9', 'uri': '/modelRepository/models/496f23c3-7053-4d14-af3f-3268694bf0a2/contents/4f96b095-7f27-4ac7-b1df-71e30ed186a9', 'type': 'application/vnd.sas.models.model.content'}, {'method': 'PUT', 'rel': 'updateContentMultipart', 'href': '/modelRepository/models/496f23c3-7053-4d14-af3f-3268694bf0a2/contents/4f96b095-7f27-4ac7-b1df-71e30ed186a9', 'uri': '/modelRepository/models/496f23c3-7053-4d14-af3f-3268694bf0a2/contents/4f96b095-7f27-4ac7-b1df-71e30ed186a9', 'type': 'application/vnd.sas.models.model.content'}, {'method': 'DELETE', 'rel': 'delete', 'href': '/modelRepository/models/496f23c3-7053-4d14-af3f-3268694bf0a2/contents/4f96b095-7f27-4ac7-b1df-71e30ed186a9', 'uri': '/modelRepository/models/496f23c3-7053-4d14-af3f-3268694bf0a2/contents/4f96b095-7f27-4ac7-b1df-71e30ed186a9'}]}, {'creationTimeStamp': '2024-10-31T17:04:02.133015Z', 'createdBy': 'Fabio.Ceruti@sas.com', 'modifiedTimeStamp': '2024-10-31T17:04:03.011355Z', 'modifiedBy': 'Fabio.Ceruti@sas.com', 'version': 2, 'id': '8a815077-473d-4ab5-893b-2cacaa0a2c99', 'name': 'SK_GB.pickle', 'role': 'scoreResource', 'fileUri': '/files/files/a6b80534-6061-4c9e-8e90-c5672595d813', 'modelId': '496f23c3-7053-4d14-af3f-3268694bf0a2', 'links': [{'method': 'GET', 'rel': 'UP', 'href': '/modelRepository/models/496f23c3-7053-4d14-af3f-3268694bf0a2', 'uri': '/modelRepository/models/496f23c3-7053-4d14-af3f-3268694bf0a2', 'itemType': 'application/vnd.sas.models.model.content'}, {'method': 'GET', 'rel': 'self', 'href': '/modelRepository/models/496f23c3-7053-4d14-af3f-3268694bf0a2/contents/8a815077-473d-4ab5-893b-2cacaa0a2c99', 'uri': '/modelRepository/models/496f23c3-7053-4d14-af3f-3268694bf0a2/contents/8a815077-473d-4ab5-893b-2cacaa0a2c99', 'type': 'application/vnd.sas.models.model.content'}, {'method': 'GET', 'rel': 'content', 'uri': '/modelRepository/models/496f23c3-7053-4d14-af3f-3268694bf0a2/contents/8a815077-473d-4ab5-893b-2cacaa0a2c99/content', 'type': 'application/octet-stream'}, {'method': 'POST', 'rel': 'create', 'href': '/modelRepository/models/496f23c3-7053-4d14-af3f-3268694bf0a2/contents/8a815077-473d-4ab5-893b-2cacaa0a2c99', 'uri': '/modelRepository/models/496f23c3-7053-4d14-af3f-3268694bf0a2/contents/8a815077-473d-4ab5-893b-2cacaa0a2c99', 'type': 'multipart/form-data'}, {'method': 'PUT', 'rel': 'update', 'href': '/modelRepository/models/496f23c3-7053-4d14-af3f-3268694bf0a2/contents/8a815077-473d-4ab5-893b-2cacaa0a2c99', 'uri': '/modelRepository/models/496f23c3-7053-4d14-af3f-3268694bf0a2/contents/8a815077-473d-4ab5-893b-2cacaa0a2c99', 'type': 'application/vnd.sas.models.model.content'}, {'method': 'PUT', 'rel': 'updateContentMultipart', 'href': '/modelRepository/models/496f23c3-7053-4d14-af3f-3268694bf0a2/contents/8a815077-473d-4ab5-893b-2cacaa0a2c99', 'uri': '/modelRepository/models/496f23c3-7053-4d14-af3f-3268694bf0a2/contents/8a815077-473d-4ab5-893b-2cacaa0a2c99', 'type': 'application/vnd.sas.models.model.content'}, {'method': 'DELETE', 'rel': 'delete', 'href': '/modelRepository/models/496f23c3-7053-4d14-af3f-3268694bf0a2/contents/8a815077-473d-4ab5-893b-2cacaa0a2c99', 'uri': '/modelRepository/models/496f23c3-7053-4d14-af3f-3268694bf0a2/contents/8a815077-473d-4ab5-893b-2cacaa0a2c99'}]}, {'creationTimeStamp': '2024-10-31T17:04:02.552029Z', 'createdBy': 'Fabio.Ceruti@sas.com', 'modifiedTimeStamp': '2024-10-31T17:04:03.03166Z', 'modifiedBy': 'Fabio.Ceruti@sas.com', 'version': 2, 'id': 'a7ed9140-83f3-4b01-bac8-298fec8688a3', 'name': 'inputVar.json', 'role': 'inputVariables', 'fileUri': '/files/files/e4dba5e8-dce0-4561-8acb-644f0b5b64d6', 'modelId': '496f23c3-7053-4d14-af3f-3268694bf0a2', 'links': [{'method': 'GET', 'rel': 'UP', 'href': '/modelRepository/models/496f23c3-7053-4d14-af3f-3268694bf0a2', 'uri': '/modelRepository/models/496f23c3-7053-4d14-af3f-3268694bf0a2', 'itemType': 'application/vnd.sas.models.model.content'}, {'method': 'GET', 'rel': 'self', 'href': '/modelRepository/models/496f23c3-7053-4d14-af3f-3268694bf0a2/contents/a7ed9140-83f3-4b01-bac8-298fec8688a3', 'uri': '/modelRepository/models/496f23c3-7053-4d14-af3f-3268694bf0a2/contents/a7ed9140-83f3-4b01-bac8-298fec8688a3', 'type': 'application/vnd.sas.models.model.content'}, {'method': 'GET', 'rel': 'content', 'uri': '/modelRepository/models/496f23c3-7053-4d14-af3f-3268694bf0a2/contents/a7ed9140-83f3-4b01-bac8-298fec8688a3/content', 'type': 'application/octet-stream'}, {'method': 'POST', 'rel': 'create', 'href': '/modelRepository/models/496f23c3-7053-4d14-af3f-3268694bf0a2/contents/a7ed9140-83f3-4b01-bac8-298fec8688a3', 'uri': '/modelRepository/models/496f23c3-7053-4d14-af3f-3268694bf0a2/contents/a7ed9140-83f3-4b01-bac8-298fec8688a3', 'type': 'multipart/form-data'}, {'method': 'PUT', 'rel': 'update', 'href': '/modelRepository/models/496f23c3-7053-4d14-af3f-3268694bf0a2/contents/a7ed9140-83f3-4b01-bac8-298fec8688a3', 'uri': '/modelRepository/models/496f23c3-7053-4d14-af3f-3268694bf0a2/contents/a7ed9140-83f3-4b01-bac8-298fec8688a3', 'type': 'application/vnd.sas.models.model.content'}, {'method': 'PUT', 'rel': 'updateContentMultipart', 'href': '/modelRepository/models/496f23c3-7053-4d14-af3f-3268694bf0a2/contents/a7ed9140-83f3-4b01-bac8-298fec8688a3', 'uri': '/modelRepository/models/496f23c3-7053-4d14-af3f-3268694bf0a2/contents/a7ed9140-83f3-4b01-bac8-298fec8688a3', 'type': 'application/vnd.sas.models.model.content'}, {'method': 'DELETE', 'rel': 'delete', 'href': '/modelRepository/models/496f23c3-7053-4d14-af3f-3268694bf0a2/contents/a7ed9140-83f3-4b01-bac8-298fec8688a3', 'uri': '/modelRepository/models/496f23c3-7053-4d14-af3f-3268694bf0a2/contents/a7ed9140-83f3-4b01-bac8-298fec8688a3'}]}, {'creationTimeStamp': '2024-10-31T17:04:02.863138Z', 'createdBy': 'Fabio.Ceruti@sas.com', 'modifiedTimeStamp': '2024-10-31T17:04:03.076498Z', 'modifiedBy': 'Fabio.Ceruti@sas.com', 'version': 2, 'id': 'f272694c-7b09-4bf9-9528-02cc1881c6ed', 'name': 'outputVar.json', 'role': 'outputVariables', 'fileUri': '/files/files/0b7c7fea-513b-4549-92ef-2520feea6df6', 'modelId': '496f23c3-7053-4d14-af3f-3268694bf0a2', 'links': [{'method': 'GET', 'rel': 'UP', 'href': '/modelRepository/models/496f23c3-7053-4d14-af3f-3268694bf0a2', 'uri': '/modelRepository/models/496f23c3-7053-4d14-af3f-3268694bf0a2', 'itemType': 'application/vnd.sas.models.model.content'}, {'method': 'GET', 'rel': 'self', 'href': '/modelRepository/models/496f23c3-7053-4d14-af3f-3268694bf0a2/contents/f272694c-7b09-4bf9-9528-02cc1881c6ed', 'uri': '/modelRepository/models/496f23c3-7053-4d14-af3f-3268694bf0a2/contents/f272694c-7b09-4bf9-9528-02cc1881c6ed', 'type': 'application/vnd.sas.models.model.content'}, {'method': 'GET', 'rel': 'content', 'uri': '/modelRepository/models/496f23c3-7053-4d14-af3f-3268694bf0a2/contents/f272694c-7b09-4bf9-9528-02cc1881c6ed/content', 'type': 'application/octet-stream'}, {'method': 'POST', 'rel': 'create', 'href': '/modelRepository/models/496f23c3-7053-4d14-af3f-3268694bf0a2/contents/f272694c-7b09-4bf9-9528-02cc1881c6ed', 'uri': '/modelRepository/models/496f23c3-7053-4d14-af3f-3268694bf0a2/contents/f272694c-7b09-4bf9-9528-02cc1881c6ed', 'type': 'multipart/form-data'}, {'method': 'PUT', 'rel': 'update', 'href': '/modelRepository/models/496f23c3-7053-4d14-af3f-3268694bf0a2/contents/f272694c-7b09-4bf9-9528-02cc1881c6ed', 'uri': '/modelRepository/models/496f23c3-7053-4d14-af3f-3268694bf0a2/contents/f272694c-7b09-4bf9-9528-02cc1881c6ed', 'type': 'application/vnd.sas.models.model.content'}, {'method': 'PUT', 'rel': 'updateContentMultipart', 'href': '/modelRepository/models/496f23c3-7053-4d14-af3f-3268694bf0a2/contents/f272694c-7b09-4bf9-9528-02cc1881c6ed', 'uri': '/modelRepository/models/496f23c3-7053-4d14-af3f-3268694bf0a2/contents/f272694c-7b09-4bf9-9528-02cc1881c6ed', 'type': 'application/vnd.sas.models.model.content'}, {'method': 'DELETE', 'rel': 'delete', 'href': '/modelRepository/models/496f23c3-7053-4d14-af3f-3268694bf0a2/contents/f272694c-7b09-4bf9-9528-02cc1881c6ed', 'uri': '/modelRepository/models/496f23c3-7053-4d14-af3f-3268694bf0a2/contents/f272694c-7b09-4bf9-9528-02cc1881c6ed'}]}, {'creationTimeStamp': '2024-10-31T17:04:02.995448Z', 'createdBy': 'Fabio.Ceruti@sas.com', 'modifiedTimeStamp': '2024-10-31T17:04:03.089523Z', 'modifiedBy': 'Fabio.Ceruti@sas.com', 'version': 2, 'id': '0797aa81-27b8-4073-8265-587bc2ac0724', 'name': 'score_SK_GB.py', 'role': 'score', 'fileUri': '/files/files/126f74f8-cf70-4d26-9a34-79d171486bca', 'modelId': '496f23c3-7053-4d14-af3f-3268694bf0a2', 'links': [{'method': 'GET', 'rel': 'UP', 'href': '/modelRepository/models/496f23c3-7053-4d14-af3f-3268694bf0a2', 'uri': '/modelRepository/models/496f23c3-7053-4d14-af3f-3268694bf0a2', 'itemType': 'application/vnd.sas.models.model.content'}, {'method': 'GET', 'rel': 'self', 'href': '/modelRepository/models/496f23c3-7053-4d14-af3f-3268694bf0a2/contents/0797aa81-27b8-4073-8265-587bc2ac0724', 'uri': '/modelRepository/models/496f23c3-7053-4d14-af3f-3268694bf0a2/contents/0797aa81-27b8-4073-8265-587bc2ac0724', 'type': 'application/vnd.sas.models.model.content'}, {'method': 'GET', 'rel': 'content', 'uri': '/modelRepository/models/496f23c3-7053-4d14-af3f-3268694bf0a2/contents/0797aa81-27b8-4073-8265-587bc2ac0724/content', 'type': 'application/octet-stream'}, {'method': 'POST', 'rel': 'create', 'href': '/modelRepository/models/496f23c3-7053-4d14-af3f-3268694bf0a2/contents/0797aa81-27b8-4073-8265-587bc2ac0724', 'uri': '/modelRepository/models/496f23c3-7053-4d14-af3f-3268694bf0a2/contents/0797aa81-27b8-4073-8265-587bc2ac0724', 'type': 'multipart/form-data'}, {'method': 'PUT', 'rel': 'update', 'href': '/modelRepository/models/496f23c3-7053-4d14-af3f-3268694bf0a2/contents/0797aa81-27b8-4073-8265-587bc2ac0724', 'uri': '/modelRepository/models/496f23c3-7053-4d14-af3f-3268694bf0a2/contents/0797aa81-27b8-4073-8265-587bc2ac0724', 'type': 'application/vnd.sas.models.model.content'}, {'method': 'PUT', 'rel': 'updateContentMultipart', 'href': '/modelRepository/models/496f23c3-7053-4d14-af3f-3268694bf0a2/contents/0797aa81-27b8-4073-8265-587bc2ac0724', 'uri': '/modelRepository/models/496f23c3-7053-4d14-af3f-3268694bf0a2/contents/0797aa81-27b8-4073-8265-587bc2ac0724', 'type': 'application/vnd.sas.models.model.content'}, {'method': 'DELETE', 'rel': 'delete', 'href': '/modelRepository/models/496f23c3-7053-4d14-af3f-3268694bf0a2/contents/0797aa81-27b8-4073-8265-587bc2ac0724', 'uri': '/modelRepository/models/496f23c3-7053-4d14-af3f-3268694bf0a2/contents/0797aa81-27b8-4073-8265-587bc2ac0724'}]}, {'creationTimeStamp': '2024-10-31T17:04:03.167713Z', 'createdBy': 'Fabio.Ceruti@sas.com', 'modifiedTimeStamp': '2024-10-31T17:04:03.167713Z', 'modifiedBy': 'Fabio.Ceruti@sas.com', 'version': 2, 'id': '11e15655-d8c8-40eb-ac50-d2f9dcba8c11', 'name': 'fileMetadata.json', 'fileUri': '/files/files/8a87564f-2727-401b-b78f-a122fb731e4e', 'modelId': '496f23c3-7053-4d14-af3f-3268694bf0a2', 'links': [{'method': 'GET', 'rel': 'UP', 'href': '/modelRepository/models/496f23c3-7053-4d14-af3f-3268694bf0a2', 'uri': '/modelRepository/models/496f23c3-7053-4d14-af3f-3268694bf0a2', 'itemType': 'application/vnd.sas.models.model.content'}, {'method': 'GET', 'rel': 'self', 'href': '/modelRepository/models/496f23c3-7053-4d14-af3f-3268694bf0a2/contents/11e15655-d8c8-40eb-ac50-d2f9dcba8c11', 'uri': '/modelRepository/models/496f23c3-7053-4d14-af3f-3268694bf0a2/contents/11e15655-d8c8-40eb-ac50-d2f9dcba8c11', 'type': 'application/vnd.sas.models.model.content'}, {'method': 'GET', 'rel': 'content', 'uri': '/modelRepository/models/496f23c3-7053-4d14-af3f-3268694bf0a2/contents/11e15655-d8c8-40eb-ac50-d2f9dcba8c11/content', 'type': 'application/octet-stream'}, {'method': 'POST', 'rel': 'create', 'href': '/modelRepository/models/496f23c3-7053-4d14-af3f-3268694bf0a2/contents/11e15655-d8c8-40eb-ac50-d2f9dcba8c11', 'uri': '/modelRepository/models/496f23c3-7053-4d14-af3f-3268694bf0a2/contents/11e15655-d8c8-40eb-ac50-d2f9dcba8c11', 'type': 'multipart/form-data'}, {'method': 'PUT', 'rel': 'update', 'href': '/modelRepository/models/496f23c3-7053-4d14-af3f-3268694bf0a2/contents/11e15655-d8c8-40eb-ac50-d2f9dcba8c11', 'uri': '/modelRepository/models/496f23c3-7053-4d14-af3f-3268694bf0a2/contents/11e15655-d8c8-40eb-ac50-d2f9dcba8c11', 'type': 'application/vnd.sas.models.model.content'}, {'method': 'PUT', 'rel': 'updateContentMultipart', 'href': '/modelRepository/models/496f23c3-7053-4d14-af3f-3268694bf0a2/contents/11e15655-d8c8-40eb-ac50-d2f9dcba8c11', 'uri': '/modelRepository/models/496f23c3-7053-4d14-af3f-3268694bf0a2/contents/11e15655-d8c8-40eb-ac50-d2f9dcba8c11', 'type': 'application/vnd.sas.models.model.content'}, {'method': 'DELETE', 'rel': 'delete', 'href': '/modelRepository/models/496f23c3-7053-4d14-af3f-3268694bf0a2/contents/11e15655-d8c8-40eb-ac50-d2f9dcba8c11', 'uri': '/modelRepository/models/496f23c3-7053-4d14-af3f-3268694bf0a2/contents/11e15655-d8c8-40eb-ac50-d2f9dcba8c11'}]}], 'inputVariables': [{'creationTimeStamp': '2024-10-31T17:04:02.184613Z', 'createdBy': 'anonymous', 'modifiedTimeStamp': '2024-10-31T17:04:02.184613Z', 'modifiedBy': 'anonymous', 'name': 'CreditLineAge', 'description': '', 'role': 'input', 'type': 'decimal', 'level': 'interval', 'format': '', 'aggregation': '', 'length': 8, 'id': '69d9fb89-d344-478d-8766-647db971295f', 'holderId': '496f23c3-7053-4d14-af3f-3268694bf0a2', 'links': [{'method': 'GET', 'rel': 'up', 'href': '/modelRepository/models/496f23c3-7053-4d14-af3f-3268694bf0a2/variables/69d9fb89-d344-478d-8766-647db971295f', 'uri': '/modelRepository/models/496f23c3-7053-4d14-af3f-3268694bf0a2/variables', 'type': 'application/vnd.sas.collection'}, {'method': 'GET', 'rel': 'self', 'href': '/modelRepository/models/496f23c3-7053-4d14-af3f-3268694bf0a2/variables/69d9fb89-d344-478d-8766-647db971295f', 'uri': '/modelRepository/models/496f23c3-7053-4d14-af3f-3268694bf0a2/variables/69d9fb89-d344-478d-8766-647db971295f', 'type': 'application/vnd.sas.models.model.variable'}, {'method': 'PUT', 'rel': 'update', 'href': '/modelRepository/models/496f23c3-7053-4d14-af3f-3268694bf0a2/variables/69d9fb89-d344-478d-8766-647db971295f', 'uri': '/modelRepository/models/496f23c3-7053-4d14-af3f-3268694bf0a2/variables/69d9fb89-d344-478d-8766-647db971295f', 'type': 'application/vnd.sas.models.model.variable'}, {'method': 'DELETE', 'rel': 'delete', 'href': '/modelRepository/models/496f23c3-7053-4d14-af3f-3268694bf0a2/variables/69d9fb89-d344-478d-8766-647db971295f', 'uri': '/modelRepository/models/496f23c3-7053-4d14-af3f-3268694bf0a2/variables/69d9fb89-d344-478d-8766-647db971295f', 'type': 'application/vnd.sas.models.model.variable'}]}, {'creationTimeStamp': '2024-10-31T17:04:02.239593Z', 'createdBy': 'anonymous', 'modifiedTimeStamp': '2024-10-31T17:04:02.239593Z', 'modifiedBy': 'anonymous', 'name': 'DebtIncRatio', 'description': '', 'role': 'input', 'type': 'decimal', 'level': 'interval', 'format': '', 'aggregation': '', 'length': 8, 'id': '3379dc7e-e5e9-4dc3-a46a-34029840aa1c', 'holderId': '496f23c3-7053-4d14-af3f-3268694bf0a2', 'links': [{'method': 'GET', 'rel': 'up', 'href': '/modelRepository/models/496f23c3-7053-4d14-af3f-3268694bf0a2/variables/3379dc7e-e5e9-4dc3-a46a-34029840aa1c', 'uri': '/modelRepository/models/496f23c3-7053-4d14-af3f-3268694bf0a2/variables', 'type': 'application/vnd.sas.collection'}, {'method': 'GET', 'rel': 'self', 'href': '/modelRepository/models/496f23c3-7053-4d14-af3f-3268694bf0a2/variables/3379dc7e-e5e9-4dc3-a46a-34029840aa1c', 'uri': '/modelRepository/models/496f23c3-7053-4d14-af3f-3268694bf0a2/variables/3379dc7e-e5e9-4dc3-a46a-34029840aa1c', 'type': 'application/vnd.sas.models.model.variable'}, {'method': 'PUT', 'rel': 'update', 'href': '/modelRepository/models/496f23c3-7053-4d14-af3f-3268694bf0a2/variables/3379dc7e-e5e9-4dc3-a46a-34029840aa1c', 'uri': '/modelRepository/models/496f23c3-7053-4d14-af3f-3268694bf0a2/variables/3379dc7e-e5e9-4dc3-a46a-34029840aa1c', 'type': 'application/vnd.sas.models.model.variable'}, {'method': 'DELETE', 'rel': 'delete', 'href': '/modelRepository/models/496f23c3-7053-4d14-af3f-3268694bf0a2/variables/3379dc7e-e5e9-4dc3-a46a-34029840aa1c', 'uri': '/modelRepository/models/496f23c3-7053-4d14-af3f-3268694bf0a2/variables/3379dc7e-e5e9-4dc3-a46a-34029840aa1c', 'type': 'application/vnd.sas.models.model.variable'}]}, {'creationTimeStamp': '2024-10-31T17:04:02.264157Z', 'createdBy': 'anonymous', 'modifiedTimeStamp': '2024-10-31T17:04:02.264158Z', 'modifiedBy': 'anonymous', 'name': 'FICOScore', 'description': '', 'role': 'input', 'type': 'decimal', 'level': 'interval', 'format': '', 'aggregation': '', 'length': 8, 'id': '6ad0a215-9c72-4e6d-91f9-943d6fbb9656', 'holderId': '496f23c3-7053-4d14-af3f-3268694bf0a2', 'links': [{'method': 'GET', 'rel': 'up', 'href': '/modelRepository/models/496f23c3-7053-4d14-af3f-3268694bf0a2/variables/6ad0a215-9c72-4e6d-91f9-943d6fbb9656', 'uri': '/modelRepository/models/496f23c3-7053-4d14-af3f-3268694bf0a2/variables', 'type': 'application/vnd.sas.collection'}, {'method': 'GET', 'rel': 'self', 'href': '/modelRepository/models/496f23c3-7053-4d14-af3f-3268694bf0a2/variables/6ad0a215-9c72-4e6d-91f9-943d6fbb9656', 'uri': '/modelRepository/models/496f23c3-7053-4d14-af3f-3268694bf0a2/variables/6ad0a215-9c72-4e6d-91f9-943d6fbb9656', 'type': 'application/vnd.sas.models.model.variable'}, {'method': 'PUT', 'rel': 'update', 'href': '/modelRepository/models/496f23c3-7053-4d14-af3f-3268694bf0a2/variables/6ad0a215-9c72-4e6d-91f9-943d6fbb9656', 'uri': '/modelRepository/models/496f23c3-7053-4d14-af3f-3268694bf0a2/variables/6ad0a215-9c72-4e6d-91f9-943d6fbb9656', 'type': 'application/vnd.sas.models.model.variable'}, {'method': 'DELETE', 'rel': 'delete', 'href': '/modelRepository/models/496f23c3-7053-4d14-af3f-3268694bf0a2/variables/6ad0a215-9c72-4e6d-91f9-943d6fbb9656', 'uri': '/modelRepository/models/496f23c3-7053-4d14-af3f-3268694bf0a2/variables/6ad0a215-9c72-4e6d-91f9-943d6fbb9656', 'type': 'application/vnd.sas.models.model.variable'}]}, {'creationTimeStamp': '2024-10-31T17:04:02.28071Z', 'createdBy': 'anonymous', 'modifiedTimeStamp': '2024-10-31T17:04:02.28071Z', 'modifiedBy': 'anonymous', 'name': 'Inquiries6Mnths', 'description': '', 'role': 'input', 'type': 'decimal', 'level': 'interval', 'format': '', 'aggregation': '', 'length': 8, 'id': 'cead9f23-65a4-4a9a-8979-1c611f5f3139', 'holderId': '496f23c3-7053-4d14-af3f-3268694bf0a2', 'links': [{'method': 'GET', 'rel': 'up', 'href': '/modelRepository/models/496f23c3-7053-4d14-af3f-3268694bf0a2/variables/cead9f23-65a4-4a9a-8979-1c611f5f3139', 'uri': '/modelRepository/models/496f23c3-7053-4d14-af3f-3268694bf0a2/variables', 'type': 'application/vnd.sas.collection'}, {'method': 'GET', 'rel': 'self', 'href': '/modelRepository/models/496f23c3-7053-4d14-af3f-3268694bf0a2/variables/cead9f23-65a4-4a9a-8979-1c611f5f3139', 'uri': '/modelRepository/models/496f23c3-7053-4d14-af3f-3268694bf0a2/variables/cead9f23-65a4-4a9a-8979-1c611f5f3139', 'type': 'application/vnd.sas.models.model.variable'}, {'method': 'PUT', 'rel': 'update', 'href': '/modelRepository/models/496f23c3-7053-4d14-af3f-3268694bf0a2/variables/cead9f23-65a4-4a9a-8979-1c611f5f3139', 'uri': '/modelRepository/models/496f23c3-7053-4d14-af3f-3268694bf0a2/variables/cead9f23-65a4-4a9a-8979-1c611f5f3139', 'type': 'application/vnd.sas.models.model.variable'}, {'method': 'DELETE', 'rel': 'delete', 'href': '/modelRepository/models/496f23c3-7053-4d14-af3f-3268694bf0a2/variables/cead9f23-65a4-4a9a-8979-1c611f5f3139', 'uri': '/modelRepository/models/496f23c3-7053-4d14-af3f-3268694bf0a2/variables/cead9f23-65a4-4a9a-8979-1c611f5f3139', 'type': 'application/vnd.sas.models.model.variable'}]}, {'creationTimeStamp': '2024-10-31T17:04:02.288641Z', 'createdBy': 'anonymous', 'modifiedTimeStamp': '2024-10-31T17:04:02.288641Z', 'modifiedBy': 'anonymous', 'name': 'LogAnnualInc', 'description': '', 'role': 'input', 'type': 'decimal', 'level': 'interval', 'format': '', 'aggregation': '', 'length': 8, 'id': '7bf7c48e-ec93-40cb-844c-a69d86a2f5ea', 'holderId': '496f23c3-7053-4d14-af3f-3268694bf0a2', 'links': [{'method': 'GET', 'rel': 'up', 'href': '/modelRepository/models/496f23c3-7053-4d14-af3f-3268694bf0a2/variables/7bf7c48e-ec93-40cb-844c-a69d86a2f5ea', 'uri': '/modelRepository/models/496f23c3-7053-4d14-af3f-3268694bf0a2/variables', 'type': 'application/vnd.sas.collection'}, {'method': 'GET', 'rel': 'self', 'href': '/modelRepository/models/496f23c3-7053-4d14-af3f-3268694bf0a2/variables/7bf7c48e-ec93-40cb-844c-a69d86a2f5ea', 'uri': '/modelRepository/models/496f23c3-7053-4d14-af3f-3268694bf0a2/variables/7bf7c48e-ec93-40cb-844c-a69d86a2f5ea', 'type': 'application/vnd.sas.models.model.variable'}, {'method': 'PUT', 'rel': 'update', 'href': '/modelRepository/models/496f23c3-7053-4d14-af3f-3268694bf0a2/variables/7bf7c48e-ec93-40cb-844c-a69d86a2f5ea', 'uri': '/modelRepository/models/496f23c3-7053-4d14-af3f-3268694bf0a2/variables/7bf7c48e-ec93-40cb-844c-a69d86a2f5ea', 'type': 'application/vnd.sas.models.model.variable'}, {'method': 'DELETE', 'rel': 'delete', 'href': '/modelRepository/models/496f23c3-7053-4d14-af3f-3268694bf0a2/variables/7bf7c48e-ec93-40cb-844c-a69d86a2f5ea', 'uri': '/modelRepository/models/496f23c3-7053-4d14-af3f-3268694bf0a2/variables/7bf7c48e-ec93-40cb-844c-a69d86a2f5ea', 'type': 'application/vnd.sas.models.model.variable'}]}, {'creationTimeStamp': '2024-10-31T17:04:02.292703Z', 'createdBy': 'anonymous', 'modifiedTimeStamp': '2024-10-31T17:04:02.292703Z', 'modifiedBy': 'anonymous', 'name': 'RevBalance', 'description': '', 'role': 'input', 'type': 'decimal', 'level': 'interval', 'format': '', 'aggregation': '', 'length': 8, 'id': '9dd3d303-8e89-49b4-ad45-9d48047da709', 'holderId': '496f23c3-7053-4d14-af3f-3268694bf0a2', 'links': [{'method': 'GET', 'rel': 'up', 'href': '/modelRepository/models/496f23c3-7053-4d14-af3f-3268694bf0a2/variables/9dd3d303-8e89-49b4-ad45-9d48047da709', 'uri': '/modelRepository/models/496f23c3-7053-4d14-af3f-3268694bf0a2/variables', 'type': 'application/vnd.sas.collection'}, {'method': 'GET', 'rel': 'self', 'href': '/modelRepository/models/496f23c3-7053-4d14-af3f-3268694bf0a2/variables/9dd3d303-8e89-49b4-ad45-9d48047da709', 'uri': '/modelRepository/models/496f23c3-7053-4d14-af3f-3268694bf0a2/variables/9dd3d303-8e89-49b4-ad45-9d48047da709', 'type': 'application/vnd.sas.models.model.variable'}, {'method': 'PUT', 'rel': 'update', 'href': '/modelRepository/models/496f23c3-7053-4d14-af3f-3268694bf0a2/variables/9dd3d303-8e89-49b4-ad45-9d48047da709', 'uri': '/modelRepository/models/496f23c3-7053-4d14-af3f-3268694bf0a2/variables/9dd3d303-8e89-49b4-ad45-9d48047da709', 'type': 'application/vnd.sas.models.model.variable'}, {'method': 'DELETE', 'rel': 'delete', 'href': '/modelRepository/models/496f23c3-7053-4d14-af3f-3268694bf0a2/variables/9dd3d303-8e89-49b4-ad45-9d48047da709', 'uri': '/modelRepository/models/496f23c3-7053-4d14-af3f-3268694bf0a2/variables/9dd3d303-8e89-49b4-ad45-9d48047da709', 'type': 'application/vnd.sas.models.model.variable'}]}, {'creationTimeStamp': '2024-10-31T17:04:02.297694Z', 'createdBy': 'anonymous', 'modifiedTimeStamp': '2024-10-31T17:04:02.297694Z', 'modifiedBy': 'anonymous', 'name': 'RevUtilization', 'description': '', 'role': 'input', 'type': 'decimal', 'level': 'interval', 'format': '', 'aggregation': '', 'length': 8, 'id': '68cbe91d-9759-4a0c-bfb4-be46bb2e3097', 'holderId': '496f23c3-7053-4d14-af3f-3268694bf0a2', 'links': [{'method': 'GET', 'rel': 'up', 'href': '/modelRepository/models/496f23c3-7053-4d14-af3f-3268694bf0a2/variables/68cbe91d-9759-4a0c-bfb4-be46bb2e3097', 'uri': '/modelRepository/models/496f23c3-7053-4d14-af3f-3268694bf0a2/variables', 'type': 'application/vnd.sas.collection'}, {'method': 'GET', 'rel': 'self', 'href': '/modelRepository/models/496f23c3-7053-4d14-af3f-3268694bf0a2/variables/68cbe91d-9759-4a0c-bfb4-be46bb2e3097', 'uri': '/modelRepository/models/496f23c3-7053-4d14-af3f-3268694bf0a2/variables/68cbe91d-9759-4a0c-bfb4-be46bb2e3097', 'type': 'application/vnd.sas.models.model.variable'}, {'method': 'PUT', 'rel': 'update', 'href': '/modelRepository/models/496f23c3-7053-4d14-af3f-3268694bf0a2/variables/68cbe91d-9759-4a0c-bfb4-be46bb2e3097', 'uri': '/modelRepository/models/496f23c3-7053-4d14-af3f-3268694bf0a2/variables/68cbe91d-9759-4a0c-bfb4-be46bb2e3097', 'type': 'application/vnd.sas.models.model.variable'}, {'method': 'DELETE', 'rel': 'delete', 'href': '/modelRepository/models/496f23c3-7053-4d14-af3f-3268694bf0a2/variables/68cbe91d-9759-4a0c-bfb4-be46bb2e3097', 'uri': '/modelRepository/models/496f23c3-7053-4d14-af3f-3268694bf0a2/variables/68cbe91d-9759-4a0c-bfb4-be46bb2e3097', 'type': 'application/vnd.sas.models.model.variable'}]}, {'creationTimeStamp': '2024-10-31T17:04:02.308307Z', 'createdBy': 'anonymous', 'modifiedTimeStamp': '2024-10-31T17:04:02.308308Z', 'modifiedBy': 'anonymous', 'name': 'Installment', 'description': '', 'role': 'input', 'type': 'decimal', 'level': 'interval', 'format': '', 'aggregation': '', 'length': 8, 'id': '978487a6-cdf8-4840-94dc-72e202132733', 'holderId': '496f23c3-7053-4d14-af3f-3268694bf0a2', 'links': [{'method': 'GET', 'rel': 'up', 'href': '/modelRepository/models/496f23c3-7053-4d14-af3f-3268694bf0a2/variables/978487a6-cdf8-4840-94dc-72e202132733', 'uri': '/modelRepository/models/496f23c3-7053-4d14-af3f-3268694bf0a2/variables', 'type': 'application/vnd.sas.collection'}, {'method': 'GET', 'rel': 'self', 'href': '/modelRepository/models/496f23c3-7053-4d14-af3f-3268694bf0a2/variables/978487a6-cdf8-4840-94dc-72e202132733', 'uri': '/modelRepository/models/496f23c3-7053-4d14-af3f-3268694bf0a2/variables/978487a6-cdf8-4840-94dc-72e202132733', 'type': 'application/vnd.sas.models.model.variable'}, {'method': 'PUT', 'rel': 'update', 'href': '/modelRepository/models/496f23c3-7053-4d14-af3f-3268694bf0a2/variables/978487a6-cdf8-4840-94dc-72e202132733', 'uri': '/modelRepository/models/496f23c3-7053-4d14-af3f-3268694bf0a2/variables/978487a6-cdf8-4840-94dc-72e202132733', 'type': 'application/vnd.sas.models.model.variable'}, {'method': 'DELETE', 'rel': 'delete', 'href': '/modelRepository/models/496f23c3-7053-4d14-af3f-3268694bf0a2/variables/978487a6-cdf8-4840-94dc-72e202132733', 'uri': '/modelRepository/models/496f23c3-7053-4d14-af3f-3268694bf0a2/variables/978487a6-cdf8-4840-94dc-72e202132733', 'type': 'application/vnd.sas.models.model.variable'}]}, {'creationTimeStamp': '2024-10-31T17:04:02.317277Z', 'createdBy': 'anonymous', 'modifiedTimeStamp': '2024-10-31T17:04:02.317277Z', 'modifiedBy': 'anonymous', 'name': 'InterestRate', 'description': '', 'role': 'input', 'type': 'decimal', 'level': 'interval', 'format': '', 'aggregation': '', 'length': 8, 'id': '244a0e5e-df21-4d0c-991f-2073bb2cc76b', 'holderId': '496f23c3-7053-4d14-af3f-3268694bf0a2', 'links': [{'method': 'GET', 'rel': 'up', 'href': '/modelRepository/models/496f23c3-7053-4d14-af3f-3268694bf0a2/variables/244a0e5e-df21-4d0c-991f-2073bb2cc76b', 'uri': '/modelRepository/models/496f23c3-7053-4d14-af3f-3268694bf0a2/variables', 'type': 'application/vnd.sas.collection'}, {'method': 'GET', 'rel': 'self', 'href': '/modelRepository/models/496f23c3-7053-4d14-af3f-3268694bf0a2/variables/244a0e5e-df21-4d0c-991f-2073bb2cc76b', 'uri': '/modelRepository/models/496f23c3-7053-4d14-af3f-3268694bf0a2/variables/244a0e5e-df21-4d0c-991f-2073bb2cc76b', 'type': 'application/vnd.sas.models.model.variable'}, {'method': 'PUT', 'rel': 'update', 'href': '/modelRepository/models/496f23c3-7053-4d14-af3f-3268694bf0a2/variables/244a0e5e-df21-4d0c-991f-2073bb2cc76b', 'uri': '/modelRepository/models/496f23c3-7053-4d14-af3f-3268694bf0a2/variables/244a0e5e-df21-4d0c-991f-2073bb2cc76b', 'type': 'application/vnd.sas.models.model.variable'}, {'method': 'DELETE', 'rel': 'delete', 'href': '/modelRepository/models/496f23c3-7053-4d14-af3f-3268694bf0a2/variables/244a0e5e-df21-4d0c-991f-2073bb2cc76b', 'uri': '/modelRepository/models/496f23c3-7053-4d14-af3f-3268694bf0a2/variables/244a0e5e-df21-4d0c-991f-2073bb2cc76b', 'type': 'application/vnd.sas.models.model.variable'}]}, {'creationTimeStamp': '2024-10-31T17:04:02.321455Z', 'createdBy': 'anonymous', 'modifiedTimeStamp': '2024-10-31T17:04:02.321455Z', 'modifiedBy': 'anonymous', 'name': 'CreditPolicy', 'description': '', 'role': 'input', 'type': 'decimal', 'level': 'interval', 'format': '', 'aggregation': '', 'length': 8, 'id': 'bd169ee7-050c-462f-b498-fe63b86c0fc4', 'holderId': '496f23c3-7053-4d14-af3f-3268694bf0a2', 'links': [{'method': 'GET', 'rel': 'up', 'href': '/modelRepository/models/496f23c3-7053-4d14-af3f-3268694bf0a2/variables/bd169ee7-050c-462f-b498-fe63b86c0fc4', 'uri': '/modelRepository/models/496f23c3-7053-4d14-af3f-3268694bf0a2/variables', 'type': 'application/vnd.sas.collection'}, {'method': 'GET', 'rel': 'self', 'href': '/modelRepository/models/496f23c3-7053-4d14-af3f-3268694bf0a2/variables/bd169ee7-050c-462f-b498-fe63b86c0fc4', 'uri': '/modelRepository/models/496f23c3-7053-4d14-af3f-3268694bf0a2/variables/bd169ee7-050c-462f-b498-fe63b86c0fc4', 'type': 'application/vnd.sas.models.model.variable'}, {'method': 'PUT', 'rel': 'update', 'href': '/modelRepository/models/496f23c3-7053-4d14-af3f-3268694bf0a2/variables/bd169ee7-050c-462f-b498-fe63b86c0fc4', 'uri': '/modelRepository/models/496f23c3-7053-4d14-af3f-3268694bf0a2/variables/bd169ee7-050c-462f-b498-fe63b86c0fc4', 'type': 'application/vnd.sas.models.model.variable'}, {'method': 'DELETE', 'rel': 'delete', 'href': '/modelRepository/models/496f23c3-7053-4d14-af3f-3268694bf0a2/variables/bd169ee7-050c-462f-b498-fe63b86c0fc4', 'uri': '/modelRepository/models/496f23c3-7053-4d14-af3f-3268694bf0a2/variables/bd169ee7-050c-462f-b498-fe63b86c0fc4', 'type': 'application/vnd.sas.models.model.variable'}]}, {'creationTimeStamp': '2024-10-31T17:04:02.325797Z', 'createdBy': 'anonymous', 'modifiedTimeStamp': '2024-10-31T17:04:02.325797Z', 'modifiedBy': 'anonymous', 'name': 'Delinquencies2Yrs', 'description': '', 'role': 'input', 'type': 'decimal', 'level': 'interval', 'format': '', 'aggregation': '', 'length': 8, 'id': 'cc60837c-665c-4e97-9249-34e7a3558696', 'holderId': '496f23c3-7053-4d14-af3f-3268694bf0a2', 'links': [{'method': 'GET', 'rel': 'up', 'href': '/modelRepository/models/496f23c3-7053-4d14-af3f-3268694bf0a2/variables/cc60837c-665c-4e97-9249-34e7a3558696', 'uri': '/modelRepository/models/496f23c3-7053-4d14-af3f-3268694bf0a2/variables', 'type': 'application/vnd.sas.collection'}, {'method': 'GET', 'rel': 'self', 'href': '/modelRepository/models/496f23c3-7053-4d14-af3f-3268694bf0a2/variables/cc60837c-665c-4e97-9249-34e7a3558696', 'uri': '/modelRepository/models/496f23c3-7053-4d14-af3f-3268694bf0a2/variables/cc60837c-665c-4e97-9249-34e7a3558696', 'type': 'application/vnd.sas.models.model.variable'}, {'method': 'PUT', 'rel': 'update', 'href': '/modelRepository/models/496f23c3-7053-4d14-af3f-3268694bf0a2/variables/cc60837c-665c-4e97-9249-34e7a3558696', 'uri': '/modelRepository/models/496f23c3-7053-4d14-af3f-3268694bf0a2/variables/cc60837c-665c-4e97-9249-34e7a3558696', 'type': 'application/vnd.sas.models.model.variable'}, {'method': 'DELETE', 'rel': 'delete', 'href': '/modelRepository/models/496f23c3-7053-4d14-af3f-3268694bf0a2/variables/cc60837c-665c-4e97-9249-34e7a3558696', 'uri': '/modelRepository/models/496f23c3-7053-4d14-af3f-3268694bf0a2/variables/cc60837c-665c-4e97-9249-34e7a3558696', 'type': 'application/vnd.sas.models.model.variable'}]}, {'creationTimeStamp': '2024-10-31T17:04:02.330554Z', 'createdBy': 'anonymous', 'modifiedTimeStamp': '2024-10-31T17:04:02.330554Z', 'modifiedBy': 'anonymous', 'name': 'PublicRecord', 'description': '', 'role': 'input', 'type': 'decimal', 'level': 'interval', 'format': '', 'aggregation': '', 'length': 8, 'id': '0b4063b6-a558-40e0-87a9-a197113449d3', 'holderId': '496f23c3-7053-4d14-af3f-3268694bf0a2', 'links': [{'method': 'GET', 'rel': 'up', 'href': '/modelRepository/models/496f23c3-7053-4d14-af3f-3268694bf0a2/variables/0b4063b6-a558-40e0-87a9-a197113449d3', 'uri': '/modelRepository/models/496f23c3-7053-4d14-af3f-3268694bf0a2/variables', 'type': 'application/vnd.sas.collection'}, {'method': 'GET', 'rel': 'self', 'href': '/modelRepository/models/496f23c3-7053-4d14-af3f-3268694bf0a2/variables/0b4063b6-a558-40e0-87a9-a197113449d3', 'uri': '/modelRepository/models/496f23c3-7053-4d14-af3f-3268694bf0a2/variables/0b4063b6-a558-40e0-87a9-a197113449d3', 'type': 'application/vnd.sas.models.model.variable'}, {'method': 'PUT', 'rel': 'update', 'href': '/modelRepository/models/496f23c3-7053-4d14-af3f-3268694bf0a2/variables/0b4063b6-a558-40e0-87a9-a197113449d3', 'uri': '/modelRepository/models/496f23c3-7053-4d14-af3f-3268694bf0a2/variables/0b4063b6-a558-40e0-87a9-a197113449d3', 'type': 'application/vnd.sas.models.model.variable'}, {'method': 'DELETE', 'rel': 'delete', 'href': '/modelRepository/models/496f23c3-7053-4d14-af3f-3268694bf0a2/variables/0b4063b6-a558-40e0-87a9-a197113449d3', 'uri': '/modelRepository/models/496f23c3-7053-4d14-af3f-3268694bf0a2/variables/0b4063b6-a558-40e0-87a9-a197113449d3', 'type': 'application/vnd.sas.models.model.variable'}]}, {'creationTimeStamp': '2024-10-31T17:04:02.337913Z', 'createdBy': 'anonymous', 'modifiedTimeStamp': '2024-10-31T17:04:02.337913Z', 'modifiedBy': 'anonymous', 'name': 'Purpose', 'description': '', 'role': 'input', 'type': 'decimal', 'level': 'interval', 'format': '', 'aggregation': '', 'length': 8, 'id': 'db2abd92-8f3d-420f-b034-e86922d2bba6', 'holderId': '496f23c3-7053-4d14-af3f-3268694bf0a2', 'links': [{'method': 'GET', 'rel': 'up', 'href': '/modelRepository/models/496f23c3-7053-4d14-af3f-3268694bf0a2/variables/db2abd92-8f3d-420f-b034-e86922d2bba6', 'uri': '/modelRepository/models/496f23c3-7053-4d14-af3f-3268694bf0a2/variables', 'type': 'application/vnd.sas.collection'}, {'method': 'GET', 'rel': 'self', 'href': '/modelRepository/models/496f23c3-7053-4d14-af3f-3268694bf0a2/variables/db2abd92-8f3d-420f-b034-e86922d2bba6', 'uri': '/modelRepository/models/496f23c3-7053-4d14-af3f-3268694bf0a2/variables/db2abd92-8f3d-420f-b034-e86922d2bba6', 'type': 'application/vnd.sas.models.model.variable'}, {'method': 'PUT', 'rel': 'update', 'href': '/modelRepository/models/496f23c3-7053-4d14-af3f-3268694bf0a2/variables/db2abd92-8f3d-420f-b034-e86922d2bba6', 'uri': '/modelRepository/models/496f23c3-7053-4d14-af3f-3268694bf0a2/variables/db2abd92-8f3d-420f-b034-e86922d2bba6', 'type': 'application/vnd.sas.models.model.variable'}, {'method': 'DELETE', 'rel': 'delete', 'href': '/modelRepository/models/496f23c3-7053-4d14-af3f-3268694bf0a2/variables/db2abd92-8f3d-420f-b034-e86922d2bba6', 'uri': '/modelRepository/models/496f23c3-7053-4d14-af3f-3268694bf0a2/variables/db2abd92-8f3d-420f-b034-e86922d2bba6', 'type': 'application/vnd.sas.models.model.variable'}]}], 'outputVariables': [{'creationTimeStamp': '2024-10-31T17:04:02.571379Z', 'createdBy': 'anonymous', 'modifiedTimeStamp': '2024-10-31T17:04:02.571379Z', 'modifiedBy': 'anonymous', 'name': 'I_Default', 'description': '', 'role': 'output', 'type': 'string', 'level': 'nominal', 'format': '', 'aggregation': '', 'length': 1, 'id': 'a7e41eb7-4a35-437d-b135-c2047d40d965', 'holderId': '496f23c3-7053-4d14-af3f-3268694bf0a2', 'links': [{'method': 'GET', 'rel': 'up', 'href': '/modelRepository/models/496f23c3-7053-4d14-af3f-3268694bf0a2/variables/a7e41eb7-4a35-437d-b135-c2047d40d965', 'uri': '/modelRepository/models/496f23c3-7053-4d14-af3f-3268694bf0a2/variables', 'type': 'application/vnd.sas.collection'}, {'method': 'GET', 'rel': 'self', 'href': '/modelRepository/models/496f23c3-7053-4d14-af3f-3268694bf0a2/variables/a7e41eb7-4a35-437d-b135-c2047d40d965', 'uri': '/modelRepository/models/496f23c3-7053-4d14-af3f-3268694bf0a2/variables/a7e41eb7-4a35-437d-b135-c2047d40d965', 'type': 'application/vnd.sas.models.model.variable'}, {'method': 'PUT', 'rel': 'update', 'href': '/modelRepository/models/496f23c3-7053-4d14-af3f-3268694bf0a2/variables/a7e41eb7-4a35-437d-b135-c2047d40d965', 'uri': '/modelRepository/models/496f23c3-7053-4d14-af3f-3268694bf0a2/variables/a7e41eb7-4a35-437d-b135-c2047d40d965', 'type': 'application/vnd.sas.models.model.variable'}, {'method': 'DELETE', 'rel': 'delete', 'href': '/modelRepository/models/496f23c3-7053-4d14-af3f-3268694bf0a2/variables/a7e41eb7-4a35-437d-b135-c2047d40d965', 'uri': '/modelRepository/models/496f23c3-7053-4d14-af3f-3268694bf0a2/variables/a7e41eb7-4a35-437d-b135-c2047d40d965', 'type': 'application/vnd.sas.models.model.variable'}]}, {'creationTimeStamp': '2024-10-31T17:04:02.621494Z', 'createdBy': 'anonymous', 'modifiedTimeStamp': '2024-10-31T17:04:02.621494Z', 'modifiedBy': 'anonymous', 'name': 'P_Default1', 'description': '', 'role': 'output', 'type': 'decimal', 'level': 'interval', 'format': '', 'aggregation': '', 'length': 8, 'id': 'cea7cc30-8ba0-491d-8fac-310211d0fdfc', 'holderId': '496f23c3-7053-4d14-af3f-3268694bf0a2', 'links': [{'method': 'GET', 'rel': 'up', 'href': '/modelRepository/models/496f23c3-7053-4d14-af3f-3268694bf0a2/variables/cea7cc30-8ba0-491d-8fac-310211d0fdfc', 'uri': '/modelRepository/models/496f23c3-7053-4d14-af3f-3268694bf0a2/variables', 'type': 'application/vnd.sas.collection'}, {'method': 'GET', 'rel': 'self', 'href': '/modelRepository/models/496f23c3-7053-4d14-af3f-3268694bf0a2/variables/cea7cc30-8ba0-491d-8fac-310211d0fdfc', 'uri': '/modelRepository/models/496f23c3-7053-4d14-af3f-3268694bf0a2/variables/cea7cc30-8ba0-491d-8fac-310211d0fdfc', 'type': 'application/vnd.sas.models.model.variable'}, {'method': 'PUT', 'rel': 'update', 'href': '/modelRepository/models/496f23c3-7053-4d14-af3f-3268694bf0a2/variables/cea7cc30-8ba0-491d-8fac-310211d0fdfc', 'uri': '/modelRepository/models/496f23c3-7053-4d14-af3f-3268694bf0a2/variables/cea7cc30-8ba0-491d-8fac-310211d0fdfc', 'type': 'application/vnd.sas.models.model.variable'}, {'method': 'DELETE', 'rel': 'delete', 'href': '/modelRepository/models/496f23c3-7053-4d14-af3f-3268694bf0a2/variables/cea7cc30-8ba0-491d-8fac-310211d0fdfc', 'uri': '/modelRepository/models/496f23c3-7053-4d14-af3f-3268694bf0a2/variables/cea7cc30-8ba0-491d-8fac-310211d0fdfc', 'type': 'application/vnd.sas.models.model.variable'}]}, {'creationTimeStamp': '2024-10-31T17:04:02.642877Z', 'createdBy': 'anonymous', 'modifiedTimeStamp': '2024-10-31T17:04:02.642878Z', 'modifiedBy': 'anonymous', 'name': 'P_Default0', 'description': '', 'role': 'output', 'type': 'decimal', 'level': 'interval', 'format': '', 'aggregation': '', 'length': 8, 'id': '97d66f6d-70d3-4dae-937d-d9c69070a4c8', 'holderId': '496f23c3-7053-4d14-af3f-3268694bf0a2', 'links': [{'method': 'GET', 'rel': 'up', 'href': '/modelRepository/models/496f23c3-7053-4d14-af3f-3268694bf0a2/variables/97d66f6d-70d3-4dae-937d-d9c69070a4c8', 'uri': '/modelRepository/models/496f23c3-7053-4d14-af3f-3268694bf0a2/variables', 'type': 'application/vnd.sas.collection'}, {'method': 'GET', 'rel': 'self', 'href': '/modelRepository/models/496f23c3-7053-4d14-af3f-3268694bf0a2/variables/97d66f6d-70d3-4dae-937d-d9c69070a4c8', 'uri': '/modelRepository/models/496f23c3-7053-4d14-af3f-3268694bf0a2/variables/97d66f6d-70d3-4dae-937d-d9c69070a4c8', 'type': 'application/vnd.sas.models.model.variable'}, {'method': 'PUT', 'rel': 'update', 'href': '/modelRepository/models/496f23c3-7053-4d14-af3f-3268694bf0a2/variables/97d66f6d-70d3-4dae-937d-d9c69070a4c8', 'uri': '/modelRepository/models/496f23c3-7053-4d14-af3f-3268694bf0a2/variables/97d66f6d-70d3-4dae-937d-d9c69070a4c8', 'type': 'application/vnd.sas.models.model.variable'}, {'method': 'DELETE', 'rel': 'delete', 'href': '/modelRepository/models/496f23c3-7053-4d14-af3f-3268694bf0a2/variables/97d66f6d-70d3-4dae-937d-d9c69070a4c8', 'uri': '/modelRepository/models/496f23c3-7053-4d14-af3f-3268694bf0a2/variables/97d66f6d-70d3-4dae-937d-d9c69070a4c8', 'type': 'application/vnd.sas.models.model.variable'}]}], 'modelVersions': [], 'modelLocks': None, 'globalTags': ['ProductManagement', 'Active', 'TrustworthyAI', 'MitigateBias', 'SAS', 'PythonAPI', 'TAI', 'Home_Equity_Loans', 'HMEQ', 'Loans'], 'links': [{'method': 'GET', 'rel': 'up', 'href': '/modelRepository/models', 'uri': '/modelRepository/models', 'type': 'application/vnd.sas.models.model'}, {'method': 'GET', 'rel': 'self', 'href': '/modelRepository/models/496f23c3-7053-4d14-af3f-3268694bf0a2', 'uri': '/modelRepository/models/496f23c3-7053-4d14-af3f-3268694bf0a2', 'type': 'application/vnd.sas.models.model'}, {'method': 'PUT', 'rel': 'update', 'href': '/modelRepository/models/496f23c3-7053-4d14-af3f-3268694bf0a2', 'uri': '/modelRepository/models/496f23c3-7053-4d14-af3f-3268694bf0a2', 'type': 'application/vnd.sas.models.model', 'responseItemType': 'application/vnd.sas.models.model'}, {'method': 'DELETE', 'rel': 'delete', 'href': '/modelRepository/models/496f23c3-7053-4d14-af3f-3268694bf0a2', 'uri': '/modelRepository/models/496f23c3-7053-4d14-af3f-3268694bf0a2'}, {'method': 'GET', 'rel': 'scoreCode', 'href': '/modelRepository/models/496f23c3-7053-4d14-af3f-3268694bf0a2/code', 'uri': '/modelRepository/models/496f23c3-7053-4d14-af3f-3268694bf0a2/code', 'type': 'text/plain'}, {'method': 'GET', 'rel': 'contents', 'href': '/modelRepository/models/496f23c3-7053-4d14-af3f-3268694bf0a2/contents', 'uri': '/modelRepository/models/496f23c3-7053-4d14-af3f-3268694bf0a2/contents', 'type': 'application/vnd.sas.collection', 'itemType': 'application/vnd.sas.models.model.content'}, {'method': 'GET', 'rel': 'modelVersions', 'href': '/modelRepository/models/496f23c3-7053-4d14-af3f-3268694bf0a2/modelVersions', 'uri': '/modelRepository/models/496f23c3-7053-4d14-af3f-3268694bf0a2/modelVersions', 'type': 'application/vnd.sas.collection', 'responseItemType': 'application/vnd.sas.models.model.version'}, {'method': 'POST', 'rel': 'addModelVersion', 'href': '/modelRepository/models/496f23c3-7053-4d14-af3f-3268694bf0a2/modelVersions', 'uri': '/modelRepository/models/496f23c3-7053-4d14-af3f-3268694bf0a2/modelVersions', 'type': 'application/vnd.sas.models.model.version'}, {'method': 'GET', 'rel': 'variables', 'href': '/modelRepository/models/496f23c3-7053-4d14-af3f-3268694bf0a2/variables', 'uri': '/modelRepository/models/496f23c3-7053-4d14-af3f-3268694bf0a2/variables', 'type': 'application/vnd.sas.collection', 'itemType': 'application/vnd.sas.models.model.variable'}]}),\n",
       " 'artifacts/sk_registration')"
      ]
     },
     "execution_count": 9,
     "metadata": {},
     "output_type": "execute_result"
    }
   ],
   "source": [
    "pzmm.ImportModel.import_model(\n",
    "        model_files=mypath, # Where are the model files?\n",
    "        model_prefix=prefix, # What is the model name?\n",
    "        project=project_name, # What is the project name?\n",
    "        input_data=x_train_prep, # What does example input data look like?\n",
    "        predict_method=[sk_model.predict_proba, [int, int]], # What is the predict method and what does it return?\n",
    "        score_metrics=score_metrics, # What are the output variables?\n",
    "        overwrite_model=True, # Overwrite the model if it already exists?\n",
    "        target_values=[\"0\", \"1\"], # What are the expected values of the target variable?\n",
    "        target_index=1, # What is the index of the target value in target_values?\n",
    "        model_file_name=prefix + \".pickle\", # How was the model file serialized?\n",
    "        missing_values=False # Does the data include missing values?\n",
    "    )"
   ]
  }
 ],
 "metadata": {
  "kernelspec": {
   "display_name": "Python 3",
   "language": "python",
   "name": "python3"
  },
  "language_info": {
   "codemirror_mode": {
    "name": "ipython",
    "version": 3
   },
   "file_extension": ".py",
   "mimetype": "text/x-python",
   "name": "python",
   "nbconvert_exporter": "python",
   "pygments_lexer": "ipython3",
   "version": "3.11.9"
  }
 },
 "nbformat": 4,
 "nbformat_minor": 2
}
