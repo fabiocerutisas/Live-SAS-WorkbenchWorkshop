{
 "cells": [
  {
   "cell_type": "markdown",
   "metadata": {},
   "source": [
    "## Registering to Model Manager\n",
    "This notebook exemplifies how to register a model developed in Workbench to Model Manager."
   ]
  },
  {
   "cell_type": "code",
   "execution_count": 1,
   "metadata": {},
   "outputs": [],
   "source": [
    "import json\n",
    "import requests \n",
    "import getpass\n",
    "import os\n",
    "import sasviya \n",
    "from sasctl import Session, pzmm\n",
    "from sasctl.services import model_repository as mr\n",
    "import pickle \n",
    "import pandas as pd"
   ]
  },
  {
   "cell_type": "code",
   "execution_count": 2,
   "metadata": {},
   "outputs": [],
   "source": [
    "url = \"https://innovationlab.demo.sas.com/\"\n",
    "\n",
    "def _connect_to_instance(refresh_token, verification):\n",
    "\tauth_url = f\"{url}/SASLogon/oauth/token\"\n",
    "\t# reading long-lived refresh token from txt file\n",
    "\n",
    "\tpayload=f'grant_type=refresh_token&refresh_token={refresh_token}'\n",
    "\theaders = {\n",
    "\t'Accept': 'application/json',\n",
    "\t'Content-Type': 'application/x-www-form-urlencoded',\n",
    "\t'Authorization': 'Basic c2FzLmNsaTo=',\n",
    "\t}\n",
    "\n",
    "\tresponse = requests.request(\"POST\", auth_url, headers=headers, data=payload, verify=verification)\n",
    "\taccess_token = response.json()['access_token']\n",
    "\treturn access_token\n",
    "\n",
    "def _generate_access_token(auth_code, verification): \n",
    "\tserver = f\"{url}/SASLogon/oauth/token\"\n",
    "\n",
    "\tpayload = f'grant_type=authorization_code&code={auth_code}'\n",
    "\theaders = {\n",
    "\t\t'Accept': 'application/json',\n",
    "\t\t'Content-Type': 'application/x-www-form-urlencoded',\n",
    "\t\t'Authorization': 'Basic c2FzLmNsaTo='\n",
    "\t}\n",
    "\n",
    "\tresponse = requests.request(\"POST\", server, headers=headers, data=payload, verify=verification)\n",
    "\n",
    "\t# Parse the response text\n",
    "\tresponse_json = json.loads(response.text)\n",
    "\n",
    "\t# Get the refresh token\n",
    "\trefresh_token = response_json['refresh_token']\n",
    "\treturn refresh_token\n",
    "\n",
    "def get_connection(verify=False):\n",
    "\tif 'refresh_token.txt' not in [i.name for i in os.scandir()]:\n",
    "\t\twith open('refresh_token.txt', 'w') as file:\n",
    "\t\t\tfile.write('test')\n",
    "\tif verify:\n",
    "\t\tos.environ['CAS_CLIENT_SSL_CA_LIST'] = 'innovation_lab.pem'\n",
    "\t\tverify = 'innovation_lab.pem'\n",
    "\ttry:\n",
    "\t\twith open('refresh_token.txt', 'r') as token:\n",
    "\t\t\trefresh_token = token.read()\n",
    "\t\taccess_token = _connect_to_instance(refresh_token, verify)\n",
    "\n",
    "\texcept:\n",
    "\t\tprint(f'{url}/SASLogon/oauth/authorize?client_id=sas.cli&response_type=code')\n",
    "\t\tauth_code = input(f'Please provide your access token by going to {url}/SASLogon/oauth/authorize?client_id=sas.cli&response_type=code:')\n",
    "\t\trefresh_token = _generate_access_token(auth_code, verify)\n",
    "\t\twith open('refresh_token.txt', 'w') as file:\n",
    "\t\t\tfile.write(refresh_token)\n",
    "\t\taccess_token = _connect_to_instance(refresh_token, verify)\n",
    "\t\twith open('access_token.txt', 'w') as file:\n",
    "\t\t\tfile.write(access_token)\n",
    "\tprint('Connected!')\n",
    "\treturn access_token"
   ]
  },
  {
   "cell_type": "code",
   "execution_count": 3,
   "metadata": {},
   "outputs": [
    {
     "name": "stdout",
     "output_type": "stream",
     "text": [
      "Connected!\n"
     ]
    }
   ],
   "source": [
    "access_token = get_connection(verify=True)"
   ]
  },
  {
   "cell_type": "code",
   "execution_count": 4,
   "metadata": {},
   "outputs": [
    {
     "data": {
      "text/plain": [
       "<sasctl.core.Session at 0x7f3829d95710>"
      ]
     },
     "execution_count": 4,
     "metadata": {},
     "output_type": "execute_result"
    }
   ],
   "source": [
    "st = Session(url, token=access_token)\n",
    "st"
   ]
  },
  {
   "cell_type": "code",
   "execution_count": 5,
   "metadata": {},
   "outputs": [],
   "source": [
    "project_name = \"Live_SAS_WBWorkshop_Python\"\n",
    "repository_name = \"DMRepository\"\n",
    "\n",
    "repository = mr.get_repository(repository_name)\n",
    "\n",
    "project = mr.get_project(project_name)\n",
    "\n",
    "if project == None:\n",
    "    project = mr.create_project(project_name, repository)"
   ]
  },
  {
   "cell_type": "markdown",
   "metadata": {},
   "source": [
    "### Register sasviya.ml Model"
   ]
  },
  {
   "cell_type": "code",
   "execution_count": 7,
   "metadata": {},
   "outputs": [],
   "source": [
    "model = sasviya.load_model('artifacts/gb_model.pkl')\n",
    "\n",
    "model_params = {\n",
    "    \"name\": \"GB_Model_ViyaML\",\n",
    "    \"projectId\": project.id,\n",
    "    \"type\": \"ASTORE\"\n",
    "}\n",
    "\n",
    "astore = mr.post(\n",
    "    \"/models\",\n",
    "    files={\"files\": (\"model_export.astore\", model.export())},\n",
    "    data=model_params,\n",
    ")"
   ]
  },
  {
   "cell_type": "markdown",
   "metadata": {},
   "source": [
    "### Register Sk-Learn Model"
   ]
  },
  {
   "cell_type": "markdown",
   "metadata": {},
   "source": [
    "Link to Tutorial: https://github.com/sassoftware/python-sasctl/blob/master/examples/pzmm_binary_classification_model_import.ipynb"
   ]
  },
  {
   "cell_type": "code",
   "execution_count": 6,
   "metadata": {},
   "outputs": [
    {
     "name": "stderr",
     "output_type": "stream",
     "text": [
      "/usr/local/lib64/python3.11/site-packages/numpy/core/getlimits.py:549: UserWarning: The value of the smallest subnormal for <class 'numpy.float64'> type is zero.\n",
      "  setattr(self, word, getattr(machar, word).flat[0])\n",
      "/usr/local/lib64/python3.11/site-packages/numpy/core/getlimits.py:89: UserWarning: The value of the smallest subnormal for <class 'numpy.float64'> type is zero.\n",
      "  return self._float_to_str(self.smallest_subnormal)\n",
      "/usr/local/lib64/python3.11/site-packages/numpy/core/getlimits.py:549: UserWarning: The value of the smallest subnormal for <class 'numpy.float32'> type is zero.\n",
      "  setattr(self, word, getattr(machar, word).flat[0])\n",
      "/usr/local/lib64/python3.11/site-packages/numpy/core/getlimits.py:89: UserWarning: The value of the smallest subnormal for <class 'numpy.float32'> type is zero.\n",
      "  return self._float_to_str(self.smallest_subnormal)\n"
     ]
    }
   ],
   "source": [
    "df = pd.read_csv('../../Data/cleaned_data/train_valid_test.csv')\n",
    "train = df[df['_PartInd_']==1].reset_index(drop=True)\n",
    "test = df[df['_PartInd_']==3].reset_index(drop=True)\n",
    "\n",
    "numerical_features = ['CreditLineAge','DebtIncRatio','FICOScore','Inquiries6Mnths',\n",
    "                      'LogAnnualInc','RevBalance','RevUtilization','Installment','InterestRate']\n",
    "categorical_features = ['CreditPolicy','Delinquencies2Yrs','PublicRecord','Purpose']\n",
    "features = numerical_features+categorical_features\n",
    "target = 'Default'\n",
    "\n",
    "with open('artifacts/data_prep.pkl', mode='rb') as f:\n",
    "    data_prep = pickle.load(f)\n",
    "x_train_prep = pd.DataFrame(data_prep.transform(train[features]), columns=features)\n",
    "x_test_prep = pd.DataFrame(data_prep.transform(test[features]), columns=features)\n",
    "\n",
    "with open('artifacts/sk_model.pkl', mode='rb') as f:\n",
    "    sk_model = pickle.load(f)"
   ]
  },
  {
   "cell_type": "code",
   "execution_count": 7,
   "metadata": {},
   "outputs": [],
   "source": [
    "score_metrics = [\"I_Default\", \"P_Default1\", \"P_Default0\"]\n",
    "def write_json_files(data, predict, target, path, prefix):    \n",
    "    # Write input variable mapping to a json file\n",
    "    pzmm.JSONFiles.write_var_json(input_data=data[predict], is_input=True, json_path=path)\n",
    "    \n",
    "    # Set output variables and assign an event threshold, then write output variable mapping\n",
    "    output_var = pd.DataFrame(columns=score_metrics, data=[['1', 0.5, 0.5]]) # data argument includes example expected types for outputs\n",
    "    pzmm.JSONFiles.write_var_json(output_var, is_input=False, json_path=path)\n",
    "    \n",
    "    # Write model properties to a json file\n",
    "    pzmm.JSONFiles.write_model_properties_json(\n",
    "        model_name=prefix, \n",
    "        target_variable=target, # Target variable to make predictions about (BAD in this case)\n",
    "        target_values=[\"1\", \"0\"], # Possible values for the target variable (1 or 0 for binary classification of BAD)\n",
    "        json_path=path, \n",
    "        model_desc=f\"Description for the {prefix} model.\",\n",
    "        model_algorithm=\"\",\n",
    "        modeler=\"faceru\",\n",
    "    )\n",
    "    \n",
    "    # Write model metadata to a json file so that SAS Model Manager can properly identify all model files\n",
    "    pzmm.JSONFiles.write_file_metadata_json(model_prefix=prefix, json_path=path)"
   ]
  },
  {
   "cell_type": "code",
   "execution_count": 8,
   "metadata": {},
   "outputs": [
    {
     "name": "stdout",
     "output_type": "stream",
     "text": [
      "Model SK_RandomForest_new was successfully pickled and saved to artifacts/sk_registration/SK_RandomForest_new.pickle.\n",
      "inputVar.json was successfully written and saved to artifacts/sk_registration/inputVar.json\n",
      "outputVar.json was successfully written and saved to artifacts/sk_registration/outputVar.json\n",
      "ModelProperties.json was successfully written and saved to artifacts/sk_registration/ModelProperties.json\n",
      "fileMetadata.json was successfully written and saved to artifacts/sk_registration/fileMetadata.json\n"
     ]
    }
   ],
   "source": [
    "mypath = 'artifacts/sk_registration'\n",
    "prefix = 'SK_RandomForest_new'\n",
    "if not os.path.isdir(mypath):\n",
    "   os.makedirs(mypath)\n",
    "\n",
    "pzmm.PickleModel.pickle_trained_model(\n",
    "        model_prefix=prefix,\n",
    "        trained_model=sk_model,\n",
    "        pickle_path=mypath\n",
    "    )\n",
    "write_json_files(x_train_prep, features, target, mypath, prefix)"
   ]
  },
  {
   "cell_type": "code",
   "execution_count": 9,
   "metadata": {},
   "outputs": [
    {
     "name": "stderr",
     "output_type": "stream",
     "text": [
      "/workspaces/workshop/.venv/lib64/python3.11/site-packages/sasctl/pzmm/write_score_code.py:1640: UserWarning: Due to the ambiguity of the provided metrics and prediction return types, the score code assumes the return order to be: [classification, probability of event, probability of no event] for a single return. For batch scoring, the return order of the probabilities will mirror their return order in the model.\n",
      "  warn(\n"
     ]
    },
    {
     "name": "stdout",
     "output_type": "stream",
     "text": [
      "Model score code was written successfully to artifacts/sk_registration/score_SK_RandomForest_new.py and uploaded to SAS Model Manager.\n",
      "All model files were zipped to artifacts/sk_registration.\n"
     ]
    },
    {
     "name": "stderr",
     "output_type": "stream",
     "text": [
      "/workspaces/workshop/.venv/lib64/python3.11/site-packages/sasctl/tasks.py:183: UserWarning: This model's properties are different from the project's. If you want to run a performance definition with this model, the project's properties may need to be updated.\n",
      "  warn(\n"
     ]
    },
    {
     "name": "stdout",
     "output_type": "stream",
     "text": [
      "Model was successfully imported into SAS Model Manager as SK_RandomForest_new with the following UUID: ad82e0fe-2ab7-46de-ae9b-adf02baf2c43.\n"
     ]
    },
    {
     "data": {
      "text/plain": [
       "(<class 'sasctl.core.RestObj'>(headers={'Date': 'Thu, 31 Oct 2024 08:26:30 GMT', 'Content-Type': 'application/vnd.sas.collection+json; charset=utf-8', 'Transfer-Encoding': 'chunked', 'Connection': 'keep-alive', 'Cache-Control': 'no-cache, no-store, max-age=0, must-revalidate', 'Content-Security-Policy': \"default-src 'self' *; script-src 'self' 'unsafe-inline' 'unsafe-eval' *; style-src 'self' 'unsafe-inline' *; img-src * blob: data:; child-src 'self'  * blob: data: ; frame-ancestors 'self'; form-action 'self';\", 'Expires': '0', 'Pragma': 'no-cache', 'Sas-Service-Response-Flag': 'true', 'Vary': 'Origin', 'X-Content-Type-Options': 'nosniff', 'X-Xss-Protection': '1; mode=block', 'Strict-Transport-Security': 'max-age=63072000; includeSubDomains'}, data={'creationTimeStamp': '2024-10-31T08:26:25.434Z', 'createdBy': 'Fabio.Ceruti@sas.com', 'modifiedTimeStamp': '2024-10-31T08:26:30.372Z', 'modifiedBy': 'Fabio.Ceruti@sas.com', 'id': 'ad82e0fe-2ab7-46de-ae9b-adf02baf2c43', 'name': 'SK_RandomForest_new', 'description': 'Description for the SK_RandomForest_new model.', 'role': 'plain', 'scoreCodeType': 'python', 'function': 'classification', 'modeler': 'faceru', 'modelType': 'python', 'trainCodeType': 'Python', 'eventProbVar': 'P_1', 'targetVariable': 'Default', 'targetEvent': '1', 'targetLevel': 'binary', 'tool': 'Python 3', 'toolVersion': '3.11.9', 'version': 2, 'indirectFolderId': 'a57cea16-aeaf-4ac8-b38a-ad0129f8e0ce', 'repositoryId': 'f8c1b7c4-14dd-41bf-a00f-73650cb55a00', 'projectId': '285cf25b-0ff4-4c54-9f50-faa4a40af6f6', 'projectVersionId': '8793a7d8-e3ee-454c-8905-ddc2fdf47a6c', 'immutable': False, 'folderRef': '/folders/folders/0d88c77b-7abf-41fc-b47f-a3686b87fb2e', 'location': '/Model Repositories/DMRepository/Live_SAS_WBWorkshop_Python/Version 1', 'modelVersionName': '1.0', 'projectName': 'Live_SAS_WBWorkshop_Python', 'projectVersionName': 'Version 1', 'projectVersionNum': '1.0', 'files': [{'creationTimeStamp': '2024-10-31T08:26:26.332007Z', 'createdBy': 'Fabio.Ceruti@sas.com', 'modifiedTimeStamp': '2024-10-31T08:26:26.332008Z', 'modifiedBy': 'Fabio.Ceruti@sas.com', 'version': 2, 'id': '6d3e5941-eccf-4269-aed1-35ad810b3486', 'name': 'ModelProperties.json', 'fileUri': '/files/files/5887966f-2f54-455d-88f1-0de66f33fcd4', 'modelId': 'ad82e0fe-2ab7-46de-ae9b-adf02baf2c43', 'links': [{'method': 'GET', 'rel': 'UP', 'href': '/modelRepository/models/ad82e0fe-2ab7-46de-ae9b-adf02baf2c43', 'uri': '/modelRepository/models/ad82e0fe-2ab7-46de-ae9b-adf02baf2c43', 'itemType': 'application/vnd.sas.models.model.content'}, {'method': 'GET', 'rel': 'self', 'href': '/modelRepository/models/ad82e0fe-2ab7-46de-ae9b-adf02baf2c43/contents/6d3e5941-eccf-4269-aed1-35ad810b3486', 'uri': '/modelRepository/models/ad82e0fe-2ab7-46de-ae9b-adf02baf2c43/contents/6d3e5941-eccf-4269-aed1-35ad810b3486', 'type': 'application/vnd.sas.models.model.content'}, {'method': 'GET', 'rel': 'content', 'uri': '/modelRepository/models/ad82e0fe-2ab7-46de-ae9b-adf02baf2c43/contents/6d3e5941-eccf-4269-aed1-35ad810b3486/content', 'type': 'application/octet-stream'}, {'method': 'POST', 'rel': 'create', 'href': '/modelRepository/models/ad82e0fe-2ab7-46de-ae9b-adf02baf2c43/contents/6d3e5941-eccf-4269-aed1-35ad810b3486', 'uri': '/modelRepository/models/ad82e0fe-2ab7-46de-ae9b-adf02baf2c43/contents/6d3e5941-eccf-4269-aed1-35ad810b3486', 'type': 'multipart/form-data'}, {'method': 'PUT', 'rel': 'update', 'href': '/modelRepository/models/ad82e0fe-2ab7-46de-ae9b-adf02baf2c43/contents/6d3e5941-eccf-4269-aed1-35ad810b3486', 'uri': '/modelRepository/models/ad82e0fe-2ab7-46de-ae9b-adf02baf2c43/contents/6d3e5941-eccf-4269-aed1-35ad810b3486', 'type': 'application/vnd.sas.models.model.content'}, {'method': 'PUT', 'rel': 'updateContentMultipart', 'href': '/modelRepository/models/ad82e0fe-2ab7-46de-ae9b-adf02baf2c43/contents/6d3e5941-eccf-4269-aed1-35ad810b3486', 'uri': '/modelRepository/models/ad82e0fe-2ab7-46de-ae9b-adf02baf2c43/contents/6d3e5941-eccf-4269-aed1-35ad810b3486', 'type': 'application/vnd.sas.models.model.content'}, {'method': 'DELETE', 'rel': 'delete', 'href': '/modelRepository/models/ad82e0fe-2ab7-46de-ae9b-adf02baf2c43/contents/6d3e5941-eccf-4269-aed1-35ad810b3486', 'uri': '/modelRepository/models/ad82e0fe-2ab7-46de-ae9b-adf02baf2c43/contents/6d3e5941-eccf-4269-aed1-35ad810b3486'}]}, {'creationTimeStamp': '2024-10-31T08:26:29.234361Z', 'createdBy': 'Fabio.Ceruti@sas.com', 'modifiedTimeStamp': '2024-10-31T08:26:29.881631Z', 'modifiedBy': 'Fabio.Ceruti@sas.com', 'version': 2, 'id': '195dc4c7-155b-4bbc-9246-ffd32442d2b7', 'name': 'inputVar.json', 'role': 'inputVariables', 'fileUri': '/files/files/320bc6ff-a8ac-4323-aff1-e9dbad879fff', 'modelId': 'ad82e0fe-2ab7-46de-ae9b-adf02baf2c43', 'links': [{'method': 'GET', 'rel': 'UP', 'href': '/modelRepository/models/ad82e0fe-2ab7-46de-ae9b-adf02baf2c43', 'uri': '/modelRepository/models/ad82e0fe-2ab7-46de-ae9b-adf02baf2c43', 'itemType': 'application/vnd.sas.models.model.content'}, {'method': 'GET', 'rel': 'self', 'href': '/modelRepository/models/ad82e0fe-2ab7-46de-ae9b-adf02baf2c43/contents/195dc4c7-155b-4bbc-9246-ffd32442d2b7', 'uri': '/modelRepository/models/ad82e0fe-2ab7-46de-ae9b-adf02baf2c43/contents/195dc4c7-155b-4bbc-9246-ffd32442d2b7', 'type': 'application/vnd.sas.models.model.content'}, {'method': 'GET', 'rel': 'content', 'uri': '/modelRepository/models/ad82e0fe-2ab7-46de-ae9b-adf02baf2c43/contents/195dc4c7-155b-4bbc-9246-ffd32442d2b7/content', 'type': 'application/octet-stream'}, {'method': 'POST', 'rel': 'create', 'href': '/modelRepository/models/ad82e0fe-2ab7-46de-ae9b-adf02baf2c43/contents/195dc4c7-155b-4bbc-9246-ffd32442d2b7', 'uri': '/modelRepository/models/ad82e0fe-2ab7-46de-ae9b-adf02baf2c43/contents/195dc4c7-155b-4bbc-9246-ffd32442d2b7', 'type': 'multipart/form-data'}, {'method': 'PUT', 'rel': 'update', 'href': '/modelRepository/models/ad82e0fe-2ab7-46de-ae9b-adf02baf2c43/contents/195dc4c7-155b-4bbc-9246-ffd32442d2b7', 'uri': '/modelRepository/models/ad82e0fe-2ab7-46de-ae9b-adf02baf2c43/contents/195dc4c7-155b-4bbc-9246-ffd32442d2b7', 'type': 'application/vnd.sas.models.model.content'}, {'method': 'PUT', 'rel': 'updateContentMultipart', 'href': '/modelRepository/models/ad82e0fe-2ab7-46de-ae9b-adf02baf2c43/contents/195dc4c7-155b-4bbc-9246-ffd32442d2b7', 'uri': '/modelRepository/models/ad82e0fe-2ab7-46de-ae9b-adf02baf2c43/contents/195dc4c7-155b-4bbc-9246-ffd32442d2b7', 'type': 'application/vnd.sas.models.model.content'}, {'method': 'DELETE', 'rel': 'delete', 'href': '/modelRepository/models/ad82e0fe-2ab7-46de-ae9b-adf02baf2c43/contents/195dc4c7-155b-4bbc-9246-ffd32442d2b7', 'uri': '/modelRepository/models/ad82e0fe-2ab7-46de-ae9b-adf02baf2c43/contents/195dc4c7-155b-4bbc-9246-ffd32442d2b7'}]}, {'creationTimeStamp': '2024-10-31T08:26:29.738659Z', 'createdBy': 'Fabio.Ceruti@sas.com', 'modifiedTimeStamp': '2024-10-31T08:26:29.908045Z', 'modifiedBy': 'Fabio.Ceruti@sas.com', 'version': 2, 'id': '56a1a3be-8d08-40b4-a399-6e9fb62f764a', 'name': 'outputVar.json', 'role': 'outputVariables', 'fileUri': '/files/files/8590e84b-88e5-45be-a9bd-379a7c747e3d', 'modelId': 'ad82e0fe-2ab7-46de-ae9b-adf02baf2c43', 'links': [{'method': 'GET', 'rel': 'UP', 'href': '/modelRepository/models/ad82e0fe-2ab7-46de-ae9b-adf02baf2c43', 'uri': '/modelRepository/models/ad82e0fe-2ab7-46de-ae9b-adf02baf2c43', 'itemType': 'application/vnd.sas.models.model.content'}, {'method': 'GET', 'rel': 'self', 'href': '/modelRepository/models/ad82e0fe-2ab7-46de-ae9b-adf02baf2c43/contents/56a1a3be-8d08-40b4-a399-6e9fb62f764a', 'uri': '/modelRepository/models/ad82e0fe-2ab7-46de-ae9b-adf02baf2c43/contents/56a1a3be-8d08-40b4-a399-6e9fb62f764a', 'type': 'application/vnd.sas.models.model.content'}, {'method': 'GET', 'rel': 'content', 'uri': '/modelRepository/models/ad82e0fe-2ab7-46de-ae9b-adf02baf2c43/contents/56a1a3be-8d08-40b4-a399-6e9fb62f764a/content', 'type': 'application/octet-stream'}, {'method': 'POST', 'rel': 'create', 'href': '/modelRepository/models/ad82e0fe-2ab7-46de-ae9b-adf02baf2c43/contents/56a1a3be-8d08-40b4-a399-6e9fb62f764a', 'uri': '/modelRepository/models/ad82e0fe-2ab7-46de-ae9b-adf02baf2c43/contents/56a1a3be-8d08-40b4-a399-6e9fb62f764a', 'type': 'multipart/form-data'}, {'method': 'PUT', 'rel': 'update', 'href': '/modelRepository/models/ad82e0fe-2ab7-46de-ae9b-adf02baf2c43/contents/56a1a3be-8d08-40b4-a399-6e9fb62f764a', 'uri': '/modelRepository/models/ad82e0fe-2ab7-46de-ae9b-adf02baf2c43/contents/56a1a3be-8d08-40b4-a399-6e9fb62f764a', 'type': 'application/vnd.sas.models.model.content'}, {'method': 'PUT', 'rel': 'updateContentMultipart', 'href': '/modelRepository/models/ad82e0fe-2ab7-46de-ae9b-adf02baf2c43/contents/56a1a3be-8d08-40b4-a399-6e9fb62f764a', 'uri': '/modelRepository/models/ad82e0fe-2ab7-46de-ae9b-adf02baf2c43/contents/56a1a3be-8d08-40b4-a399-6e9fb62f764a', 'type': 'application/vnd.sas.models.model.content'}, {'method': 'DELETE', 'rel': 'delete', 'href': '/modelRepository/models/ad82e0fe-2ab7-46de-ae9b-adf02baf2c43/contents/56a1a3be-8d08-40b4-a399-6e9fb62f764a', 'uri': '/modelRepository/models/ad82e0fe-2ab7-46de-ae9b-adf02baf2c43/contents/56a1a3be-8d08-40b4-a399-6e9fb62f764a'}]}, {'creationTimeStamp': '2024-10-31T08:26:29.858138Z', 'createdBy': 'Fabio.Ceruti@sas.com', 'modifiedTimeStamp': '2024-10-31T08:26:29.91193Z', 'modifiedBy': 'Fabio.Ceruti@sas.com', 'version': 2, 'id': 'a9adf4fb-1746-4163-af0a-3821ff5714ec', 'name': 'score_SK_RandomForest_new.py', 'role': 'score', 'fileUri': '/files/files/c18b2bd9-eb54-40ce-a56d-8c137aaaf466', 'modelId': 'ad82e0fe-2ab7-46de-ae9b-adf02baf2c43', 'links': [{'method': 'GET', 'rel': 'UP', 'href': '/modelRepository/models/ad82e0fe-2ab7-46de-ae9b-adf02baf2c43', 'uri': '/modelRepository/models/ad82e0fe-2ab7-46de-ae9b-adf02baf2c43', 'itemType': 'application/vnd.sas.models.model.content'}, {'method': 'GET', 'rel': 'self', 'href': '/modelRepository/models/ad82e0fe-2ab7-46de-ae9b-adf02baf2c43/contents/a9adf4fb-1746-4163-af0a-3821ff5714ec', 'uri': '/modelRepository/models/ad82e0fe-2ab7-46de-ae9b-adf02baf2c43/contents/a9adf4fb-1746-4163-af0a-3821ff5714ec', 'type': 'application/vnd.sas.models.model.content'}, {'method': 'GET', 'rel': 'content', 'uri': '/modelRepository/models/ad82e0fe-2ab7-46de-ae9b-adf02baf2c43/contents/a9adf4fb-1746-4163-af0a-3821ff5714ec/content', 'type': 'application/octet-stream'}, {'method': 'POST', 'rel': 'create', 'href': '/modelRepository/models/ad82e0fe-2ab7-46de-ae9b-adf02baf2c43/contents/a9adf4fb-1746-4163-af0a-3821ff5714ec', 'uri': '/modelRepository/models/ad82e0fe-2ab7-46de-ae9b-adf02baf2c43/contents/a9adf4fb-1746-4163-af0a-3821ff5714ec', 'type': 'multipart/form-data'}, {'method': 'PUT', 'rel': 'update', 'href': '/modelRepository/models/ad82e0fe-2ab7-46de-ae9b-adf02baf2c43/contents/a9adf4fb-1746-4163-af0a-3821ff5714ec', 'uri': '/modelRepository/models/ad82e0fe-2ab7-46de-ae9b-adf02baf2c43/contents/a9adf4fb-1746-4163-af0a-3821ff5714ec', 'type': 'application/vnd.sas.models.model.content'}, {'method': 'PUT', 'rel': 'updateContentMultipart', 'href': '/modelRepository/models/ad82e0fe-2ab7-46de-ae9b-adf02baf2c43/contents/a9adf4fb-1746-4163-af0a-3821ff5714ec', 'uri': '/modelRepository/models/ad82e0fe-2ab7-46de-ae9b-adf02baf2c43/contents/a9adf4fb-1746-4163-af0a-3821ff5714ec', 'type': 'application/vnd.sas.models.model.content'}, {'method': 'DELETE', 'rel': 'delete', 'href': '/modelRepository/models/ad82e0fe-2ab7-46de-ae9b-adf02baf2c43/contents/a9adf4fb-1746-4163-af0a-3821ff5714ec', 'uri': '/modelRepository/models/ad82e0fe-2ab7-46de-ae9b-adf02baf2c43/contents/a9adf4fb-1746-4163-af0a-3821ff5714ec'}]}, {'creationTimeStamp': '2024-10-31T08:26:30.213756Z', 'createdBy': 'Fabio.Ceruti@sas.com', 'modifiedTimeStamp': '2024-10-31T08:26:30.213756Z', 'modifiedBy': 'Fabio.Ceruti@sas.com', 'version': 2, 'id': 'eb6388c5-9cae-448f-ba6e-7406462771cc', 'name': 'fileMetadata.json', 'fileUri': '/files/files/1ccff7e7-de3f-4e94-acb7-5ee7b0306142', 'modelId': 'ad82e0fe-2ab7-46de-ae9b-adf02baf2c43', 'links': [{'method': 'GET', 'rel': 'UP', 'href': '/modelRepository/models/ad82e0fe-2ab7-46de-ae9b-adf02baf2c43', 'uri': '/modelRepository/models/ad82e0fe-2ab7-46de-ae9b-adf02baf2c43', 'itemType': 'application/vnd.sas.models.model.content'}, {'method': 'GET', 'rel': 'self', 'href': '/modelRepository/models/ad82e0fe-2ab7-46de-ae9b-adf02baf2c43/contents/eb6388c5-9cae-448f-ba6e-7406462771cc', 'uri': '/modelRepository/models/ad82e0fe-2ab7-46de-ae9b-adf02baf2c43/contents/eb6388c5-9cae-448f-ba6e-7406462771cc', 'type': 'application/vnd.sas.models.model.content'}, {'method': 'GET', 'rel': 'content', 'uri': '/modelRepository/models/ad82e0fe-2ab7-46de-ae9b-adf02baf2c43/contents/eb6388c5-9cae-448f-ba6e-7406462771cc/content', 'type': 'application/octet-stream'}, {'method': 'POST', 'rel': 'create', 'href': '/modelRepository/models/ad82e0fe-2ab7-46de-ae9b-adf02baf2c43/contents/eb6388c5-9cae-448f-ba6e-7406462771cc', 'uri': '/modelRepository/models/ad82e0fe-2ab7-46de-ae9b-adf02baf2c43/contents/eb6388c5-9cae-448f-ba6e-7406462771cc', 'type': 'multipart/form-data'}, {'method': 'PUT', 'rel': 'update', 'href': '/modelRepository/models/ad82e0fe-2ab7-46de-ae9b-adf02baf2c43/contents/eb6388c5-9cae-448f-ba6e-7406462771cc', 'uri': '/modelRepository/models/ad82e0fe-2ab7-46de-ae9b-adf02baf2c43/contents/eb6388c5-9cae-448f-ba6e-7406462771cc', 'type': 'application/vnd.sas.models.model.content'}, {'method': 'PUT', 'rel': 'updateContentMultipart', 'href': '/modelRepository/models/ad82e0fe-2ab7-46de-ae9b-adf02baf2c43/contents/eb6388c5-9cae-448f-ba6e-7406462771cc', 'uri': '/modelRepository/models/ad82e0fe-2ab7-46de-ae9b-adf02baf2c43/contents/eb6388c5-9cae-448f-ba6e-7406462771cc', 'type': 'application/vnd.sas.models.model.content'}, {'method': 'DELETE', 'rel': 'delete', 'href': '/modelRepository/models/ad82e0fe-2ab7-46de-ae9b-adf02baf2c43/contents/eb6388c5-9cae-448f-ba6e-7406462771cc', 'uri': '/modelRepository/models/ad82e0fe-2ab7-46de-ae9b-adf02baf2c43/contents/eb6388c5-9cae-448f-ba6e-7406462771cc'}]}, {'creationTimeStamp': '0001-01-01T00:00:00Z', 'createdBy': 'Fabio.Ceruti@sas.com', 'modifiedTimeStamp': '0001-01-01T00:00:00Z', 'modifiedBy': 'Fabio.Ceruti@sas.com', 'version': 2, 'id': '26615969-24ab-447a-9741-71c5a9007e24', 'name': 'SK_RandomForest_new.pickle', 'modelId': 'ad82e0fe-2ab7-46de-ae9b-adf02baf2c43', 'uploadError': 'The file \"SK_RandomForest_new.pickle\" cannot be uploaded because it is larger than 100 megabytes.', 'links': [{'method': 'GET', 'rel': 'UP', 'href': '/modelRepository/models/ad82e0fe-2ab7-46de-ae9b-adf02baf2c43', 'uri': '/modelRepository/models/ad82e0fe-2ab7-46de-ae9b-adf02baf2c43', 'itemType': 'application/vnd.sas.models.model.content'}, {'method': 'GET', 'rel': 'self', 'href': '/modelRepository/models/ad82e0fe-2ab7-46de-ae9b-adf02baf2c43/contents/26615969-24ab-447a-9741-71c5a9007e24', 'uri': '/modelRepository/models/ad82e0fe-2ab7-46de-ae9b-adf02baf2c43/contents/26615969-24ab-447a-9741-71c5a9007e24', 'type': 'application/vnd.sas.models.model.content'}, {'method': 'GET', 'rel': 'content', 'uri': '/modelRepository/models/ad82e0fe-2ab7-46de-ae9b-adf02baf2c43/contents/26615969-24ab-447a-9741-71c5a9007e24/content', 'type': 'application/octet-stream'}, {'method': 'POST', 'rel': 'create', 'href': '/modelRepository/models/ad82e0fe-2ab7-46de-ae9b-adf02baf2c43/contents/26615969-24ab-447a-9741-71c5a9007e24', 'uri': '/modelRepository/models/ad82e0fe-2ab7-46de-ae9b-adf02baf2c43/contents/26615969-24ab-447a-9741-71c5a9007e24', 'type': 'multipart/form-data'}, {'method': 'PUT', 'rel': 'update', 'href': '/modelRepository/models/ad82e0fe-2ab7-46de-ae9b-adf02baf2c43/contents/26615969-24ab-447a-9741-71c5a9007e24', 'uri': '/modelRepository/models/ad82e0fe-2ab7-46de-ae9b-adf02baf2c43/contents/26615969-24ab-447a-9741-71c5a9007e24', 'type': 'application/vnd.sas.models.model.content'}, {'method': 'PUT', 'rel': 'updateContentMultipart', 'href': '/modelRepository/models/ad82e0fe-2ab7-46de-ae9b-adf02baf2c43/contents/26615969-24ab-447a-9741-71c5a9007e24', 'uri': '/modelRepository/models/ad82e0fe-2ab7-46de-ae9b-adf02baf2c43/contents/26615969-24ab-447a-9741-71c5a9007e24', 'type': 'application/vnd.sas.models.model.content'}, {'method': 'DELETE', 'rel': 'delete', 'href': '/modelRepository/models/ad82e0fe-2ab7-46de-ae9b-adf02baf2c43/contents/26615969-24ab-447a-9741-71c5a9007e24', 'uri': '/modelRepository/models/ad82e0fe-2ab7-46de-ae9b-adf02baf2c43/contents/26615969-24ab-447a-9741-71c5a9007e24'}]}], 'inputVariables': [{'creationTimeStamp': '2024-10-31T08:26:27.640425Z', 'createdBy': 'anonymous', 'modifiedTimeStamp': '2024-10-31T08:26:27.640426Z', 'modifiedBy': 'anonymous', 'name': 'CreditLineAge', 'description': '', 'role': 'input', 'type': 'decimal', 'level': 'interval', 'format': '', 'aggregation': '', 'length': 8, 'id': '9f695c57-52e5-4f5c-9b8e-08f3f58edd9f', 'holderId': 'ad82e0fe-2ab7-46de-ae9b-adf02baf2c43', 'links': [{'method': 'GET', 'rel': 'up', 'href': '/modelRepository/models/ad82e0fe-2ab7-46de-ae9b-adf02baf2c43/variables/9f695c57-52e5-4f5c-9b8e-08f3f58edd9f', 'uri': '/modelRepository/models/ad82e0fe-2ab7-46de-ae9b-adf02baf2c43/variables', 'type': 'application/vnd.sas.collection'}, {'method': 'GET', 'rel': 'self', 'href': '/modelRepository/models/ad82e0fe-2ab7-46de-ae9b-adf02baf2c43/variables/9f695c57-52e5-4f5c-9b8e-08f3f58edd9f', 'uri': '/modelRepository/models/ad82e0fe-2ab7-46de-ae9b-adf02baf2c43/variables/9f695c57-52e5-4f5c-9b8e-08f3f58edd9f', 'type': 'application/vnd.sas.models.model.variable'}, {'method': 'PUT', 'rel': 'update', 'href': '/modelRepository/models/ad82e0fe-2ab7-46de-ae9b-adf02baf2c43/variables/9f695c57-52e5-4f5c-9b8e-08f3f58edd9f', 'uri': '/modelRepository/models/ad82e0fe-2ab7-46de-ae9b-adf02baf2c43/variables/9f695c57-52e5-4f5c-9b8e-08f3f58edd9f', 'type': 'application/vnd.sas.models.model.variable'}, {'method': 'DELETE', 'rel': 'delete', 'href': '/modelRepository/models/ad82e0fe-2ab7-46de-ae9b-adf02baf2c43/variables/9f695c57-52e5-4f5c-9b8e-08f3f58edd9f', 'uri': '/modelRepository/models/ad82e0fe-2ab7-46de-ae9b-adf02baf2c43/variables/9f695c57-52e5-4f5c-9b8e-08f3f58edd9f', 'type': 'application/vnd.sas.models.model.variable'}]}, {'creationTimeStamp': '2024-10-31T08:26:27.728181Z', 'createdBy': 'anonymous', 'modifiedTimeStamp': '2024-10-31T08:26:27.728181Z', 'modifiedBy': 'anonymous', 'name': 'DebtIncRatio', 'description': '', 'role': 'input', 'type': 'decimal', 'level': 'interval', 'format': '', 'aggregation': '', 'length': 8, 'id': '39391037-3348-45e7-86c8-de3a20b190b8', 'holderId': 'ad82e0fe-2ab7-46de-ae9b-adf02baf2c43', 'links': [{'method': 'GET', 'rel': 'up', 'href': '/modelRepository/models/ad82e0fe-2ab7-46de-ae9b-adf02baf2c43/variables/39391037-3348-45e7-86c8-de3a20b190b8', 'uri': '/modelRepository/models/ad82e0fe-2ab7-46de-ae9b-adf02baf2c43/variables', 'type': 'application/vnd.sas.collection'}, {'method': 'GET', 'rel': 'self', 'href': '/modelRepository/models/ad82e0fe-2ab7-46de-ae9b-adf02baf2c43/variables/39391037-3348-45e7-86c8-de3a20b190b8', 'uri': '/modelRepository/models/ad82e0fe-2ab7-46de-ae9b-adf02baf2c43/variables/39391037-3348-45e7-86c8-de3a20b190b8', 'type': 'application/vnd.sas.models.model.variable'}, {'method': 'PUT', 'rel': 'update', 'href': '/modelRepository/models/ad82e0fe-2ab7-46de-ae9b-adf02baf2c43/variables/39391037-3348-45e7-86c8-de3a20b190b8', 'uri': '/modelRepository/models/ad82e0fe-2ab7-46de-ae9b-adf02baf2c43/variables/39391037-3348-45e7-86c8-de3a20b190b8', 'type': 'application/vnd.sas.models.model.variable'}, {'method': 'DELETE', 'rel': 'delete', 'href': '/modelRepository/models/ad82e0fe-2ab7-46de-ae9b-adf02baf2c43/variables/39391037-3348-45e7-86c8-de3a20b190b8', 'uri': '/modelRepository/models/ad82e0fe-2ab7-46de-ae9b-adf02baf2c43/variables/39391037-3348-45e7-86c8-de3a20b190b8', 'type': 'application/vnd.sas.models.model.variable'}]}, {'creationTimeStamp': '2024-10-31T08:26:27.759019Z', 'createdBy': 'anonymous', 'modifiedTimeStamp': '2024-10-31T08:26:27.75902Z', 'modifiedBy': 'anonymous', 'name': 'FICOScore', 'description': '', 'role': 'input', 'type': 'decimal', 'level': 'interval', 'format': '', 'aggregation': '', 'length': 8, 'id': '74b5a9f5-788d-4b1a-a104-a1b5098e7fba', 'holderId': 'ad82e0fe-2ab7-46de-ae9b-adf02baf2c43', 'links': [{'method': 'GET', 'rel': 'up', 'href': '/modelRepository/models/ad82e0fe-2ab7-46de-ae9b-adf02baf2c43/variables/74b5a9f5-788d-4b1a-a104-a1b5098e7fba', 'uri': '/modelRepository/models/ad82e0fe-2ab7-46de-ae9b-adf02baf2c43/variables', 'type': 'application/vnd.sas.collection'}, {'method': 'GET', 'rel': 'self', 'href': '/modelRepository/models/ad82e0fe-2ab7-46de-ae9b-adf02baf2c43/variables/74b5a9f5-788d-4b1a-a104-a1b5098e7fba', 'uri': '/modelRepository/models/ad82e0fe-2ab7-46de-ae9b-adf02baf2c43/variables/74b5a9f5-788d-4b1a-a104-a1b5098e7fba', 'type': 'application/vnd.sas.models.model.variable'}, {'method': 'PUT', 'rel': 'update', 'href': '/modelRepository/models/ad82e0fe-2ab7-46de-ae9b-adf02baf2c43/variables/74b5a9f5-788d-4b1a-a104-a1b5098e7fba', 'uri': '/modelRepository/models/ad82e0fe-2ab7-46de-ae9b-adf02baf2c43/variables/74b5a9f5-788d-4b1a-a104-a1b5098e7fba', 'type': 'application/vnd.sas.models.model.variable'}, {'method': 'DELETE', 'rel': 'delete', 'href': '/modelRepository/models/ad82e0fe-2ab7-46de-ae9b-adf02baf2c43/variables/74b5a9f5-788d-4b1a-a104-a1b5098e7fba', 'uri': '/modelRepository/models/ad82e0fe-2ab7-46de-ae9b-adf02baf2c43/variables/74b5a9f5-788d-4b1a-a104-a1b5098e7fba', 'type': 'application/vnd.sas.models.model.variable'}]}, {'creationTimeStamp': '2024-10-31T08:26:27.809602Z', 'createdBy': 'anonymous', 'modifiedTimeStamp': '2024-10-31T08:26:27.809602Z', 'modifiedBy': 'anonymous', 'name': 'Inquiries6Mnths', 'description': '', 'role': 'input', 'type': 'decimal', 'level': 'interval', 'format': '', 'aggregation': '', 'length': 8, 'id': 'e4a5967c-c89b-4d9d-982c-e73cab60fee1', 'holderId': 'ad82e0fe-2ab7-46de-ae9b-adf02baf2c43', 'links': [{'method': 'GET', 'rel': 'up', 'href': '/modelRepository/models/ad82e0fe-2ab7-46de-ae9b-adf02baf2c43/variables/e4a5967c-c89b-4d9d-982c-e73cab60fee1', 'uri': '/modelRepository/models/ad82e0fe-2ab7-46de-ae9b-adf02baf2c43/variables', 'type': 'application/vnd.sas.collection'}, {'method': 'GET', 'rel': 'self', 'href': '/modelRepository/models/ad82e0fe-2ab7-46de-ae9b-adf02baf2c43/variables/e4a5967c-c89b-4d9d-982c-e73cab60fee1', 'uri': '/modelRepository/models/ad82e0fe-2ab7-46de-ae9b-adf02baf2c43/variables/e4a5967c-c89b-4d9d-982c-e73cab60fee1', 'type': 'application/vnd.sas.models.model.variable'}, {'method': 'PUT', 'rel': 'update', 'href': '/modelRepository/models/ad82e0fe-2ab7-46de-ae9b-adf02baf2c43/variables/e4a5967c-c89b-4d9d-982c-e73cab60fee1', 'uri': '/modelRepository/models/ad82e0fe-2ab7-46de-ae9b-adf02baf2c43/variables/e4a5967c-c89b-4d9d-982c-e73cab60fee1', 'type': 'application/vnd.sas.models.model.variable'}, {'method': 'DELETE', 'rel': 'delete', 'href': '/modelRepository/models/ad82e0fe-2ab7-46de-ae9b-adf02baf2c43/variables/e4a5967c-c89b-4d9d-982c-e73cab60fee1', 'uri': '/modelRepository/models/ad82e0fe-2ab7-46de-ae9b-adf02baf2c43/variables/e4a5967c-c89b-4d9d-982c-e73cab60fee1', 'type': 'application/vnd.sas.models.model.variable'}]}, {'creationTimeStamp': '2024-10-31T08:26:27.841429Z', 'createdBy': 'anonymous', 'modifiedTimeStamp': '2024-10-31T08:26:27.841429Z', 'modifiedBy': 'anonymous', 'name': 'LogAnnualInc', 'description': '', 'role': 'input', 'type': 'decimal', 'level': 'interval', 'format': '', 'aggregation': '', 'length': 8, 'id': '226df09a-2df6-4a61-9d31-f1038d7148b0', 'holderId': 'ad82e0fe-2ab7-46de-ae9b-adf02baf2c43', 'links': [{'method': 'GET', 'rel': 'up', 'href': '/modelRepository/models/ad82e0fe-2ab7-46de-ae9b-adf02baf2c43/variables/226df09a-2df6-4a61-9d31-f1038d7148b0', 'uri': '/modelRepository/models/ad82e0fe-2ab7-46de-ae9b-adf02baf2c43/variables', 'type': 'application/vnd.sas.collection'}, {'method': 'GET', 'rel': 'self', 'href': '/modelRepository/models/ad82e0fe-2ab7-46de-ae9b-adf02baf2c43/variables/226df09a-2df6-4a61-9d31-f1038d7148b0', 'uri': '/modelRepository/models/ad82e0fe-2ab7-46de-ae9b-adf02baf2c43/variables/226df09a-2df6-4a61-9d31-f1038d7148b0', 'type': 'application/vnd.sas.models.model.variable'}, {'method': 'PUT', 'rel': 'update', 'href': '/modelRepository/models/ad82e0fe-2ab7-46de-ae9b-adf02baf2c43/variables/226df09a-2df6-4a61-9d31-f1038d7148b0', 'uri': '/modelRepository/models/ad82e0fe-2ab7-46de-ae9b-adf02baf2c43/variables/226df09a-2df6-4a61-9d31-f1038d7148b0', 'type': 'application/vnd.sas.models.model.variable'}, {'method': 'DELETE', 'rel': 'delete', 'href': '/modelRepository/models/ad82e0fe-2ab7-46de-ae9b-adf02baf2c43/variables/226df09a-2df6-4a61-9d31-f1038d7148b0', 'uri': '/modelRepository/models/ad82e0fe-2ab7-46de-ae9b-adf02baf2c43/variables/226df09a-2df6-4a61-9d31-f1038d7148b0', 'type': 'application/vnd.sas.models.model.variable'}]}, {'creationTimeStamp': '2024-10-31T08:26:27.889071Z', 'createdBy': 'anonymous', 'modifiedTimeStamp': '2024-10-31T08:26:27.889072Z', 'modifiedBy': 'anonymous', 'name': 'RevBalance', 'description': '', 'role': 'input', 'type': 'decimal', 'level': 'interval', 'format': '', 'aggregation': '', 'length': 8, 'id': 'c6deddad-e56b-4761-b519-80b17d41ed73', 'holderId': 'ad82e0fe-2ab7-46de-ae9b-adf02baf2c43', 'links': [{'method': 'GET', 'rel': 'up', 'href': '/modelRepository/models/ad82e0fe-2ab7-46de-ae9b-adf02baf2c43/variables/c6deddad-e56b-4761-b519-80b17d41ed73', 'uri': '/modelRepository/models/ad82e0fe-2ab7-46de-ae9b-adf02baf2c43/variables', 'type': 'application/vnd.sas.collection'}, {'method': 'GET', 'rel': 'self', 'href': '/modelRepository/models/ad82e0fe-2ab7-46de-ae9b-adf02baf2c43/variables/c6deddad-e56b-4761-b519-80b17d41ed73', 'uri': '/modelRepository/models/ad82e0fe-2ab7-46de-ae9b-adf02baf2c43/variables/c6deddad-e56b-4761-b519-80b17d41ed73', 'type': 'application/vnd.sas.models.model.variable'}, {'method': 'PUT', 'rel': 'update', 'href': '/modelRepository/models/ad82e0fe-2ab7-46de-ae9b-adf02baf2c43/variables/c6deddad-e56b-4761-b519-80b17d41ed73', 'uri': '/modelRepository/models/ad82e0fe-2ab7-46de-ae9b-adf02baf2c43/variables/c6deddad-e56b-4761-b519-80b17d41ed73', 'type': 'application/vnd.sas.models.model.variable'}, {'method': 'DELETE', 'rel': 'delete', 'href': '/modelRepository/models/ad82e0fe-2ab7-46de-ae9b-adf02baf2c43/variables/c6deddad-e56b-4761-b519-80b17d41ed73', 'uri': '/modelRepository/models/ad82e0fe-2ab7-46de-ae9b-adf02baf2c43/variables/c6deddad-e56b-4761-b519-80b17d41ed73', 'type': 'application/vnd.sas.models.model.variable'}]}, {'creationTimeStamp': '2024-10-31T08:26:27.933966Z', 'createdBy': 'anonymous', 'modifiedTimeStamp': '2024-10-31T08:26:27.933966Z', 'modifiedBy': 'anonymous', 'name': 'RevUtilization', 'description': '', 'role': 'input', 'type': 'decimal', 'level': 'interval', 'format': '', 'aggregation': '', 'length': 8, 'id': '95936764-5fae-4b58-bb73-a70b1e78c838', 'holderId': 'ad82e0fe-2ab7-46de-ae9b-adf02baf2c43', 'links': [{'method': 'GET', 'rel': 'up', 'href': '/modelRepository/models/ad82e0fe-2ab7-46de-ae9b-adf02baf2c43/variables/95936764-5fae-4b58-bb73-a70b1e78c838', 'uri': '/modelRepository/models/ad82e0fe-2ab7-46de-ae9b-adf02baf2c43/variables', 'type': 'application/vnd.sas.collection'}, {'method': 'GET', 'rel': 'self', 'href': '/modelRepository/models/ad82e0fe-2ab7-46de-ae9b-adf02baf2c43/variables/95936764-5fae-4b58-bb73-a70b1e78c838', 'uri': '/modelRepository/models/ad82e0fe-2ab7-46de-ae9b-adf02baf2c43/variables/95936764-5fae-4b58-bb73-a70b1e78c838', 'type': 'application/vnd.sas.models.model.variable'}, {'method': 'PUT', 'rel': 'update', 'href': '/modelRepository/models/ad82e0fe-2ab7-46de-ae9b-adf02baf2c43/variables/95936764-5fae-4b58-bb73-a70b1e78c838', 'uri': '/modelRepository/models/ad82e0fe-2ab7-46de-ae9b-adf02baf2c43/variables/95936764-5fae-4b58-bb73-a70b1e78c838', 'type': 'application/vnd.sas.models.model.variable'}, {'method': 'DELETE', 'rel': 'delete', 'href': '/modelRepository/models/ad82e0fe-2ab7-46de-ae9b-adf02baf2c43/variables/95936764-5fae-4b58-bb73-a70b1e78c838', 'uri': '/modelRepository/models/ad82e0fe-2ab7-46de-ae9b-adf02baf2c43/variables/95936764-5fae-4b58-bb73-a70b1e78c838', 'type': 'application/vnd.sas.models.model.variable'}]}, {'creationTimeStamp': '2024-10-31T08:26:27.956827Z', 'createdBy': 'anonymous', 'modifiedTimeStamp': '2024-10-31T08:26:27.956827Z', 'modifiedBy': 'anonymous', 'name': 'Installment', 'description': '', 'role': 'input', 'type': 'decimal', 'level': 'interval', 'format': '', 'aggregation': '', 'length': 8, 'id': '799f1bb5-f2d1-41a7-bda7-5d405d6b8fa6', 'holderId': 'ad82e0fe-2ab7-46de-ae9b-adf02baf2c43', 'links': [{'method': 'GET', 'rel': 'up', 'href': '/modelRepository/models/ad82e0fe-2ab7-46de-ae9b-adf02baf2c43/variables/799f1bb5-f2d1-41a7-bda7-5d405d6b8fa6', 'uri': '/modelRepository/models/ad82e0fe-2ab7-46de-ae9b-adf02baf2c43/variables', 'type': 'application/vnd.sas.collection'}, {'method': 'GET', 'rel': 'self', 'href': '/modelRepository/models/ad82e0fe-2ab7-46de-ae9b-adf02baf2c43/variables/799f1bb5-f2d1-41a7-bda7-5d405d6b8fa6', 'uri': '/modelRepository/models/ad82e0fe-2ab7-46de-ae9b-adf02baf2c43/variables/799f1bb5-f2d1-41a7-bda7-5d405d6b8fa6', 'type': 'application/vnd.sas.models.model.variable'}, {'method': 'PUT', 'rel': 'update', 'href': '/modelRepository/models/ad82e0fe-2ab7-46de-ae9b-adf02baf2c43/variables/799f1bb5-f2d1-41a7-bda7-5d405d6b8fa6', 'uri': '/modelRepository/models/ad82e0fe-2ab7-46de-ae9b-adf02baf2c43/variables/799f1bb5-f2d1-41a7-bda7-5d405d6b8fa6', 'type': 'application/vnd.sas.models.model.variable'}, {'method': 'DELETE', 'rel': 'delete', 'href': '/modelRepository/models/ad82e0fe-2ab7-46de-ae9b-adf02baf2c43/variables/799f1bb5-f2d1-41a7-bda7-5d405d6b8fa6', 'uri': '/modelRepository/models/ad82e0fe-2ab7-46de-ae9b-adf02baf2c43/variables/799f1bb5-f2d1-41a7-bda7-5d405d6b8fa6', 'type': 'application/vnd.sas.models.model.variable'}]}, {'creationTimeStamp': '2024-10-31T08:26:27.959658Z', 'createdBy': 'anonymous', 'modifiedTimeStamp': '2024-10-31T08:26:27.959658Z', 'modifiedBy': 'anonymous', 'name': 'InterestRate', 'description': '', 'role': 'input', 'type': 'decimal', 'level': 'interval', 'format': '', 'aggregation': '', 'length': 8, 'id': '4e7d7a8f-bf64-4916-ba6f-7ae1cf7f4c1b', 'holderId': 'ad82e0fe-2ab7-46de-ae9b-adf02baf2c43', 'links': [{'method': 'GET', 'rel': 'up', 'href': '/modelRepository/models/ad82e0fe-2ab7-46de-ae9b-adf02baf2c43/variables/4e7d7a8f-bf64-4916-ba6f-7ae1cf7f4c1b', 'uri': '/modelRepository/models/ad82e0fe-2ab7-46de-ae9b-adf02baf2c43/variables', 'type': 'application/vnd.sas.collection'}, {'method': 'GET', 'rel': 'self', 'href': '/modelRepository/models/ad82e0fe-2ab7-46de-ae9b-adf02baf2c43/variables/4e7d7a8f-bf64-4916-ba6f-7ae1cf7f4c1b', 'uri': '/modelRepository/models/ad82e0fe-2ab7-46de-ae9b-adf02baf2c43/variables/4e7d7a8f-bf64-4916-ba6f-7ae1cf7f4c1b', 'type': 'application/vnd.sas.models.model.variable'}, {'method': 'PUT', 'rel': 'update', 'href': '/modelRepository/models/ad82e0fe-2ab7-46de-ae9b-adf02baf2c43/variables/4e7d7a8f-bf64-4916-ba6f-7ae1cf7f4c1b', 'uri': '/modelRepository/models/ad82e0fe-2ab7-46de-ae9b-adf02baf2c43/variables/4e7d7a8f-bf64-4916-ba6f-7ae1cf7f4c1b', 'type': 'application/vnd.sas.models.model.variable'}, {'method': 'DELETE', 'rel': 'delete', 'href': '/modelRepository/models/ad82e0fe-2ab7-46de-ae9b-adf02baf2c43/variables/4e7d7a8f-bf64-4916-ba6f-7ae1cf7f4c1b', 'uri': '/modelRepository/models/ad82e0fe-2ab7-46de-ae9b-adf02baf2c43/variables/4e7d7a8f-bf64-4916-ba6f-7ae1cf7f4c1b', 'type': 'application/vnd.sas.models.model.variable'}]}, {'creationTimeStamp': '2024-10-31T08:26:27.973747Z', 'createdBy': 'anonymous', 'modifiedTimeStamp': '2024-10-31T08:26:27.973747Z', 'modifiedBy': 'anonymous', 'name': 'CreditPolicy', 'description': '', 'role': 'input', 'type': 'decimal', 'level': 'interval', 'format': '', 'aggregation': '', 'length': 8, 'id': 'd3aadbc1-eede-497d-b810-30cca5490447', 'holderId': 'ad82e0fe-2ab7-46de-ae9b-adf02baf2c43', 'links': [{'method': 'GET', 'rel': 'up', 'href': '/modelRepository/models/ad82e0fe-2ab7-46de-ae9b-adf02baf2c43/variables/d3aadbc1-eede-497d-b810-30cca5490447', 'uri': '/modelRepository/models/ad82e0fe-2ab7-46de-ae9b-adf02baf2c43/variables', 'type': 'application/vnd.sas.collection'}, {'method': 'GET', 'rel': 'self', 'href': '/modelRepository/models/ad82e0fe-2ab7-46de-ae9b-adf02baf2c43/variables/d3aadbc1-eede-497d-b810-30cca5490447', 'uri': '/modelRepository/models/ad82e0fe-2ab7-46de-ae9b-adf02baf2c43/variables/d3aadbc1-eede-497d-b810-30cca5490447', 'type': 'application/vnd.sas.models.model.variable'}, {'method': 'PUT', 'rel': 'update', 'href': '/modelRepository/models/ad82e0fe-2ab7-46de-ae9b-adf02baf2c43/variables/d3aadbc1-eede-497d-b810-30cca5490447', 'uri': '/modelRepository/models/ad82e0fe-2ab7-46de-ae9b-adf02baf2c43/variables/d3aadbc1-eede-497d-b810-30cca5490447', 'type': 'application/vnd.sas.models.model.variable'}, {'method': 'DELETE', 'rel': 'delete', 'href': '/modelRepository/models/ad82e0fe-2ab7-46de-ae9b-adf02baf2c43/variables/d3aadbc1-eede-497d-b810-30cca5490447', 'uri': '/modelRepository/models/ad82e0fe-2ab7-46de-ae9b-adf02baf2c43/variables/d3aadbc1-eede-497d-b810-30cca5490447', 'type': 'application/vnd.sas.models.model.variable'}]}, {'creationTimeStamp': '2024-10-31T08:26:28.087817Z', 'createdBy': 'anonymous', 'modifiedTimeStamp': '2024-10-31T08:26:28.087817Z', 'modifiedBy': 'anonymous', 'name': 'Delinquencies2Yrs', 'description': '', 'role': 'input', 'type': 'decimal', 'level': 'interval', 'format': '', 'aggregation': '', 'length': 8, 'id': '107cb34f-c8a3-42e8-a588-c93d6855ad9f', 'holderId': 'ad82e0fe-2ab7-46de-ae9b-adf02baf2c43', 'links': [{'method': 'GET', 'rel': 'up', 'href': '/modelRepository/models/ad82e0fe-2ab7-46de-ae9b-adf02baf2c43/variables/107cb34f-c8a3-42e8-a588-c93d6855ad9f', 'uri': '/modelRepository/models/ad82e0fe-2ab7-46de-ae9b-adf02baf2c43/variables', 'type': 'application/vnd.sas.collection'}, {'method': 'GET', 'rel': 'self', 'href': '/modelRepository/models/ad82e0fe-2ab7-46de-ae9b-adf02baf2c43/variables/107cb34f-c8a3-42e8-a588-c93d6855ad9f', 'uri': '/modelRepository/models/ad82e0fe-2ab7-46de-ae9b-adf02baf2c43/variables/107cb34f-c8a3-42e8-a588-c93d6855ad9f', 'type': 'application/vnd.sas.models.model.variable'}, {'method': 'PUT', 'rel': 'update', 'href': '/modelRepository/models/ad82e0fe-2ab7-46de-ae9b-adf02baf2c43/variables/107cb34f-c8a3-42e8-a588-c93d6855ad9f', 'uri': '/modelRepository/models/ad82e0fe-2ab7-46de-ae9b-adf02baf2c43/variables/107cb34f-c8a3-42e8-a588-c93d6855ad9f', 'type': 'application/vnd.sas.models.model.variable'}, {'method': 'DELETE', 'rel': 'delete', 'href': '/modelRepository/models/ad82e0fe-2ab7-46de-ae9b-adf02baf2c43/variables/107cb34f-c8a3-42e8-a588-c93d6855ad9f', 'uri': '/modelRepository/models/ad82e0fe-2ab7-46de-ae9b-adf02baf2c43/variables/107cb34f-c8a3-42e8-a588-c93d6855ad9f', 'type': 'application/vnd.sas.models.model.variable'}]}, {'creationTimeStamp': '2024-10-31T08:26:28.171344Z', 'createdBy': 'anonymous', 'modifiedTimeStamp': '2024-10-31T08:26:28.171344Z', 'modifiedBy': 'anonymous', 'name': 'PublicRecord', 'description': '', 'role': 'input', 'type': 'decimal', 'level': 'interval', 'format': '', 'aggregation': '', 'length': 8, 'id': '3623c6da-5014-452f-a17f-d5a9ae8a2f48', 'holderId': 'ad82e0fe-2ab7-46de-ae9b-adf02baf2c43', 'links': [{'method': 'GET', 'rel': 'up', 'href': '/modelRepository/models/ad82e0fe-2ab7-46de-ae9b-adf02baf2c43/variables/3623c6da-5014-452f-a17f-d5a9ae8a2f48', 'uri': '/modelRepository/models/ad82e0fe-2ab7-46de-ae9b-adf02baf2c43/variables', 'type': 'application/vnd.sas.collection'}, {'method': 'GET', 'rel': 'self', 'href': '/modelRepository/models/ad82e0fe-2ab7-46de-ae9b-adf02baf2c43/variables/3623c6da-5014-452f-a17f-d5a9ae8a2f48', 'uri': '/modelRepository/models/ad82e0fe-2ab7-46de-ae9b-adf02baf2c43/variables/3623c6da-5014-452f-a17f-d5a9ae8a2f48', 'type': 'application/vnd.sas.models.model.variable'}, {'method': 'PUT', 'rel': 'update', 'href': '/modelRepository/models/ad82e0fe-2ab7-46de-ae9b-adf02baf2c43/variables/3623c6da-5014-452f-a17f-d5a9ae8a2f48', 'uri': '/modelRepository/models/ad82e0fe-2ab7-46de-ae9b-adf02baf2c43/variables/3623c6da-5014-452f-a17f-d5a9ae8a2f48', 'type': 'application/vnd.sas.models.model.variable'}, {'method': 'DELETE', 'rel': 'delete', 'href': '/modelRepository/models/ad82e0fe-2ab7-46de-ae9b-adf02baf2c43/variables/3623c6da-5014-452f-a17f-d5a9ae8a2f48', 'uri': '/modelRepository/models/ad82e0fe-2ab7-46de-ae9b-adf02baf2c43/variables/3623c6da-5014-452f-a17f-d5a9ae8a2f48', 'type': 'application/vnd.sas.models.model.variable'}]}, {'creationTimeStamp': '2024-10-31T08:26:28.175856Z', 'createdBy': 'anonymous', 'modifiedTimeStamp': '2024-10-31T08:26:28.175856Z', 'modifiedBy': 'anonymous', 'name': 'Purpose', 'description': '', 'role': 'input', 'type': 'decimal', 'level': 'interval', 'format': '', 'aggregation': '', 'length': 8, 'id': '590c6d58-bc4c-4422-9b30-af3504ad4008', 'holderId': 'ad82e0fe-2ab7-46de-ae9b-adf02baf2c43', 'links': [{'method': 'GET', 'rel': 'up', 'href': '/modelRepository/models/ad82e0fe-2ab7-46de-ae9b-adf02baf2c43/variables/590c6d58-bc4c-4422-9b30-af3504ad4008', 'uri': '/modelRepository/models/ad82e0fe-2ab7-46de-ae9b-adf02baf2c43/variables', 'type': 'application/vnd.sas.collection'}, {'method': 'GET', 'rel': 'self', 'href': '/modelRepository/models/ad82e0fe-2ab7-46de-ae9b-adf02baf2c43/variables/590c6d58-bc4c-4422-9b30-af3504ad4008', 'uri': '/modelRepository/models/ad82e0fe-2ab7-46de-ae9b-adf02baf2c43/variables/590c6d58-bc4c-4422-9b30-af3504ad4008', 'type': 'application/vnd.sas.models.model.variable'}, {'method': 'PUT', 'rel': 'update', 'href': '/modelRepository/models/ad82e0fe-2ab7-46de-ae9b-adf02baf2c43/variables/590c6d58-bc4c-4422-9b30-af3504ad4008', 'uri': '/modelRepository/models/ad82e0fe-2ab7-46de-ae9b-adf02baf2c43/variables/590c6d58-bc4c-4422-9b30-af3504ad4008', 'type': 'application/vnd.sas.models.model.variable'}, {'method': 'DELETE', 'rel': 'delete', 'href': '/modelRepository/models/ad82e0fe-2ab7-46de-ae9b-adf02baf2c43/variables/590c6d58-bc4c-4422-9b30-af3504ad4008', 'uri': '/modelRepository/models/ad82e0fe-2ab7-46de-ae9b-adf02baf2c43/variables/590c6d58-bc4c-4422-9b30-af3504ad4008', 'type': 'application/vnd.sas.models.model.variable'}]}], 'outputVariables': [{'creationTimeStamp': '2024-10-31T08:26:29.280567Z', 'createdBy': 'anonymous', 'modifiedTimeStamp': '2024-10-31T08:26:29.280567Z', 'modifiedBy': 'anonymous', 'name': 'I_Default', 'description': '', 'role': 'output', 'type': 'string', 'level': 'nominal', 'format': '', 'aggregation': '', 'length': 1, 'id': '42b796dd-f17a-4265-81c8-4562a4a9b70c', 'holderId': 'ad82e0fe-2ab7-46de-ae9b-adf02baf2c43', 'links': [{'method': 'GET', 'rel': 'up', 'href': '/modelRepository/models/ad82e0fe-2ab7-46de-ae9b-adf02baf2c43/variables/42b796dd-f17a-4265-81c8-4562a4a9b70c', 'uri': '/modelRepository/models/ad82e0fe-2ab7-46de-ae9b-adf02baf2c43/variables', 'type': 'application/vnd.sas.collection'}, {'method': 'GET', 'rel': 'self', 'href': '/modelRepository/models/ad82e0fe-2ab7-46de-ae9b-adf02baf2c43/variables/42b796dd-f17a-4265-81c8-4562a4a9b70c', 'uri': '/modelRepository/models/ad82e0fe-2ab7-46de-ae9b-adf02baf2c43/variables/42b796dd-f17a-4265-81c8-4562a4a9b70c', 'type': 'application/vnd.sas.models.model.variable'}, {'method': 'PUT', 'rel': 'update', 'href': '/modelRepository/models/ad82e0fe-2ab7-46de-ae9b-adf02baf2c43/variables/42b796dd-f17a-4265-81c8-4562a4a9b70c', 'uri': '/modelRepository/models/ad82e0fe-2ab7-46de-ae9b-adf02baf2c43/variables/42b796dd-f17a-4265-81c8-4562a4a9b70c', 'type': 'application/vnd.sas.models.model.variable'}, {'method': 'DELETE', 'rel': 'delete', 'href': '/modelRepository/models/ad82e0fe-2ab7-46de-ae9b-adf02baf2c43/variables/42b796dd-f17a-4265-81c8-4562a4a9b70c', 'uri': '/modelRepository/models/ad82e0fe-2ab7-46de-ae9b-adf02baf2c43/variables/42b796dd-f17a-4265-81c8-4562a4a9b70c', 'type': 'application/vnd.sas.models.model.variable'}]}, {'creationTimeStamp': '2024-10-31T08:26:29.460825Z', 'createdBy': 'anonymous', 'modifiedTimeStamp': '2024-10-31T08:26:29.460825Z', 'modifiedBy': 'anonymous', 'name': 'P_Default1', 'description': '', 'role': 'output', 'type': 'decimal', 'level': 'interval', 'format': '', 'aggregation': '', 'length': 8, 'id': '40f9c12e-7ddc-4832-bc7f-3f76613ca0f6', 'holderId': 'ad82e0fe-2ab7-46de-ae9b-adf02baf2c43', 'links': [{'method': 'GET', 'rel': 'up', 'href': '/modelRepository/models/ad82e0fe-2ab7-46de-ae9b-adf02baf2c43/variables/40f9c12e-7ddc-4832-bc7f-3f76613ca0f6', 'uri': '/modelRepository/models/ad82e0fe-2ab7-46de-ae9b-adf02baf2c43/variables', 'type': 'application/vnd.sas.collection'}, {'method': 'GET', 'rel': 'self', 'href': '/modelRepository/models/ad82e0fe-2ab7-46de-ae9b-adf02baf2c43/variables/40f9c12e-7ddc-4832-bc7f-3f76613ca0f6', 'uri': '/modelRepository/models/ad82e0fe-2ab7-46de-ae9b-adf02baf2c43/variables/40f9c12e-7ddc-4832-bc7f-3f76613ca0f6', 'type': 'application/vnd.sas.models.model.variable'}, {'method': 'PUT', 'rel': 'update', 'href': '/modelRepository/models/ad82e0fe-2ab7-46de-ae9b-adf02baf2c43/variables/40f9c12e-7ddc-4832-bc7f-3f76613ca0f6', 'uri': '/modelRepository/models/ad82e0fe-2ab7-46de-ae9b-adf02baf2c43/variables/40f9c12e-7ddc-4832-bc7f-3f76613ca0f6', 'type': 'application/vnd.sas.models.model.variable'}, {'method': 'DELETE', 'rel': 'delete', 'href': '/modelRepository/models/ad82e0fe-2ab7-46de-ae9b-adf02baf2c43/variables/40f9c12e-7ddc-4832-bc7f-3f76613ca0f6', 'uri': '/modelRepository/models/ad82e0fe-2ab7-46de-ae9b-adf02baf2c43/variables/40f9c12e-7ddc-4832-bc7f-3f76613ca0f6', 'type': 'application/vnd.sas.models.model.variable'}]}, {'creationTimeStamp': '2024-10-31T08:26:29.554284Z', 'createdBy': 'anonymous', 'modifiedTimeStamp': '2024-10-31T08:26:29.554285Z', 'modifiedBy': 'anonymous', 'name': 'P_Default0', 'description': '', 'role': 'output', 'type': 'decimal', 'level': 'interval', 'format': '', 'aggregation': '', 'length': 8, 'id': '149af2a5-5adc-4226-843e-7e726e2427d8', 'holderId': 'ad82e0fe-2ab7-46de-ae9b-adf02baf2c43', 'links': [{'method': 'GET', 'rel': 'up', 'href': '/modelRepository/models/ad82e0fe-2ab7-46de-ae9b-adf02baf2c43/variables/149af2a5-5adc-4226-843e-7e726e2427d8', 'uri': '/modelRepository/models/ad82e0fe-2ab7-46de-ae9b-adf02baf2c43/variables', 'type': 'application/vnd.sas.collection'}, {'method': 'GET', 'rel': 'self', 'href': '/modelRepository/models/ad82e0fe-2ab7-46de-ae9b-adf02baf2c43/variables/149af2a5-5adc-4226-843e-7e726e2427d8', 'uri': '/modelRepository/models/ad82e0fe-2ab7-46de-ae9b-adf02baf2c43/variables/149af2a5-5adc-4226-843e-7e726e2427d8', 'type': 'application/vnd.sas.models.model.variable'}, {'method': 'PUT', 'rel': 'update', 'href': '/modelRepository/models/ad82e0fe-2ab7-46de-ae9b-adf02baf2c43/variables/149af2a5-5adc-4226-843e-7e726e2427d8', 'uri': '/modelRepository/models/ad82e0fe-2ab7-46de-ae9b-adf02baf2c43/variables/149af2a5-5adc-4226-843e-7e726e2427d8', 'type': 'application/vnd.sas.models.model.variable'}, {'method': 'DELETE', 'rel': 'delete', 'href': '/modelRepository/models/ad82e0fe-2ab7-46de-ae9b-adf02baf2c43/variables/149af2a5-5adc-4226-843e-7e726e2427d8', 'uri': '/modelRepository/models/ad82e0fe-2ab7-46de-ae9b-adf02baf2c43/variables/149af2a5-5adc-4226-843e-7e726e2427d8', 'type': 'application/vnd.sas.models.model.variable'}]}], 'modelVersions': [], 'modelLocks': None, 'globalTags': ['ProductManagement', 'Active', 'TrustworthyAI', 'MitigateBias', 'SAS', 'PythonAPI', 'TAI', 'Home_Equity_Loans', 'HMEQ', 'Loans'], 'links': [{'method': 'GET', 'rel': 'up', 'href': '/modelRepository/models', 'uri': '/modelRepository/models', 'type': 'application/vnd.sas.models.model'}, {'method': 'GET', 'rel': 'self', 'href': '/modelRepository/models/ad82e0fe-2ab7-46de-ae9b-adf02baf2c43', 'uri': '/modelRepository/models/ad82e0fe-2ab7-46de-ae9b-adf02baf2c43', 'type': 'application/vnd.sas.models.model'}, {'method': 'PUT', 'rel': 'update', 'href': '/modelRepository/models/ad82e0fe-2ab7-46de-ae9b-adf02baf2c43', 'uri': '/modelRepository/models/ad82e0fe-2ab7-46de-ae9b-adf02baf2c43', 'type': 'application/vnd.sas.models.model', 'responseItemType': 'application/vnd.sas.models.model'}, {'method': 'DELETE', 'rel': 'delete', 'href': '/modelRepository/models/ad82e0fe-2ab7-46de-ae9b-adf02baf2c43', 'uri': '/modelRepository/models/ad82e0fe-2ab7-46de-ae9b-adf02baf2c43'}, {'method': 'GET', 'rel': 'scoreCode', 'href': '/modelRepository/models/ad82e0fe-2ab7-46de-ae9b-adf02baf2c43/code', 'uri': '/modelRepository/models/ad82e0fe-2ab7-46de-ae9b-adf02baf2c43/code', 'type': 'text/plain'}, {'method': 'GET', 'rel': 'contents', 'href': '/modelRepository/models/ad82e0fe-2ab7-46de-ae9b-adf02baf2c43/contents', 'uri': '/modelRepository/models/ad82e0fe-2ab7-46de-ae9b-adf02baf2c43/contents', 'type': 'application/vnd.sas.collection', 'itemType': 'application/vnd.sas.models.model.content'}, {'method': 'GET', 'rel': 'modelVersions', 'href': '/modelRepository/models/ad82e0fe-2ab7-46de-ae9b-adf02baf2c43/modelVersions', 'uri': '/modelRepository/models/ad82e0fe-2ab7-46de-ae9b-adf02baf2c43/modelVersions', 'type': 'application/vnd.sas.collection', 'responseItemType': 'application/vnd.sas.models.model.version'}, {'method': 'POST', 'rel': 'addModelVersion', 'href': '/modelRepository/models/ad82e0fe-2ab7-46de-ae9b-adf02baf2c43/modelVersions', 'uri': '/modelRepository/models/ad82e0fe-2ab7-46de-ae9b-adf02baf2c43/modelVersions', 'type': 'application/vnd.sas.models.model.version'}, {'method': 'GET', 'rel': 'variables', 'href': '/modelRepository/models/ad82e0fe-2ab7-46de-ae9b-adf02baf2c43/variables', 'uri': '/modelRepository/models/ad82e0fe-2ab7-46de-ae9b-adf02baf2c43/variables', 'type': 'application/vnd.sas.collection', 'itemType': 'application/vnd.sas.models.model.variable'}]}),\n",
       " 'artifacts/sk_registration')"
      ]
     },
     "execution_count": 9,
     "metadata": {},
     "output_type": "execute_result"
    }
   ],
   "source": [
    "pzmm.ImportModel.import_model(\n",
    "        model_files=mypath, # Where are the model files?\n",
    "        model_prefix=prefix, # What is the model name?\n",
    "        project=project_name, # What is the project name?\n",
    "        input_data=x_train_prep, # What does example input data look like?\n",
    "        predict_method=[sk_model.predict_proba, [int, int]], # What is the predict method and what does it return?\n",
    "        score_metrics=score_metrics, # What are the output variables?\n",
    "        overwrite_model=True, # Overwrite the model if it already exists?\n",
    "        target_values=[\"0\", \"1\"], # What are the expected values of the target variable?\n",
    "        target_index=1, # What is the index of the target value in target_values?\n",
    "        model_file_name=prefix + \".pickle\", # How was the model file serialized?\n",
    "        missing_values=False # Does the data include missing values?\n",
    "    )"
   ]
  },
  {
   "cell_type": "code",
   "execution_count": null,
   "metadata": {},
   "outputs": [],
   "source": []
  }
 ],
 "metadata": {
  "kernelspec": {
   "display_name": "Python 3",
   "language": "python",
   "name": "python3"
  },
  "language_info": {
   "codemirror_mode": {
    "name": "ipython",
    "version": 3
   },
   "file_extension": ".py",
   "mimetype": "text/x-python",
   "name": "python",
   "nbconvert_exporter": "python",
   "pygments_lexer": "ipython3",
   "version": "3.11.9"
  }
 },
 "nbformat": 4,
 "nbformat_minor": 2
}
