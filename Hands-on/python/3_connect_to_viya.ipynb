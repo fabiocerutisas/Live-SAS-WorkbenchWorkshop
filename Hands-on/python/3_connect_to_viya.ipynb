{
 "cells": [
  {
   "cell_type": "markdown",
   "metadata": {},
   "source": [
    "## Registering to Model Manager\n",
    "This notebook exemplifies how to register a model developed in Workbench to Model Manager."
   ]
  },
  {
   "cell_type": "code",
   "execution_count": 13,
   "metadata": {},
   "outputs": [],
   "source": [
    "import json\n",
    "import requests \n",
    "import os\n",
    "import sasviya \n",
    "from sasctl import Session, pzmm\n",
    "from sasctl.services import model_repository as mr\n",
    "import pickle \n",
    "import pandas as pd"
   ]
  },
  {
   "cell_type": "code",
   "execution_count": 14,
   "metadata": {},
   "outputs": [],
   "source": [
    "url = \"https://innovationlab.demo.sas.com/\"\n",
    "\n",
    "def _connect_to_instance(refresh_token, verification):\n",
    "\tauth_url = f\"{url}/SASLogon/oauth/token\"\n",
    "\t# reading long-lived refresh token from txt file\n",
    "\n",
    "\tpayload=f'grant_type=refresh_token&refresh_token={refresh_token}'\n",
    "\theaders = {\n",
    "\t'Accept': 'application/json',\n",
    "\t'Content-Type': 'application/x-www-form-urlencoded',\n",
    "\t'Authorization': 'Basic c2FzLmNsaTo=',\n",
    "\t}\n",
    "\n",
    "\tresponse = requests.request(\"POST\", auth_url, headers=headers, data=payload, verify=verification)\n",
    "\taccess_token = response.json()['access_token']\n",
    "\treturn access_token\n",
    "\n",
    "def _generate_access_token(auth_code, verification): \n",
    "\tserver = f\"{url}/SASLogon/oauth/token\"\n",
    "\n",
    "\tpayload = f'grant_type=authorization_code&code={auth_code}'\n",
    "\theaders = {\n",
    "\t\t'Accept': 'application/json',\n",
    "\t\t'Content-Type': 'application/x-www-form-urlencoded',\n",
    "\t\t'Authorization': 'Basic c2FzLmNsaTo='\n",
    "\t}\n",
    "\n",
    "\tresponse = requests.request(\"POST\", server, headers=headers, data=payload, verify=verification)\n",
    "\n",
    "\t# Parse the response text\n",
    "\tresponse_json = json.loads(response.text)\n",
    "\n",
    "\t# Get the refresh token\n",
    "\trefresh_token = response_json['refresh_token']\n",
    "\treturn refresh_token\n",
    "\n",
    "def get_connection(verify=False):\n",
    "\tif 'refresh_token.txt' not in [i.name for i in os.scandir()]:\n",
    "\t\twith open('refresh_token.txt', 'w') as file:\n",
    "\t\t\tfile.write('test')\n",
    "\tif verify:\n",
    "\t\tos.environ['CAS_CLIENT_SSL_CA_LIST'] = 'innovation_lab.pem'\n",
    "\t\tverify = 'innovation_lab.pem'\n",
    "\ttry:\n",
    "\t\twith open('refresh_token.txt', 'r') as token:\n",
    "\t\t\trefresh_token = token.read()\n",
    "\t\taccess_token = _connect_to_instance(refresh_token, verify)\n",
    "\n",
    "\texcept:\n",
    "\t\tprint(f'{url}/SASLogon/oauth/authorize?client_id=sas.cli&response_type=code')\n",
    "\t\tauth_code = input(f'Please provide your access token by going to {url}/SASLogon/oauth/authorize?client_id=sas.cli&response_type=code:')\n",
    "\t\trefresh_token = _generate_access_token(auth_code, verify)\n",
    "\t\twith open('refresh_token.txt', 'w') as file:\n",
    "\t\t\tfile.write(refresh_token)\n",
    "\t\taccess_token = _connect_to_instance(refresh_token, verify)\n",
    "\t\twith open('access_token.txt', 'w') as file:\n",
    "\t\t\tfile.write(access_token)\n",
    "\tprint('Connected!')\n",
    "\treturn access_token"
   ]
  },
  {
   "cell_type": "code",
   "execution_count": 15,
   "metadata": {},
   "outputs": [
    {
     "name": "stdout",
     "output_type": "stream",
     "text": [
      "https://innovationlab.demo.sas.com//SASLogon/oauth/authorize?client_id=sas.cli&response_type=code\n",
      "Connected!\n"
     ]
    }
   ],
   "source": [
    "access_token = get_connection(verify=True)"
   ]
  },
  {
   "cell_type": "code",
   "execution_count": 5,
   "metadata": {},
   "outputs": [
    {
     "data": {
      "text/plain": [
       "<sasctl.core.Session at 0x7f0cb84da790>"
      ]
     },
     "execution_count": 5,
     "metadata": {},
     "output_type": "execute_result"
    }
   ],
   "source": [
    "st = Session(url, token=access_token)\n",
    "st"
   ]
  },
  {
   "cell_type": "code",
   "execution_count": 6,
   "metadata": {},
   "outputs": [],
   "source": [
    "project_name = \"Live_SAS_WBWorkshop_Python\"\n",
    "repository_name = \"DMRepository\"\n",
    "\n",
    "repository = mr.get_repository(repository_name)\n",
    "\n",
    "project = mr.get_project(project_name)\n",
    "\n",
    "if project == None:\n",
    "    project = mr.create_project(project_name, repository)"
   ]
  },
  {
   "cell_type": "markdown",
   "metadata": {},
   "source": [
    "### Register sasviya.ml Model"
   ]
  },
  {
   "cell_type": "code",
   "execution_count": 7,
   "metadata": {},
   "outputs": [],
   "source": [
    "model = sasviya.load_model('artifacts/gb_model.pkl')\n",
    "\n",
    "model_params = {\n",
    "    \"name\": \"GB_Model_ViyaML\",\n",
    "    \"projectId\": project.id,\n",
    "    \"type\": \"ASTORE\"\n",
    "}\n",
    "\n",
    "astore = mr.post(\n",
    "    \"/models\",\n",
    "    files={\"files\": (\"model_export.astore\", model.export())},\n",
    "    data=model_params,\n",
    ")"
   ]
  },
  {
   "cell_type": "markdown",
   "metadata": {},
   "source": [
    "### Register Sk-Learn Model"
   ]
  },
  {
   "cell_type": "markdown",
   "metadata": {},
   "source": [
    "Link to Tutorial: https://github.com/sassoftware/python-sasctl/blob/master/examples/pzmm_binary_classification_model_import.ipynb"
   ]
  },
  {
   "cell_type": "code",
   "execution_count": 7,
   "metadata": {},
   "outputs": [
    {
     "name": "stderr",
     "output_type": "stream",
     "text": [
      "/usr/local/lib64/python3.11/site-packages/numpy/core/getlimits.py:549: UserWarning: The value of the smallest subnormal for <class 'numpy.float64'> type is zero.\n",
      "  setattr(self, word, getattr(machar, word).flat[0])\n",
      "/usr/local/lib64/python3.11/site-packages/numpy/core/getlimits.py:89: UserWarning: The value of the smallest subnormal for <class 'numpy.float64'> type is zero.\n",
      "  return self._float_to_str(self.smallest_subnormal)\n",
      "/usr/local/lib64/python3.11/site-packages/numpy/core/getlimits.py:549: UserWarning: The value of the smallest subnormal for <class 'numpy.float32'> type is zero.\n",
      "  setattr(self, word, getattr(machar, word).flat[0])\n",
      "/usr/local/lib64/python3.11/site-packages/numpy/core/getlimits.py:89: UserWarning: The value of the smallest subnormal for <class 'numpy.float32'> type is zero.\n",
      "  return self._float_to_str(self.smallest_subnormal)\n"
     ]
    }
   ],
   "source": [
    "df = pd.read_csv('../../Data/cleaned_data/train_valid_test.csv')\n",
    "train = df[df['_PartInd_']==1].reset_index(drop=True)\n",
    "test = df[df['_PartInd_']==3].reset_index(drop=True)\n",
    "\n",
    "numerical_features = ['CreditLineAge','DebtIncRatio','FICOScore','Inquiries6Mnths',\n",
    "                      'LogAnnualInc','RevBalance','RevUtilization','Installment','InterestRate']\n",
    "categorical_features = ['CreditPolicy','Delinquencies2Yrs','PublicRecord','Purpose']\n",
    "features = numerical_features+categorical_features\n",
    "target = 'Default'\n",
    "\n",
    "with open('artifacts/data_prep.pkl', mode='rb') as f:\n",
    "    data_prep = pickle.load(f)\n",
    "x_train_prep = pd.DataFrame(data_prep.transform(train[features]), columns=features)\n",
    "x_test_prep = pd.DataFrame(data_prep.transform(test[features]), columns=features)\n",
    "\n",
    "with open('artifacts/sk_model.pkl', mode='rb') as f:\n",
    "    sk_model = pickle.load(f)"
   ]
  },
  {
   "cell_type": "code",
   "execution_count": 10,
   "metadata": {},
   "outputs": [],
   "source": [
    "score_metrics = [\"I_Default\", \"P_Default1\", \"P_Default0\"]\n",
    "def write_json_files(data, predict, target, path, prefix):    \n",
    "    # Write input variable mapping to a json file\n",
    "    pzmm.JSONFiles.write_var_json(input_data=data[predict], is_input=True, json_path=path)\n",
    "    \n",
    "    # Set output variables and assign an event threshold, then write output variable mapping\n",
    "    output_var = pd.DataFrame(columns=score_metrics, data=[['1', 0.5, 0.5]]) # data argument includes example expected types for outputs\n",
    "    pzmm.JSONFiles.write_var_json(output_var, is_input=False, json_path=path)\n",
    "    \n",
    "    # Write model properties to a json file\n",
    "    pzmm.JSONFiles.write_model_properties_json(\n",
    "        model_name=prefix, \n",
    "        target_variable=target, # Target variable to make predictions about (BAD in this case)\n",
    "        target_values=[\"1\", \"0\"], # Possible values for the target variable (1 or 0 for binary classification of BAD)\n",
    "        json_path=path, \n",
    "        model_desc=f\"Description for the {prefix} model.\",\n",
    "        model_algorithm=\"\",\n",
    "        modeler=\"faceru\",\n",
    "    )\n",
    "    \n",
    "    # Write model metadata to a json file so that SAS Model Manager can properly identify all model files\n",
    "    pzmm.JSONFiles.write_file_metadata_json(model_prefix=prefix, json_path=path)"
   ]
  },
  {
   "cell_type": "code",
   "execution_count": 11,
   "metadata": {},
   "outputs": [
    {
     "name": "stdout",
     "output_type": "stream",
     "text": [
      "Model SK_RandomForest_new2 was successfully pickled and saved to artifacts/sk_registration/SK_RandomForest_new2.pickle.\n",
      "inputVar.json was successfully written and saved to artifacts/sk_registration/inputVar.json\n",
      "outputVar.json was successfully written and saved to artifacts/sk_registration/outputVar.json\n",
      "ModelProperties.json was successfully written and saved to artifacts/sk_registration/ModelProperties.json\n",
      "fileMetadata.json was successfully written and saved to artifacts/sk_registration/fileMetadata.json\n"
     ]
    }
   ],
   "source": [
    "mypath = 'artifacts/sk_registration'\n",
    "prefix = 'SK_RandomForest_new2'\n",
    "if not os.path.isdir(mypath):\n",
    "   os.makedirs(mypath)\n",
    "\n",
    "pzmm.PickleModel.pickle_trained_model(\n",
    "        model_prefix=prefix,\n",
    "        trained_model=sk_model,\n",
    "        pickle_path=mypath\n",
    "    )\n",
    "write_json_files(x_train_prep, features, target, mypath, prefix)"
   ]
  },
  {
   "cell_type": "code",
   "execution_count": 12,
   "metadata": {},
   "outputs": [
    {
     "name": "stderr",
     "output_type": "stream",
     "text": [
      "/workspaces/workshop/.venv/lib64/python3.11/site-packages/sasctl/pzmm/write_score_code.py:1671: UserWarning: Due to the ambiguity of the provided metrics and prediction return types, the score code assumes the return order to be: [classification, probability of event, probability of no event] for a single return. For batch scoring, the return order of the probabilities will mirror their return order in the model.\n",
      "  warn(\n"
     ]
    },
    {
     "name": "stdout",
     "output_type": "stream",
     "text": [
      "Model score code was written successfully to artifacts/sk_registration/score_SK_RandomForest_new2.py and uploaded to SAS Model Manager.\n",
      "All model files were zipped to artifacts/sk_registration.\n"
     ]
    },
    {
     "name": "stderr",
     "output_type": "stream",
     "text": [
      "/workspaces/workshop/.venv/lib64/python3.11/site-packages/sasctl/tasks.py:188: UserWarning: This model's properties are different from the project's. If you want to run a performance definition with this model, the project's properties may need to be updated.\n",
      "  warn(\n"
     ]
    },
    {
     "name": "stdout",
     "output_type": "stream",
     "text": [
      "Model was successfully imported into SAS Model Manager as SK_RandomForest_new2 with the following UUID: 8d980302-892b-4e91-a82d-2e59ddc39f80.\n"
     ]
    },
    {
     "data": {
      "text/plain": [
       "(<class 'sasctl.core.RestObj'>(headers={'Date': 'Thu, 31 Oct 2024 14:28:40 GMT', 'Content-Type': 'application/vnd.sas.collection+json; charset=utf-8', 'Transfer-Encoding': 'chunked', 'Connection': 'keep-alive', 'Cache-Control': 'no-cache, no-store, max-age=0, must-revalidate', 'Content-Security-Policy': \"default-src 'self' *; script-src 'self' 'unsafe-inline' 'unsafe-eval' *; style-src 'self' 'unsafe-inline' *; img-src * blob: data:; child-src 'self'  * blob: data: ; frame-ancestors 'self'; form-action 'self';\", 'Expires': '0', 'Pragma': 'no-cache', 'Sas-Service-Response-Flag': 'true', 'Vary': 'Origin', 'X-Content-Type-Options': 'nosniff', 'X-Xss-Protection': '1; mode=block', 'Strict-Transport-Security': 'max-age=63072000; includeSubDomains'}, data={'creationTimeStamp': '2024-10-31T14:28:37.745Z', 'createdBy': 'Fabio.Ceruti@sas.com', 'modifiedTimeStamp': '2024-10-31T14:28:40.527Z', 'modifiedBy': 'Fabio.Ceruti@sas.com', 'id': '8d980302-892b-4e91-a82d-2e59ddc39f80', 'name': 'SK_RandomForest_new2', 'description': 'Description for the SK_RandomForest_new2 model.', 'role': 'plain', 'scoreCodeType': 'python', 'function': 'classification', 'modeler': 'faceru', 'modelType': 'python', 'trainCodeType': 'Python', 'eventProbVar': 'P_1', 'targetVariable': 'Default', 'targetEvent': '1', 'targetLevel': 'binary', 'tool': 'Python 3', 'toolVersion': '3.11.9', 'version': 2, 'indirectFolderId': 'a57cea16-aeaf-4ac8-b38a-ad0129f8e0ce', 'repositoryId': 'f8c1b7c4-14dd-41bf-a00f-73650cb55a00', 'projectId': '285cf25b-0ff4-4c54-9f50-faa4a40af6f6', 'projectVersionId': '8793a7d8-e3ee-454c-8905-ddc2fdf47a6c', 'immutable': False, 'folderRef': '/folders/folders/fa85fd80-f8c4-401d-8962-a7eaa5ae2336', 'location': '/Model Repositories/DMRepository/Live_SAS_WBWorkshop_Python/Version 1', 'modelVersionName': '1.0', 'projectName': 'Live_SAS_WBWorkshop_Python', 'projectVersionName': 'Version 1', 'projectVersionNum': '1.0', 'files': [{'creationTimeStamp': '2024-10-31T14:28:38.250208Z', 'createdBy': 'Fabio.Ceruti@sas.com', 'modifiedTimeStamp': '2024-10-31T14:28:38.250208Z', 'modifiedBy': 'Fabio.Ceruti@sas.com', 'version': 2, 'id': 'c832775e-b003-48cd-8095-5cd4ff478c53', 'name': 'ModelProperties.json', 'fileUri': '/files/files/a9d4c087-1565-4803-9082-130cda615851', 'modelId': '8d980302-892b-4e91-a82d-2e59ddc39f80', 'links': [{'method': 'GET', 'rel': 'UP', 'href': '/modelRepository/models/8d980302-892b-4e91-a82d-2e59ddc39f80', 'uri': '/modelRepository/models/8d980302-892b-4e91-a82d-2e59ddc39f80', 'itemType': 'application/vnd.sas.models.model.content'}, {'method': 'GET', 'rel': 'self', 'href': '/modelRepository/models/8d980302-892b-4e91-a82d-2e59ddc39f80/contents/c832775e-b003-48cd-8095-5cd4ff478c53', 'uri': '/modelRepository/models/8d980302-892b-4e91-a82d-2e59ddc39f80/contents/c832775e-b003-48cd-8095-5cd4ff478c53', 'type': 'application/vnd.sas.models.model.content'}, {'method': 'GET', 'rel': 'content', 'uri': '/modelRepository/models/8d980302-892b-4e91-a82d-2e59ddc39f80/contents/c832775e-b003-48cd-8095-5cd4ff478c53/content', 'type': 'application/octet-stream'}, {'method': 'POST', 'rel': 'create', 'href': '/modelRepository/models/8d980302-892b-4e91-a82d-2e59ddc39f80/contents/c832775e-b003-48cd-8095-5cd4ff478c53', 'uri': '/modelRepository/models/8d980302-892b-4e91-a82d-2e59ddc39f80/contents/c832775e-b003-48cd-8095-5cd4ff478c53', 'type': 'multipart/form-data'}, {'method': 'PUT', 'rel': 'update', 'href': '/modelRepository/models/8d980302-892b-4e91-a82d-2e59ddc39f80/contents/c832775e-b003-48cd-8095-5cd4ff478c53', 'uri': '/modelRepository/models/8d980302-892b-4e91-a82d-2e59ddc39f80/contents/c832775e-b003-48cd-8095-5cd4ff478c53', 'type': 'application/vnd.sas.models.model.content'}, {'method': 'PUT', 'rel': 'updateContentMultipart', 'href': '/modelRepository/models/8d980302-892b-4e91-a82d-2e59ddc39f80/contents/c832775e-b003-48cd-8095-5cd4ff478c53', 'uri': '/modelRepository/models/8d980302-892b-4e91-a82d-2e59ddc39f80/contents/c832775e-b003-48cd-8095-5cd4ff478c53', 'type': 'application/vnd.sas.models.model.content'}, {'method': 'DELETE', 'rel': 'delete', 'href': '/modelRepository/models/8d980302-892b-4e91-a82d-2e59ddc39f80/contents/c832775e-b003-48cd-8095-5cd4ff478c53', 'uri': '/modelRepository/models/8d980302-892b-4e91-a82d-2e59ddc39f80/contents/c832775e-b003-48cd-8095-5cd4ff478c53'}]}, {'creationTimeStamp': '2024-10-31T14:28:39.890487Z', 'createdBy': 'Fabio.Ceruti@sas.com', 'modifiedTimeStamp': '2024-10-31T14:28:40.154753Z', 'modifiedBy': 'Fabio.Ceruti@sas.com', 'version': 2, 'id': '0e29d45c-16eb-4a65-b4af-b69e29492c2b', 'name': 'inputVar.json', 'role': 'inputVariables', 'fileUri': '/files/files/b4935f99-18b7-4181-935c-c3deb5cc3aa5', 'modelId': '8d980302-892b-4e91-a82d-2e59ddc39f80', 'links': [{'method': 'GET', 'rel': 'UP', 'href': '/modelRepository/models/8d980302-892b-4e91-a82d-2e59ddc39f80', 'uri': '/modelRepository/models/8d980302-892b-4e91-a82d-2e59ddc39f80', 'itemType': 'application/vnd.sas.models.model.content'}, {'method': 'GET', 'rel': 'self', 'href': '/modelRepository/models/8d980302-892b-4e91-a82d-2e59ddc39f80/contents/0e29d45c-16eb-4a65-b4af-b69e29492c2b', 'uri': '/modelRepository/models/8d980302-892b-4e91-a82d-2e59ddc39f80/contents/0e29d45c-16eb-4a65-b4af-b69e29492c2b', 'type': 'application/vnd.sas.models.model.content'}, {'method': 'GET', 'rel': 'content', 'uri': '/modelRepository/models/8d980302-892b-4e91-a82d-2e59ddc39f80/contents/0e29d45c-16eb-4a65-b4af-b69e29492c2b/content', 'type': 'application/octet-stream'}, {'method': 'POST', 'rel': 'create', 'href': '/modelRepository/models/8d980302-892b-4e91-a82d-2e59ddc39f80/contents/0e29d45c-16eb-4a65-b4af-b69e29492c2b', 'uri': '/modelRepository/models/8d980302-892b-4e91-a82d-2e59ddc39f80/contents/0e29d45c-16eb-4a65-b4af-b69e29492c2b', 'type': 'multipart/form-data'}, {'method': 'PUT', 'rel': 'update', 'href': '/modelRepository/models/8d980302-892b-4e91-a82d-2e59ddc39f80/contents/0e29d45c-16eb-4a65-b4af-b69e29492c2b', 'uri': '/modelRepository/models/8d980302-892b-4e91-a82d-2e59ddc39f80/contents/0e29d45c-16eb-4a65-b4af-b69e29492c2b', 'type': 'application/vnd.sas.models.model.content'}, {'method': 'PUT', 'rel': 'updateContentMultipart', 'href': '/modelRepository/models/8d980302-892b-4e91-a82d-2e59ddc39f80/contents/0e29d45c-16eb-4a65-b4af-b69e29492c2b', 'uri': '/modelRepository/models/8d980302-892b-4e91-a82d-2e59ddc39f80/contents/0e29d45c-16eb-4a65-b4af-b69e29492c2b', 'type': 'application/vnd.sas.models.model.content'}, {'method': 'DELETE', 'rel': 'delete', 'href': '/modelRepository/models/8d980302-892b-4e91-a82d-2e59ddc39f80/contents/0e29d45c-16eb-4a65-b4af-b69e29492c2b', 'uri': '/modelRepository/models/8d980302-892b-4e91-a82d-2e59ddc39f80/contents/0e29d45c-16eb-4a65-b4af-b69e29492c2b'}]}, {'creationTimeStamp': '2024-10-31T14:28:40.04021Z', 'createdBy': 'Fabio.Ceruti@sas.com', 'modifiedTimeStamp': '2024-10-31T14:28:40.173048Z', 'modifiedBy': 'Fabio.Ceruti@sas.com', 'version': 2, 'id': '743694d5-915b-472e-9957-bb68fe2bcc60', 'name': 'outputVar.json', 'role': 'outputVariables', 'fileUri': '/files/files/14519d55-7e58-4719-85ca-84584fd3877c', 'modelId': '8d980302-892b-4e91-a82d-2e59ddc39f80', 'links': [{'method': 'GET', 'rel': 'UP', 'href': '/modelRepository/models/8d980302-892b-4e91-a82d-2e59ddc39f80', 'uri': '/modelRepository/models/8d980302-892b-4e91-a82d-2e59ddc39f80', 'itemType': 'application/vnd.sas.models.model.content'}, {'method': 'GET', 'rel': 'self', 'href': '/modelRepository/models/8d980302-892b-4e91-a82d-2e59ddc39f80/contents/743694d5-915b-472e-9957-bb68fe2bcc60', 'uri': '/modelRepository/models/8d980302-892b-4e91-a82d-2e59ddc39f80/contents/743694d5-915b-472e-9957-bb68fe2bcc60', 'type': 'application/vnd.sas.models.model.content'}, {'method': 'GET', 'rel': 'content', 'uri': '/modelRepository/models/8d980302-892b-4e91-a82d-2e59ddc39f80/contents/743694d5-915b-472e-9957-bb68fe2bcc60/content', 'type': 'application/octet-stream'}, {'method': 'POST', 'rel': 'create', 'href': '/modelRepository/models/8d980302-892b-4e91-a82d-2e59ddc39f80/contents/743694d5-915b-472e-9957-bb68fe2bcc60', 'uri': '/modelRepository/models/8d980302-892b-4e91-a82d-2e59ddc39f80/contents/743694d5-915b-472e-9957-bb68fe2bcc60', 'type': 'multipart/form-data'}, {'method': 'PUT', 'rel': 'update', 'href': '/modelRepository/models/8d980302-892b-4e91-a82d-2e59ddc39f80/contents/743694d5-915b-472e-9957-bb68fe2bcc60', 'uri': '/modelRepository/models/8d980302-892b-4e91-a82d-2e59ddc39f80/contents/743694d5-915b-472e-9957-bb68fe2bcc60', 'type': 'application/vnd.sas.models.model.content'}, {'method': 'PUT', 'rel': 'updateContentMultipart', 'href': '/modelRepository/models/8d980302-892b-4e91-a82d-2e59ddc39f80/contents/743694d5-915b-472e-9957-bb68fe2bcc60', 'uri': '/modelRepository/models/8d980302-892b-4e91-a82d-2e59ddc39f80/contents/743694d5-915b-472e-9957-bb68fe2bcc60', 'type': 'application/vnd.sas.models.model.content'}, {'method': 'DELETE', 'rel': 'delete', 'href': '/modelRepository/models/8d980302-892b-4e91-a82d-2e59ddc39f80/contents/743694d5-915b-472e-9957-bb68fe2bcc60', 'uri': '/modelRepository/models/8d980302-892b-4e91-a82d-2e59ddc39f80/contents/743694d5-915b-472e-9957-bb68fe2bcc60'}]}, {'creationTimeStamp': '2024-10-31T14:28:40.134633Z', 'createdBy': 'Fabio.Ceruti@sas.com', 'modifiedTimeStamp': '2024-10-31T14:28:40.259479Z', 'modifiedBy': 'Fabio.Ceruti@sas.com', 'version': 2, 'id': '0cb199ad-ece5-44d1-b621-bae7e6a45a9d', 'name': 'score_SK_RandomForest_new2.py', 'role': 'score', 'fileUri': '/files/files/64eb42b0-7499-42dd-bd69-0028c32a5bc8', 'modelId': '8d980302-892b-4e91-a82d-2e59ddc39f80', 'links': [{'method': 'GET', 'rel': 'UP', 'href': '/modelRepository/models/8d980302-892b-4e91-a82d-2e59ddc39f80', 'uri': '/modelRepository/models/8d980302-892b-4e91-a82d-2e59ddc39f80', 'itemType': 'application/vnd.sas.models.model.content'}, {'method': 'GET', 'rel': 'self', 'href': '/modelRepository/models/8d980302-892b-4e91-a82d-2e59ddc39f80/contents/0cb199ad-ece5-44d1-b621-bae7e6a45a9d', 'uri': '/modelRepository/models/8d980302-892b-4e91-a82d-2e59ddc39f80/contents/0cb199ad-ece5-44d1-b621-bae7e6a45a9d', 'type': 'application/vnd.sas.models.model.content'}, {'method': 'GET', 'rel': 'content', 'uri': '/modelRepository/models/8d980302-892b-4e91-a82d-2e59ddc39f80/contents/0cb199ad-ece5-44d1-b621-bae7e6a45a9d/content', 'type': 'application/octet-stream'}, {'method': 'POST', 'rel': 'create', 'href': '/modelRepository/models/8d980302-892b-4e91-a82d-2e59ddc39f80/contents/0cb199ad-ece5-44d1-b621-bae7e6a45a9d', 'uri': '/modelRepository/models/8d980302-892b-4e91-a82d-2e59ddc39f80/contents/0cb199ad-ece5-44d1-b621-bae7e6a45a9d', 'type': 'multipart/form-data'}, {'method': 'PUT', 'rel': 'update', 'href': '/modelRepository/models/8d980302-892b-4e91-a82d-2e59ddc39f80/contents/0cb199ad-ece5-44d1-b621-bae7e6a45a9d', 'uri': '/modelRepository/models/8d980302-892b-4e91-a82d-2e59ddc39f80/contents/0cb199ad-ece5-44d1-b621-bae7e6a45a9d', 'type': 'application/vnd.sas.models.model.content'}, {'method': 'PUT', 'rel': 'updateContentMultipart', 'href': '/modelRepository/models/8d980302-892b-4e91-a82d-2e59ddc39f80/contents/0cb199ad-ece5-44d1-b621-bae7e6a45a9d', 'uri': '/modelRepository/models/8d980302-892b-4e91-a82d-2e59ddc39f80/contents/0cb199ad-ece5-44d1-b621-bae7e6a45a9d', 'type': 'application/vnd.sas.models.model.content'}, {'method': 'DELETE', 'rel': 'delete', 'href': '/modelRepository/models/8d980302-892b-4e91-a82d-2e59ddc39f80/contents/0cb199ad-ece5-44d1-b621-bae7e6a45a9d', 'uri': '/modelRepository/models/8d980302-892b-4e91-a82d-2e59ddc39f80/contents/0cb199ad-ece5-44d1-b621-bae7e6a45a9d'}]}, {'creationTimeStamp': '2024-10-31T14:28:40.363383Z', 'createdBy': 'Fabio.Ceruti@sas.com', 'modifiedTimeStamp': '2024-10-31T14:28:40.363384Z', 'modifiedBy': 'Fabio.Ceruti@sas.com', 'version': 2, 'id': 'a3a7c671-dad3-46cb-9654-62b165ab0f70', 'name': 'fileMetadata.json', 'fileUri': '/files/files/1db64417-e847-431f-9eae-c034692cf20a', 'modelId': '8d980302-892b-4e91-a82d-2e59ddc39f80', 'links': [{'method': 'GET', 'rel': 'UP', 'href': '/modelRepository/models/8d980302-892b-4e91-a82d-2e59ddc39f80', 'uri': '/modelRepository/models/8d980302-892b-4e91-a82d-2e59ddc39f80', 'itemType': 'application/vnd.sas.models.model.content'}, {'method': 'GET', 'rel': 'self', 'href': '/modelRepository/models/8d980302-892b-4e91-a82d-2e59ddc39f80/contents/a3a7c671-dad3-46cb-9654-62b165ab0f70', 'uri': '/modelRepository/models/8d980302-892b-4e91-a82d-2e59ddc39f80/contents/a3a7c671-dad3-46cb-9654-62b165ab0f70', 'type': 'application/vnd.sas.models.model.content'}, {'method': 'GET', 'rel': 'content', 'uri': '/modelRepository/models/8d980302-892b-4e91-a82d-2e59ddc39f80/contents/a3a7c671-dad3-46cb-9654-62b165ab0f70/content', 'type': 'application/octet-stream'}, {'method': 'POST', 'rel': 'create', 'href': '/modelRepository/models/8d980302-892b-4e91-a82d-2e59ddc39f80/contents/a3a7c671-dad3-46cb-9654-62b165ab0f70', 'uri': '/modelRepository/models/8d980302-892b-4e91-a82d-2e59ddc39f80/contents/a3a7c671-dad3-46cb-9654-62b165ab0f70', 'type': 'multipart/form-data'}, {'method': 'PUT', 'rel': 'update', 'href': '/modelRepository/models/8d980302-892b-4e91-a82d-2e59ddc39f80/contents/a3a7c671-dad3-46cb-9654-62b165ab0f70', 'uri': '/modelRepository/models/8d980302-892b-4e91-a82d-2e59ddc39f80/contents/a3a7c671-dad3-46cb-9654-62b165ab0f70', 'type': 'application/vnd.sas.models.model.content'}, {'method': 'PUT', 'rel': 'updateContentMultipart', 'href': '/modelRepository/models/8d980302-892b-4e91-a82d-2e59ddc39f80/contents/a3a7c671-dad3-46cb-9654-62b165ab0f70', 'uri': '/modelRepository/models/8d980302-892b-4e91-a82d-2e59ddc39f80/contents/a3a7c671-dad3-46cb-9654-62b165ab0f70', 'type': 'application/vnd.sas.models.model.content'}, {'method': 'DELETE', 'rel': 'delete', 'href': '/modelRepository/models/8d980302-892b-4e91-a82d-2e59ddc39f80/contents/a3a7c671-dad3-46cb-9654-62b165ab0f70', 'uri': '/modelRepository/models/8d980302-892b-4e91-a82d-2e59ddc39f80/contents/a3a7c671-dad3-46cb-9654-62b165ab0f70'}]}, {'creationTimeStamp': '0001-01-01T00:00:00Z', 'createdBy': 'Fabio.Ceruti@sas.com', 'modifiedTimeStamp': '0001-01-01T00:00:00Z', 'modifiedBy': 'Fabio.Ceruti@sas.com', 'version': 2, 'id': '0291b8a1-c30d-4679-8f3b-677fc22577d1', 'name': 'SK_RandomForest_new2.pickle', 'modelId': '8d980302-892b-4e91-a82d-2e59ddc39f80', 'uploadError': 'The file \"SK_RandomForest_new2.pickle\" cannot be uploaded because it is larger than 100 megabytes.', 'links': [{'method': 'GET', 'rel': 'UP', 'href': '/modelRepository/models/8d980302-892b-4e91-a82d-2e59ddc39f80', 'uri': '/modelRepository/models/8d980302-892b-4e91-a82d-2e59ddc39f80', 'itemType': 'application/vnd.sas.models.model.content'}, {'method': 'GET', 'rel': 'self', 'href': '/modelRepository/models/8d980302-892b-4e91-a82d-2e59ddc39f80/contents/0291b8a1-c30d-4679-8f3b-677fc22577d1', 'uri': '/modelRepository/models/8d980302-892b-4e91-a82d-2e59ddc39f80/contents/0291b8a1-c30d-4679-8f3b-677fc22577d1', 'type': 'application/vnd.sas.models.model.content'}, {'method': 'GET', 'rel': 'content', 'uri': '/modelRepository/models/8d980302-892b-4e91-a82d-2e59ddc39f80/contents/0291b8a1-c30d-4679-8f3b-677fc22577d1/content', 'type': 'application/octet-stream'}, {'method': 'POST', 'rel': 'create', 'href': '/modelRepository/models/8d980302-892b-4e91-a82d-2e59ddc39f80/contents/0291b8a1-c30d-4679-8f3b-677fc22577d1', 'uri': '/modelRepository/models/8d980302-892b-4e91-a82d-2e59ddc39f80/contents/0291b8a1-c30d-4679-8f3b-677fc22577d1', 'type': 'multipart/form-data'}, {'method': 'PUT', 'rel': 'update', 'href': '/modelRepository/models/8d980302-892b-4e91-a82d-2e59ddc39f80/contents/0291b8a1-c30d-4679-8f3b-677fc22577d1', 'uri': '/modelRepository/models/8d980302-892b-4e91-a82d-2e59ddc39f80/contents/0291b8a1-c30d-4679-8f3b-677fc22577d1', 'type': 'application/vnd.sas.models.model.content'}, {'method': 'PUT', 'rel': 'updateContentMultipart', 'href': '/modelRepository/models/8d980302-892b-4e91-a82d-2e59ddc39f80/contents/0291b8a1-c30d-4679-8f3b-677fc22577d1', 'uri': '/modelRepository/models/8d980302-892b-4e91-a82d-2e59ddc39f80/contents/0291b8a1-c30d-4679-8f3b-677fc22577d1', 'type': 'application/vnd.sas.models.model.content'}, {'method': 'DELETE', 'rel': 'delete', 'href': '/modelRepository/models/8d980302-892b-4e91-a82d-2e59ddc39f80/contents/0291b8a1-c30d-4679-8f3b-677fc22577d1', 'uri': '/modelRepository/models/8d980302-892b-4e91-a82d-2e59ddc39f80/contents/0291b8a1-c30d-4679-8f3b-677fc22577d1'}]}], 'inputVariables': [{'creationTimeStamp': '2024-10-31T14:28:39.353205Z', 'createdBy': 'anonymous', 'modifiedTimeStamp': '2024-10-31T14:28:39.353206Z', 'modifiedBy': 'anonymous', 'name': 'CreditLineAge', 'description': '', 'role': 'input', 'type': 'decimal', 'level': 'interval', 'format': '', 'aggregation': '', 'length': 8, 'id': 'b8b6dc47-7c0c-448b-b2a0-d275d4de05e2', 'holderId': '8d980302-892b-4e91-a82d-2e59ddc39f80', 'links': [{'method': 'GET', 'rel': 'up', 'href': '/modelRepository/models/8d980302-892b-4e91-a82d-2e59ddc39f80/variables/b8b6dc47-7c0c-448b-b2a0-d275d4de05e2', 'uri': '/modelRepository/models/8d980302-892b-4e91-a82d-2e59ddc39f80/variables', 'type': 'application/vnd.sas.collection'}, {'method': 'GET', 'rel': 'self', 'href': '/modelRepository/models/8d980302-892b-4e91-a82d-2e59ddc39f80/variables/b8b6dc47-7c0c-448b-b2a0-d275d4de05e2', 'uri': '/modelRepository/models/8d980302-892b-4e91-a82d-2e59ddc39f80/variables/b8b6dc47-7c0c-448b-b2a0-d275d4de05e2', 'type': 'application/vnd.sas.models.model.variable'}, {'method': 'PUT', 'rel': 'update', 'href': '/modelRepository/models/8d980302-892b-4e91-a82d-2e59ddc39f80/variables/b8b6dc47-7c0c-448b-b2a0-d275d4de05e2', 'uri': '/modelRepository/models/8d980302-892b-4e91-a82d-2e59ddc39f80/variables/b8b6dc47-7c0c-448b-b2a0-d275d4de05e2', 'type': 'application/vnd.sas.models.model.variable'}, {'method': 'DELETE', 'rel': 'delete', 'href': '/modelRepository/models/8d980302-892b-4e91-a82d-2e59ddc39f80/variables/b8b6dc47-7c0c-448b-b2a0-d275d4de05e2', 'uri': '/modelRepository/models/8d980302-892b-4e91-a82d-2e59ddc39f80/variables/b8b6dc47-7c0c-448b-b2a0-d275d4de05e2', 'type': 'application/vnd.sas.models.model.variable'}]}, {'creationTimeStamp': '2024-10-31T14:28:39.434509Z', 'createdBy': 'anonymous', 'modifiedTimeStamp': '2024-10-31T14:28:39.43451Z', 'modifiedBy': 'anonymous', 'name': 'DebtIncRatio', 'description': '', 'role': 'input', 'type': 'decimal', 'level': 'interval', 'format': '', 'aggregation': '', 'length': 8, 'id': 'cff43970-ee54-4bdc-8d4c-6a1c1ca57154', 'holderId': '8d980302-892b-4e91-a82d-2e59ddc39f80', 'links': [{'method': 'GET', 'rel': 'up', 'href': '/modelRepository/models/8d980302-892b-4e91-a82d-2e59ddc39f80/variables/cff43970-ee54-4bdc-8d4c-6a1c1ca57154', 'uri': '/modelRepository/models/8d980302-892b-4e91-a82d-2e59ddc39f80/variables', 'type': 'application/vnd.sas.collection'}, {'method': 'GET', 'rel': 'self', 'href': '/modelRepository/models/8d980302-892b-4e91-a82d-2e59ddc39f80/variables/cff43970-ee54-4bdc-8d4c-6a1c1ca57154', 'uri': '/modelRepository/models/8d980302-892b-4e91-a82d-2e59ddc39f80/variables/cff43970-ee54-4bdc-8d4c-6a1c1ca57154', 'type': 'application/vnd.sas.models.model.variable'}, {'method': 'PUT', 'rel': 'update', 'href': '/modelRepository/models/8d980302-892b-4e91-a82d-2e59ddc39f80/variables/cff43970-ee54-4bdc-8d4c-6a1c1ca57154', 'uri': '/modelRepository/models/8d980302-892b-4e91-a82d-2e59ddc39f80/variables/cff43970-ee54-4bdc-8d4c-6a1c1ca57154', 'type': 'application/vnd.sas.models.model.variable'}, {'method': 'DELETE', 'rel': 'delete', 'href': '/modelRepository/models/8d980302-892b-4e91-a82d-2e59ddc39f80/variables/cff43970-ee54-4bdc-8d4c-6a1c1ca57154', 'uri': '/modelRepository/models/8d980302-892b-4e91-a82d-2e59ddc39f80/variables/cff43970-ee54-4bdc-8d4c-6a1c1ca57154', 'type': 'application/vnd.sas.models.model.variable'}]}, {'creationTimeStamp': '2024-10-31T14:28:39.449776Z', 'createdBy': 'anonymous', 'modifiedTimeStamp': '2024-10-31T14:28:39.449776Z', 'modifiedBy': 'anonymous', 'name': 'FICOScore', 'description': '', 'role': 'input', 'type': 'decimal', 'level': 'interval', 'format': '', 'aggregation': '', 'length': 8, 'id': '8c6a6225-3f6a-44f6-9e7d-81a2534da010', 'holderId': '8d980302-892b-4e91-a82d-2e59ddc39f80', 'links': [{'method': 'GET', 'rel': 'up', 'href': '/modelRepository/models/8d980302-892b-4e91-a82d-2e59ddc39f80/variables/8c6a6225-3f6a-44f6-9e7d-81a2534da010', 'uri': '/modelRepository/models/8d980302-892b-4e91-a82d-2e59ddc39f80/variables', 'type': 'application/vnd.sas.collection'}, {'method': 'GET', 'rel': 'self', 'href': '/modelRepository/models/8d980302-892b-4e91-a82d-2e59ddc39f80/variables/8c6a6225-3f6a-44f6-9e7d-81a2534da010', 'uri': '/modelRepository/models/8d980302-892b-4e91-a82d-2e59ddc39f80/variables/8c6a6225-3f6a-44f6-9e7d-81a2534da010', 'type': 'application/vnd.sas.models.model.variable'}, {'method': 'PUT', 'rel': 'update', 'href': '/modelRepository/models/8d980302-892b-4e91-a82d-2e59ddc39f80/variables/8c6a6225-3f6a-44f6-9e7d-81a2534da010', 'uri': '/modelRepository/models/8d980302-892b-4e91-a82d-2e59ddc39f80/variables/8c6a6225-3f6a-44f6-9e7d-81a2534da010', 'type': 'application/vnd.sas.models.model.variable'}, {'method': 'DELETE', 'rel': 'delete', 'href': '/modelRepository/models/8d980302-892b-4e91-a82d-2e59ddc39f80/variables/8c6a6225-3f6a-44f6-9e7d-81a2534da010', 'uri': '/modelRepository/models/8d980302-892b-4e91-a82d-2e59ddc39f80/variables/8c6a6225-3f6a-44f6-9e7d-81a2534da010', 'type': 'application/vnd.sas.models.model.variable'}]}, {'creationTimeStamp': '2024-10-31T14:28:39.457646Z', 'createdBy': 'anonymous', 'modifiedTimeStamp': '2024-10-31T14:28:39.457646Z', 'modifiedBy': 'anonymous', 'name': 'Inquiries6Mnths', 'description': '', 'role': 'input', 'type': 'decimal', 'level': 'interval', 'format': '', 'aggregation': '', 'length': 8, 'id': 'cca3b7e2-2c77-477a-9cef-4b7dfe415e8a', 'holderId': '8d980302-892b-4e91-a82d-2e59ddc39f80', 'links': [{'method': 'GET', 'rel': 'up', 'href': '/modelRepository/models/8d980302-892b-4e91-a82d-2e59ddc39f80/variables/cca3b7e2-2c77-477a-9cef-4b7dfe415e8a', 'uri': '/modelRepository/models/8d980302-892b-4e91-a82d-2e59ddc39f80/variables', 'type': 'application/vnd.sas.collection'}, {'method': 'GET', 'rel': 'self', 'href': '/modelRepository/models/8d980302-892b-4e91-a82d-2e59ddc39f80/variables/cca3b7e2-2c77-477a-9cef-4b7dfe415e8a', 'uri': '/modelRepository/models/8d980302-892b-4e91-a82d-2e59ddc39f80/variables/cca3b7e2-2c77-477a-9cef-4b7dfe415e8a', 'type': 'application/vnd.sas.models.model.variable'}, {'method': 'PUT', 'rel': 'update', 'href': '/modelRepository/models/8d980302-892b-4e91-a82d-2e59ddc39f80/variables/cca3b7e2-2c77-477a-9cef-4b7dfe415e8a', 'uri': '/modelRepository/models/8d980302-892b-4e91-a82d-2e59ddc39f80/variables/cca3b7e2-2c77-477a-9cef-4b7dfe415e8a', 'type': 'application/vnd.sas.models.model.variable'}, {'method': 'DELETE', 'rel': 'delete', 'href': '/modelRepository/models/8d980302-892b-4e91-a82d-2e59ddc39f80/variables/cca3b7e2-2c77-477a-9cef-4b7dfe415e8a', 'uri': '/modelRepository/models/8d980302-892b-4e91-a82d-2e59ddc39f80/variables/cca3b7e2-2c77-477a-9cef-4b7dfe415e8a', 'type': 'application/vnd.sas.models.model.variable'}]}, {'creationTimeStamp': '2024-10-31T14:28:39.491921Z', 'createdBy': 'anonymous', 'modifiedTimeStamp': '2024-10-31T14:28:39.491921Z', 'modifiedBy': 'anonymous', 'name': 'LogAnnualInc', 'description': '', 'role': 'input', 'type': 'decimal', 'level': 'interval', 'format': '', 'aggregation': '', 'length': 8, 'id': '00e4f03f-1111-4263-a089-3211876b587b', 'holderId': '8d980302-892b-4e91-a82d-2e59ddc39f80', 'links': [{'method': 'GET', 'rel': 'up', 'href': '/modelRepository/models/8d980302-892b-4e91-a82d-2e59ddc39f80/variables/00e4f03f-1111-4263-a089-3211876b587b', 'uri': '/modelRepository/models/8d980302-892b-4e91-a82d-2e59ddc39f80/variables', 'type': 'application/vnd.sas.collection'}, {'method': 'GET', 'rel': 'self', 'href': '/modelRepository/models/8d980302-892b-4e91-a82d-2e59ddc39f80/variables/00e4f03f-1111-4263-a089-3211876b587b', 'uri': '/modelRepository/models/8d980302-892b-4e91-a82d-2e59ddc39f80/variables/00e4f03f-1111-4263-a089-3211876b587b', 'type': 'application/vnd.sas.models.model.variable'}, {'method': 'PUT', 'rel': 'update', 'href': '/modelRepository/models/8d980302-892b-4e91-a82d-2e59ddc39f80/variables/00e4f03f-1111-4263-a089-3211876b587b', 'uri': '/modelRepository/models/8d980302-892b-4e91-a82d-2e59ddc39f80/variables/00e4f03f-1111-4263-a089-3211876b587b', 'type': 'application/vnd.sas.models.model.variable'}, {'method': 'DELETE', 'rel': 'delete', 'href': '/modelRepository/models/8d980302-892b-4e91-a82d-2e59ddc39f80/variables/00e4f03f-1111-4263-a089-3211876b587b', 'uri': '/modelRepository/models/8d980302-892b-4e91-a82d-2e59ddc39f80/variables/00e4f03f-1111-4263-a089-3211876b587b', 'type': 'application/vnd.sas.models.model.variable'}]}, {'creationTimeStamp': '2024-10-31T14:28:39.497665Z', 'createdBy': 'anonymous', 'modifiedTimeStamp': '2024-10-31T14:28:39.497666Z', 'modifiedBy': 'anonymous', 'name': 'RevBalance', 'description': '', 'role': 'input', 'type': 'decimal', 'level': 'interval', 'format': '', 'aggregation': '', 'length': 8, 'id': 'b9c0e869-cb03-46ed-a716-71fc30a6aff8', 'holderId': '8d980302-892b-4e91-a82d-2e59ddc39f80', 'links': [{'method': 'GET', 'rel': 'up', 'href': '/modelRepository/models/8d980302-892b-4e91-a82d-2e59ddc39f80/variables/b9c0e869-cb03-46ed-a716-71fc30a6aff8', 'uri': '/modelRepository/models/8d980302-892b-4e91-a82d-2e59ddc39f80/variables', 'type': 'application/vnd.sas.collection'}, {'method': 'GET', 'rel': 'self', 'href': '/modelRepository/models/8d980302-892b-4e91-a82d-2e59ddc39f80/variables/b9c0e869-cb03-46ed-a716-71fc30a6aff8', 'uri': '/modelRepository/models/8d980302-892b-4e91-a82d-2e59ddc39f80/variables/b9c0e869-cb03-46ed-a716-71fc30a6aff8', 'type': 'application/vnd.sas.models.model.variable'}, {'method': 'PUT', 'rel': 'update', 'href': '/modelRepository/models/8d980302-892b-4e91-a82d-2e59ddc39f80/variables/b9c0e869-cb03-46ed-a716-71fc30a6aff8', 'uri': '/modelRepository/models/8d980302-892b-4e91-a82d-2e59ddc39f80/variables/b9c0e869-cb03-46ed-a716-71fc30a6aff8', 'type': 'application/vnd.sas.models.model.variable'}, {'method': 'DELETE', 'rel': 'delete', 'href': '/modelRepository/models/8d980302-892b-4e91-a82d-2e59ddc39f80/variables/b9c0e869-cb03-46ed-a716-71fc30a6aff8', 'uri': '/modelRepository/models/8d980302-892b-4e91-a82d-2e59ddc39f80/variables/b9c0e869-cb03-46ed-a716-71fc30a6aff8', 'type': 'application/vnd.sas.models.model.variable'}]}, {'creationTimeStamp': '2024-10-31T14:28:39.500139Z', 'createdBy': 'anonymous', 'modifiedTimeStamp': '2024-10-31T14:28:39.500139Z', 'modifiedBy': 'anonymous', 'name': 'RevUtilization', 'description': '', 'role': 'input', 'type': 'decimal', 'level': 'interval', 'format': '', 'aggregation': '', 'length': 8, 'id': '181e26ec-4cfc-4911-aad5-0ce188224460', 'holderId': '8d980302-892b-4e91-a82d-2e59ddc39f80', 'links': [{'method': 'GET', 'rel': 'up', 'href': '/modelRepository/models/8d980302-892b-4e91-a82d-2e59ddc39f80/variables/181e26ec-4cfc-4911-aad5-0ce188224460', 'uri': '/modelRepository/models/8d980302-892b-4e91-a82d-2e59ddc39f80/variables', 'type': 'application/vnd.sas.collection'}, {'method': 'GET', 'rel': 'self', 'href': '/modelRepository/models/8d980302-892b-4e91-a82d-2e59ddc39f80/variables/181e26ec-4cfc-4911-aad5-0ce188224460', 'uri': '/modelRepository/models/8d980302-892b-4e91-a82d-2e59ddc39f80/variables/181e26ec-4cfc-4911-aad5-0ce188224460', 'type': 'application/vnd.sas.models.model.variable'}, {'method': 'PUT', 'rel': 'update', 'href': '/modelRepository/models/8d980302-892b-4e91-a82d-2e59ddc39f80/variables/181e26ec-4cfc-4911-aad5-0ce188224460', 'uri': '/modelRepository/models/8d980302-892b-4e91-a82d-2e59ddc39f80/variables/181e26ec-4cfc-4911-aad5-0ce188224460', 'type': 'application/vnd.sas.models.model.variable'}, {'method': 'DELETE', 'rel': 'delete', 'href': '/modelRepository/models/8d980302-892b-4e91-a82d-2e59ddc39f80/variables/181e26ec-4cfc-4911-aad5-0ce188224460', 'uri': '/modelRepository/models/8d980302-892b-4e91-a82d-2e59ddc39f80/variables/181e26ec-4cfc-4911-aad5-0ce188224460', 'type': 'application/vnd.sas.models.model.variable'}]}, {'creationTimeStamp': '2024-10-31T14:28:39.504108Z', 'createdBy': 'anonymous', 'modifiedTimeStamp': '2024-10-31T14:28:39.504108Z', 'modifiedBy': 'anonymous', 'name': 'Installment', 'description': '', 'role': 'input', 'type': 'decimal', 'level': 'interval', 'format': '', 'aggregation': '', 'length': 8, 'id': 'da57db36-dc5e-4474-9ab6-66bbcc98016b', 'holderId': '8d980302-892b-4e91-a82d-2e59ddc39f80', 'links': [{'method': 'GET', 'rel': 'up', 'href': '/modelRepository/models/8d980302-892b-4e91-a82d-2e59ddc39f80/variables/da57db36-dc5e-4474-9ab6-66bbcc98016b', 'uri': '/modelRepository/models/8d980302-892b-4e91-a82d-2e59ddc39f80/variables', 'type': 'application/vnd.sas.collection'}, {'method': 'GET', 'rel': 'self', 'href': '/modelRepository/models/8d980302-892b-4e91-a82d-2e59ddc39f80/variables/da57db36-dc5e-4474-9ab6-66bbcc98016b', 'uri': '/modelRepository/models/8d980302-892b-4e91-a82d-2e59ddc39f80/variables/da57db36-dc5e-4474-9ab6-66bbcc98016b', 'type': 'application/vnd.sas.models.model.variable'}, {'method': 'PUT', 'rel': 'update', 'href': '/modelRepository/models/8d980302-892b-4e91-a82d-2e59ddc39f80/variables/da57db36-dc5e-4474-9ab6-66bbcc98016b', 'uri': '/modelRepository/models/8d980302-892b-4e91-a82d-2e59ddc39f80/variables/da57db36-dc5e-4474-9ab6-66bbcc98016b', 'type': 'application/vnd.sas.models.model.variable'}, {'method': 'DELETE', 'rel': 'delete', 'href': '/modelRepository/models/8d980302-892b-4e91-a82d-2e59ddc39f80/variables/da57db36-dc5e-4474-9ab6-66bbcc98016b', 'uri': '/modelRepository/models/8d980302-892b-4e91-a82d-2e59ddc39f80/variables/da57db36-dc5e-4474-9ab6-66bbcc98016b', 'type': 'application/vnd.sas.models.model.variable'}]}, {'creationTimeStamp': '2024-10-31T14:28:39.539578Z', 'createdBy': 'anonymous', 'modifiedTimeStamp': '2024-10-31T14:28:39.539578Z', 'modifiedBy': 'anonymous', 'name': 'InterestRate', 'description': '', 'role': 'input', 'type': 'decimal', 'level': 'interval', 'format': '', 'aggregation': '', 'length': 8, 'id': 'bb263279-7018-4617-b03e-ec04ee651811', 'holderId': '8d980302-892b-4e91-a82d-2e59ddc39f80', 'links': [{'method': 'GET', 'rel': 'up', 'href': '/modelRepository/models/8d980302-892b-4e91-a82d-2e59ddc39f80/variables/bb263279-7018-4617-b03e-ec04ee651811', 'uri': '/modelRepository/models/8d980302-892b-4e91-a82d-2e59ddc39f80/variables', 'type': 'application/vnd.sas.collection'}, {'method': 'GET', 'rel': 'self', 'href': '/modelRepository/models/8d980302-892b-4e91-a82d-2e59ddc39f80/variables/bb263279-7018-4617-b03e-ec04ee651811', 'uri': '/modelRepository/models/8d980302-892b-4e91-a82d-2e59ddc39f80/variables/bb263279-7018-4617-b03e-ec04ee651811', 'type': 'application/vnd.sas.models.model.variable'}, {'method': 'PUT', 'rel': 'update', 'href': '/modelRepository/models/8d980302-892b-4e91-a82d-2e59ddc39f80/variables/bb263279-7018-4617-b03e-ec04ee651811', 'uri': '/modelRepository/models/8d980302-892b-4e91-a82d-2e59ddc39f80/variables/bb263279-7018-4617-b03e-ec04ee651811', 'type': 'application/vnd.sas.models.model.variable'}, {'method': 'DELETE', 'rel': 'delete', 'href': '/modelRepository/models/8d980302-892b-4e91-a82d-2e59ddc39f80/variables/bb263279-7018-4617-b03e-ec04ee651811', 'uri': '/modelRepository/models/8d980302-892b-4e91-a82d-2e59ddc39f80/variables/bb263279-7018-4617-b03e-ec04ee651811', 'type': 'application/vnd.sas.models.model.variable'}]}, {'creationTimeStamp': '2024-10-31T14:28:39.567575Z', 'createdBy': 'anonymous', 'modifiedTimeStamp': '2024-10-31T14:28:39.567575Z', 'modifiedBy': 'anonymous', 'name': 'CreditPolicy', 'description': '', 'role': 'input', 'type': 'decimal', 'level': 'interval', 'format': '', 'aggregation': '', 'length': 8, 'id': '99f38312-a4c6-4850-b03e-10e277125f10', 'holderId': '8d980302-892b-4e91-a82d-2e59ddc39f80', 'links': [{'method': 'GET', 'rel': 'up', 'href': '/modelRepository/models/8d980302-892b-4e91-a82d-2e59ddc39f80/variables/99f38312-a4c6-4850-b03e-10e277125f10', 'uri': '/modelRepository/models/8d980302-892b-4e91-a82d-2e59ddc39f80/variables', 'type': 'application/vnd.sas.collection'}, {'method': 'GET', 'rel': 'self', 'href': '/modelRepository/models/8d980302-892b-4e91-a82d-2e59ddc39f80/variables/99f38312-a4c6-4850-b03e-10e277125f10', 'uri': '/modelRepository/models/8d980302-892b-4e91-a82d-2e59ddc39f80/variables/99f38312-a4c6-4850-b03e-10e277125f10', 'type': 'application/vnd.sas.models.model.variable'}, {'method': 'PUT', 'rel': 'update', 'href': '/modelRepository/models/8d980302-892b-4e91-a82d-2e59ddc39f80/variables/99f38312-a4c6-4850-b03e-10e277125f10', 'uri': '/modelRepository/models/8d980302-892b-4e91-a82d-2e59ddc39f80/variables/99f38312-a4c6-4850-b03e-10e277125f10', 'type': 'application/vnd.sas.models.model.variable'}, {'method': 'DELETE', 'rel': 'delete', 'href': '/modelRepository/models/8d980302-892b-4e91-a82d-2e59ddc39f80/variables/99f38312-a4c6-4850-b03e-10e277125f10', 'uri': '/modelRepository/models/8d980302-892b-4e91-a82d-2e59ddc39f80/variables/99f38312-a4c6-4850-b03e-10e277125f10', 'type': 'application/vnd.sas.models.model.variable'}]}, {'creationTimeStamp': '2024-10-31T14:28:39.645172Z', 'createdBy': 'anonymous', 'modifiedTimeStamp': '2024-10-31T14:28:39.645172Z', 'modifiedBy': 'anonymous', 'name': 'Delinquencies2Yrs', 'description': '', 'role': 'input', 'type': 'decimal', 'level': 'interval', 'format': '', 'aggregation': '', 'length': 8, 'id': 'e8353250-7666-4ca8-9029-3ba7011539a9', 'holderId': '8d980302-892b-4e91-a82d-2e59ddc39f80', 'links': [{'method': 'GET', 'rel': 'up', 'href': '/modelRepository/models/8d980302-892b-4e91-a82d-2e59ddc39f80/variables/e8353250-7666-4ca8-9029-3ba7011539a9', 'uri': '/modelRepository/models/8d980302-892b-4e91-a82d-2e59ddc39f80/variables', 'type': 'application/vnd.sas.collection'}, {'method': 'GET', 'rel': 'self', 'href': '/modelRepository/models/8d980302-892b-4e91-a82d-2e59ddc39f80/variables/e8353250-7666-4ca8-9029-3ba7011539a9', 'uri': '/modelRepository/models/8d980302-892b-4e91-a82d-2e59ddc39f80/variables/e8353250-7666-4ca8-9029-3ba7011539a9', 'type': 'application/vnd.sas.models.model.variable'}, {'method': 'PUT', 'rel': 'update', 'href': '/modelRepository/models/8d980302-892b-4e91-a82d-2e59ddc39f80/variables/e8353250-7666-4ca8-9029-3ba7011539a9', 'uri': '/modelRepository/models/8d980302-892b-4e91-a82d-2e59ddc39f80/variables/e8353250-7666-4ca8-9029-3ba7011539a9', 'type': 'application/vnd.sas.models.model.variable'}, {'method': 'DELETE', 'rel': 'delete', 'href': '/modelRepository/models/8d980302-892b-4e91-a82d-2e59ddc39f80/variables/e8353250-7666-4ca8-9029-3ba7011539a9', 'uri': '/modelRepository/models/8d980302-892b-4e91-a82d-2e59ddc39f80/variables/e8353250-7666-4ca8-9029-3ba7011539a9', 'type': 'application/vnd.sas.models.model.variable'}]}, {'creationTimeStamp': '2024-10-31T14:28:39.674918Z', 'createdBy': 'anonymous', 'modifiedTimeStamp': '2024-10-31T14:28:39.674918Z', 'modifiedBy': 'anonymous', 'name': 'PublicRecord', 'description': '', 'role': 'input', 'type': 'decimal', 'level': 'interval', 'format': '', 'aggregation': '', 'length': 8, 'id': '3455bd98-fd3f-4594-aaaf-ba180f8bef6c', 'holderId': '8d980302-892b-4e91-a82d-2e59ddc39f80', 'links': [{'method': 'GET', 'rel': 'up', 'href': '/modelRepository/models/8d980302-892b-4e91-a82d-2e59ddc39f80/variables/3455bd98-fd3f-4594-aaaf-ba180f8bef6c', 'uri': '/modelRepository/models/8d980302-892b-4e91-a82d-2e59ddc39f80/variables', 'type': 'application/vnd.sas.collection'}, {'method': 'GET', 'rel': 'self', 'href': '/modelRepository/models/8d980302-892b-4e91-a82d-2e59ddc39f80/variables/3455bd98-fd3f-4594-aaaf-ba180f8bef6c', 'uri': '/modelRepository/models/8d980302-892b-4e91-a82d-2e59ddc39f80/variables/3455bd98-fd3f-4594-aaaf-ba180f8bef6c', 'type': 'application/vnd.sas.models.model.variable'}, {'method': 'PUT', 'rel': 'update', 'href': '/modelRepository/models/8d980302-892b-4e91-a82d-2e59ddc39f80/variables/3455bd98-fd3f-4594-aaaf-ba180f8bef6c', 'uri': '/modelRepository/models/8d980302-892b-4e91-a82d-2e59ddc39f80/variables/3455bd98-fd3f-4594-aaaf-ba180f8bef6c', 'type': 'application/vnd.sas.models.model.variable'}, {'method': 'DELETE', 'rel': 'delete', 'href': '/modelRepository/models/8d980302-892b-4e91-a82d-2e59ddc39f80/variables/3455bd98-fd3f-4594-aaaf-ba180f8bef6c', 'uri': '/modelRepository/models/8d980302-892b-4e91-a82d-2e59ddc39f80/variables/3455bd98-fd3f-4594-aaaf-ba180f8bef6c', 'type': 'application/vnd.sas.models.model.variable'}]}, {'creationTimeStamp': '2024-10-31T14:28:39.726465Z', 'createdBy': 'anonymous', 'modifiedTimeStamp': '2024-10-31T14:28:39.726465Z', 'modifiedBy': 'anonymous', 'name': 'Purpose', 'description': '', 'role': 'input', 'type': 'decimal', 'level': 'interval', 'format': '', 'aggregation': '', 'length': 8, 'id': '488b47e4-0beb-466d-9c74-db107a29d318', 'holderId': '8d980302-892b-4e91-a82d-2e59ddc39f80', 'links': [{'method': 'GET', 'rel': 'up', 'href': '/modelRepository/models/8d980302-892b-4e91-a82d-2e59ddc39f80/variables/488b47e4-0beb-466d-9c74-db107a29d318', 'uri': '/modelRepository/models/8d980302-892b-4e91-a82d-2e59ddc39f80/variables', 'type': 'application/vnd.sas.collection'}, {'method': 'GET', 'rel': 'self', 'href': '/modelRepository/models/8d980302-892b-4e91-a82d-2e59ddc39f80/variables/488b47e4-0beb-466d-9c74-db107a29d318', 'uri': '/modelRepository/models/8d980302-892b-4e91-a82d-2e59ddc39f80/variables/488b47e4-0beb-466d-9c74-db107a29d318', 'type': 'application/vnd.sas.models.model.variable'}, {'method': 'PUT', 'rel': 'update', 'href': '/modelRepository/models/8d980302-892b-4e91-a82d-2e59ddc39f80/variables/488b47e4-0beb-466d-9c74-db107a29d318', 'uri': '/modelRepository/models/8d980302-892b-4e91-a82d-2e59ddc39f80/variables/488b47e4-0beb-466d-9c74-db107a29d318', 'type': 'application/vnd.sas.models.model.variable'}, {'method': 'DELETE', 'rel': 'delete', 'href': '/modelRepository/models/8d980302-892b-4e91-a82d-2e59ddc39f80/variables/488b47e4-0beb-466d-9c74-db107a29d318', 'uri': '/modelRepository/models/8d980302-892b-4e91-a82d-2e59ddc39f80/variables/488b47e4-0beb-466d-9c74-db107a29d318', 'type': 'application/vnd.sas.models.model.variable'}]}], 'outputVariables': [{'creationTimeStamp': '2024-10-31T14:28:39.90272Z', 'createdBy': 'anonymous', 'modifiedTimeStamp': '2024-10-31T14:28:39.90272Z', 'modifiedBy': 'anonymous', 'name': 'I_Default', 'description': '', 'role': 'output', 'type': 'string', 'level': 'nominal', 'format': '', 'aggregation': '', 'length': 1, 'id': '9bc89a23-9c58-4416-8491-2b3711549ae6', 'holderId': '8d980302-892b-4e91-a82d-2e59ddc39f80', 'links': [{'method': 'GET', 'rel': 'up', 'href': '/modelRepository/models/8d980302-892b-4e91-a82d-2e59ddc39f80/variables/9bc89a23-9c58-4416-8491-2b3711549ae6', 'uri': '/modelRepository/models/8d980302-892b-4e91-a82d-2e59ddc39f80/variables', 'type': 'application/vnd.sas.collection'}, {'method': 'GET', 'rel': 'self', 'href': '/modelRepository/models/8d980302-892b-4e91-a82d-2e59ddc39f80/variables/9bc89a23-9c58-4416-8491-2b3711549ae6', 'uri': '/modelRepository/models/8d980302-892b-4e91-a82d-2e59ddc39f80/variables/9bc89a23-9c58-4416-8491-2b3711549ae6', 'type': 'application/vnd.sas.models.model.variable'}, {'method': 'PUT', 'rel': 'update', 'href': '/modelRepository/models/8d980302-892b-4e91-a82d-2e59ddc39f80/variables/9bc89a23-9c58-4416-8491-2b3711549ae6', 'uri': '/modelRepository/models/8d980302-892b-4e91-a82d-2e59ddc39f80/variables/9bc89a23-9c58-4416-8491-2b3711549ae6', 'type': 'application/vnd.sas.models.model.variable'}, {'method': 'DELETE', 'rel': 'delete', 'href': '/modelRepository/models/8d980302-892b-4e91-a82d-2e59ddc39f80/variables/9bc89a23-9c58-4416-8491-2b3711549ae6', 'uri': '/modelRepository/models/8d980302-892b-4e91-a82d-2e59ddc39f80/variables/9bc89a23-9c58-4416-8491-2b3711549ae6', 'type': 'application/vnd.sas.models.model.variable'}]}, {'creationTimeStamp': '2024-10-31T14:28:39.907169Z', 'createdBy': 'anonymous', 'modifiedTimeStamp': '2024-10-31T14:28:39.907169Z', 'modifiedBy': 'anonymous', 'name': 'P_Default1', 'description': '', 'role': 'output', 'type': 'decimal', 'level': 'interval', 'format': '', 'aggregation': '', 'length': 8, 'id': 'ae156385-4efb-4791-bfc1-361ee1835024', 'holderId': '8d980302-892b-4e91-a82d-2e59ddc39f80', 'links': [{'method': 'GET', 'rel': 'up', 'href': '/modelRepository/models/8d980302-892b-4e91-a82d-2e59ddc39f80/variables/ae156385-4efb-4791-bfc1-361ee1835024', 'uri': '/modelRepository/models/8d980302-892b-4e91-a82d-2e59ddc39f80/variables', 'type': 'application/vnd.sas.collection'}, {'method': 'GET', 'rel': 'self', 'href': '/modelRepository/models/8d980302-892b-4e91-a82d-2e59ddc39f80/variables/ae156385-4efb-4791-bfc1-361ee1835024', 'uri': '/modelRepository/models/8d980302-892b-4e91-a82d-2e59ddc39f80/variables/ae156385-4efb-4791-bfc1-361ee1835024', 'type': 'application/vnd.sas.models.model.variable'}, {'method': 'PUT', 'rel': 'update', 'href': '/modelRepository/models/8d980302-892b-4e91-a82d-2e59ddc39f80/variables/ae156385-4efb-4791-bfc1-361ee1835024', 'uri': '/modelRepository/models/8d980302-892b-4e91-a82d-2e59ddc39f80/variables/ae156385-4efb-4791-bfc1-361ee1835024', 'type': 'application/vnd.sas.models.model.variable'}, {'method': 'DELETE', 'rel': 'delete', 'href': '/modelRepository/models/8d980302-892b-4e91-a82d-2e59ddc39f80/variables/ae156385-4efb-4791-bfc1-361ee1835024', 'uri': '/modelRepository/models/8d980302-892b-4e91-a82d-2e59ddc39f80/variables/ae156385-4efb-4791-bfc1-361ee1835024', 'type': 'application/vnd.sas.models.model.variable'}]}, {'creationTimeStamp': '2024-10-31T14:28:39.915685Z', 'createdBy': 'anonymous', 'modifiedTimeStamp': '2024-10-31T14:28:39.915686Z', 'modifiedBy': 'anonymous', 'name': 'P_Default0', 'description': '', 'role': 'output', 'type': 'decimal', 'level': 'interval', 'format': '', 'aggregation': '', 'length': 8, 'id': 'fbb2fdb0-bbac-423e-90af-3fde236afcf6', 'holderId': '8d980302-892b-4e91-a82d-2e59ddc39f80', 'links': [{'method': 'GET', 'rel': 'up', 'href': '/modelRepository/models/8d980302-892b-4e91-a82d-2e59ddc39f80/variables/fbb2fdb0-bbac-423e-90af-3fde236afcf6', 'uri': '/modelRepository/models/8d980302-892b-4e91-a82d-2e59ddc39f80/variables', 'type': 'application/vnd.sas.collection'}, {'method': 'GET', 'rel': 'self', 'href': '/modelRepository/models/8d980302-892b-4e91-a82d-2e59ddc39f80/variables/fbb2fdb0-bbac-423e-90af-3fde236afcf6', 'uri': '/modelRepository/models/8d980302-892b-4e91-a82d-2e59ddc39f80/variables/fbb2fdb0-bbac-423e-90af-3fde236afcf6', 'type': 'application/vnd.sas.models.model.variable'}, {'method': 'PUT', 'rel': 'update', 'href': '/modelRepository/models/8d980302-892b-4e91-a82d-2e59ddc39f80/variables/fbb2fdb0-bbac-423e-90af-3fde236afcf6', 'uri': '/modelRepository/models/8d980302-892b-4e91-a82d-2e59ddc39f80/variables/fbb2fdb0-bbac-423e-90af-3fde236afcf6', 'type': 'application/vnd.sas.models.model.variable'}, {'method': 'DELETE', 'rel': 'delete', 'href': '/modelRepository/models/8d980302-892b-4e91-a82d-2e59ddc39f80/variables/fbb2fdb0-bbac-423e-90af-3fde236afcf6', 'uri': '/modelRepository/models/8d980302-892b-4e91-a82d-2e59ddc39f80/variables/fbb2fdb0-bbac-423e-90af-3fde236afcf6', 'type': 'application/vnd.sas.models.model.variable'}]}], 'modelVersions': [], 'modelLocks': None, 'globalTags': ['ProductManagement', 'Active', 'TrustworthyAI', 'MitigateBias', 'SAS', 'PythonAPI', 'TAI', 'Home_Equity_Loans', 'HMEQ', 'Loans'], 'links': [{'method': 'GET', 'rel': 'up', 'href': '/modelRepository/models', 'uri': '/modelRepository/models', 'type': 'application/vnd.sas.models.model'}, {'method': 'GET', 'rel': 'self', 'href': '/modelRepository/models/8d980302-892b-4e91-a82d-2e59ddc39f80', 'uri': '/modelRepository/models/8d980302-892b-4e91-a82d-2e59ddc39f80', 'type': 'application/vnd.sas.models.model'}, {'method': 'PUT', 'rel': 'update', 'href': '/modelRepository/models/8d980302-892b-4e91-a82d-2e59ddc39f80', 'uri': '/modelRepository/models/8d980302-892b-4e91-a82d-2e59ddc39f80', 'type': 'application/vnd.sas.models.model', 'responseItemType': 'application/vnd.sas.models.model'}, {'method': 'DELETE', 'rel': 'delete', 'href': '/modelRepository/models/8d980302-892b-4e91-a82d-2e59ddc39f80', 'uri': '/modelRepository/models/8d980302-892b-4e91-a82d-2e59ddc39f80'}, {'method': 'GET', 'rel': 'scoreCode', 'href': '/modelRepository/models/8d980302-892b-4e91-a82d-2e59ddc39f80/code', 'uri': '/modelRepository/models/8d980302-892b-4e91-a82d-2e59ddc39f80/code', 'type': 'text/plain'}, {'method': 'GET', 'rel': 'contents', 'href': '/modelRepository/models/8d980302-892b-4e91-a82d-2e59ddc39f80/contents', 'uri': '/modelRepository/models/8d980302-892b-4e91-a82d-2e59ddc39f80/contents', 'type': 'application/vnd.sas.collection', 'itemType': 'application/vnd.sas.models.model.content'}, {'method': 'GET', 'rel': 'modelVersions', 'href': '/modelRepository/models/8d980302-892b-4e91-a82d-2e59ddc39f80/modelVersions', 'uri': '/modelRepository/models/8d980302-892b-4e91-a82d-2e59ddc39f80/modelVersions', 'type': 'application/vnd.sas.collection', 'responseItemType': 'application/vnd.sas.models.model.version'}, {'method': 'POST', 'rel': 'addModelVersion', 'href': '/modelRepository/models/8d980302-892b-4e91-a82d-2e59ddc39f80/modelVersions', 'uri': '/modelRepository/models/8d980302-892b-4e91-a82d-2e59ddc39f80/modelVersions', 'type': 'application/vnd.sas.models.model.version'}, {'method': 'GET', 'rel': 'variables', 'href': '/modelRepository/models/8d980302-892b-4e91-a82d-2e59ddc39f80/variables', 'uri': '/modelRepository/models/8d980302-892b-4e91-a82d-2e59ddc39f80/variables', 'type': 'application/vnd.sas.collection', 'itemType': 'application/vnd.sas.models.model.variable'}]}),\n",
       " 'artifacts/sk_registration')"
      ]
     },
     "execution_count": 12,
     "metadata": {},
     "output_type": "execute_result"
    }
   ],
   "source": [
    "pzmm.ImportModel.import_model(\n",
    "        model_files=mypath, # Where are the model files?\n",
    "        model_prefix=prefix, # What is the model name?\n",
    "        project=project_name, # What is the project name?\n",
    "        input_data=x_train_prep, # What does example input data look like?\n",
    "        predict_method=[sk_model.predict_proba, [int, int]], # What is the predict method and what does it return?\n",
    "        score_metrics=score_metrics, # What are the output variables?\n",
    "        overwrite_model=True, # Overwrite the model if it already exists?\n",
    "        target_values=[\"0\", \"1\"], # What are the expected values of the target variable?\n",
    "        target_index=1, # What is the index of the target value in target_values?\n",
    "        model_file_name=prefix + \".pickle\", # How was the model file serialized?\n",
    "        missing_values=False # Does the data include missing values?\n",
    "    )"
   ]
  }
 ],
 "metadata": {
  "kernelspec": {
   "display_name": "Python 3",
   "language": "python",
   "name": "python3"
  },
  "language_info": {
   "codemirror_mode": {
    "name": "ipython",
    "version": 3
   },
   "file_extension": ".py",
   "mimetype": "text/x-python",
   "name": "python",
   "nbconvert_exporter": "python",
   "pygments_lexer": "ipython3",
   "version": "3.11.9"
  }
 },
 "nbformat": 4,
 "nbformat_minor": 2
}
