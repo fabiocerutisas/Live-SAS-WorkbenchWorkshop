{
 "cells": [
  {
   "cell_type": "markdown",
   "metadata": {},
   "source": [
    "### ML Modelling\n",
    "This notebook walks through the process of developing ML models both in sk-learn and in sasviya.ml"
   ]
  },
  {
   "cell_type": "code",
   "execution_count": 1,
   "metadata": {},
   "outputs": [],
   "source": [
    "import pandas as pd \n",
    "from sklearn.metrics import ConfusionMatrixDisplay, confusion_matrix, f1_score\n",
    "from sklearn.model_selection import train_test_split\n",
    "import random \n",
    "import numpy as np\n",
    "import pickle\n",
    "\n",
    "from sklearn.pipeline import Pipeline\n",
    "from sklearn.compose import ColumnTransformer\n",
    "from sklearn.preprocessing import OneHotEncoder, StandardScaler\n",
    "\n",
    "from sklearn.ensemble import RandomForestClassifier\n",
    "from sasviya.ml.tree import ForestClassifier\n",
    "import matplotlib.pyplot as plt\n",
    "import os\n",
    "\n",
    "SEED = 42\n",
    "random.seed(SEED)\n",
    "np.random.seed(SEED)"
   ]
  },
  {
   "cell_type": "code",
   "execution_count": 2,
   "metadata": {},
   "outputs": [],
   "source": [
    "data_path = '../../Data/cleaned_data/train_valid_test.csv'\n",
    "numerical_features = ['CreditLineAge','DebtIncRatio','FICOScore','Inquiries6Mnths',\n",
    "                      'LogAnnualInc','RevBalance','RevUtilization','Installment','InterestRate']\n",
    "categorical_features = ['CreditPolicy','Delinquencies2Yrs','PublicRecord','Purpose']\n",
    "features = numerical_features+categorical_features\n",
    "target = 'Default'"
   ]
  },
  {
   "cell_type": "code",
   "execution_count": 3,
   "metadata": {},
   "outputs": [
    {
     "name": "stdout",
     "output_type": "stream",
     "text": [
      "Train Size: 70000 --- Default Frequency: 21.6%\n",
      "Valid Size: 20000 --- Default Frequency: 21.6%\n",
      "Test Size: 10000 --- Default Frequency: 21.6%\n"
     ]
    }
   ],
   "source": [
    "all_data = pd.read_csv(data_path)\n",
    "\n",
    "train = all_data[all_data['_PartInd_']==1].reset_index(drop=True)\n",
    "valid = all_data[all_data['_PartInd_']==2].reset_index(drop=True)\n",
    "test = all_data[all_data['_PartInd_']==3].reset_index(drop=True)\n",
    "\n",
    "train_defaults = train[target].sum()\n",
    "valid_defaults = valid[target].sum()\n",
    "test_defaults = test[target].sum()\n",
    "print('Train Size:', train.shape[0], f'--- {target} Frequency:', f'{round(100*train_defaults/train.shape[0],2)}%')\n",
    "print('Valid Size:', valid.shape[0], f'--- {target} Frequency:', f'{round(100*valid_defaults/valid.shape[0],2)}%')\n",
    "print('Test Size:', test.shape[0], f'--- {target} Frequency:', f'{round(100*test_defaults/test.shape[0],2)}%')"
   ]
  },
  {
   "cell_type": "code",
   "execution_count": 4,
   "metadata": {},
   "outputs": [
    {
     "data": {
      "text/html": [
       "<style>#sk-container-id-1 {color: black;}#sk-container-id-1 pre{padding: 0;}#sk-container-id-1 div.sk-toggleable {background-color: white;}#sk-container-id-1 label.sk-toggleable__label {cursor: pointer;display: block;width: 100%;margin-bottom: 0;padding: 0.3em;box-sizing: border-box;text-align: center;}#sk-container-id-1 label.sk-toggleable__label-arrow:before {content: \"▸\";float: left;margin-right: 0.25em;color: #696969;}#sk-container-id-1 label.sk-toggleable__label-arrow:hover:before {color: black;}#sk-container-id-1 div.sk-estimator:hover label.sk-toggleable__label-arrow:before {color: black;}#sk-container-id-1 div.sk-toggleable__content {max-height: 0;max-width: 0;overflow: hidden;text-align: left;background-color: #f0f8ff;}#sk-container-id-1 div.sk-toggleable__content pre {margin: 0.2em;color: black;border-radius: 0.25em;background-color: #f0f8ff;}#sk-container-id-1 input.sk-toggleable__control:checked~div.sk-toggleable__content {max-height: 200px;max-width: 100%;overflow: auto;}#sk-container-id-1 input.sk-toggleable__control:checked~label.sk-toggleable__label-arrow:before {content: \"▾\";}#sk-container-id-1 div.sk-estimator input.sk-toggleable__control:checked~label.sk-toggleable__label {background-color: #d4ebff;}#sk-container-id-1 div.sk-label input.sk-toggleable__control:checked~label.sk-toggleable__label {background-color: #d4ebff;}#sk-container-id-1 input.sk-hidden--visually {border: 0;clip: rect(1px 1px 1px 1px);clip: rect(1px, 1px, 1px, 1px);height: 1px;margin: -1px;overflow: hidden;padding: 0;position: absolute;width: 1px;}#sk-container-id-1 div.sk-estimator {font-family: monospace;background-color: #f0f8ff;border: 1px dotted black;border-radius: 0.25em;box-sizing: border-box;margin-bottom: 0.5em;}#sk-container-id-1 div.sk-estimator:hover {background-color: #d4ebff;}#sk-container-id-1 div.sk-parallel-item::after {content: \"\";width: 100%;border-bottom: 1px solid gray;flex-grow: 1;}#sk-container-id-1 div.sk-label:hover label.sk-toggleable__label {background-color: #d4ebff;}#sk-container-id-1 div.sk-serial::before {content: \"\";position: absolute;border-left: 1px solid gray;box-sizing: border-box;top: 0;bottom: 0;left: 50%;z-index: 0;}#sk-container-id-1 div.sk-serial {display: flex;flex-direction: column;align-items: center;background-color: white;padding-right: 0.2em;padding-left: 0.2em;position: relative;}#sk-container-id-1 div.sk-item {position: relative;z-index: 1;}#sk-container-id-1 div.sk-parallel {display: flex;align-items: stretch;justify-content: center;background-color: white;position: relative;}#sk-container-id-1 div.sk-item::before, #sk-container-id-1 div.sk-parallel-item::before {content: \"\";position: absolute;border-left: 1px solid gray;box-sizing: border-box;top: 0;bottom: 0;left: 50%;z-index: -1;}#sk-container-id-1 div.sk-parallel-item {display: flex;flex-direction: column;z-index: 1;position: relative;background-color: white;}#sk-container-id-1 div.sk-parallel-item:first-child::after {align-self: flex-end;width: 50%;}#sk-container-id-1 div.sk-parallel-item:last-child::after {align-self: flex-start;width: 50%;}#sk-container-id-1 div.sk-parallel-item:only-child::after {width: 0;}#sk-container-id-1 div.sk-dashed-wrapped {border: 1px dashed gray;margin: 0 0.4em 0.5em 0.4em;box-sizing: border-box;padding-bottom: 0.4em;background-color: white;}#sk-container-id-1 div.sk-label label {font-family: monospace;font-weight: bold;display: inline-block;line-height: 1.2em;}#sk-container-id-1 div.sk-label-container {text-align: center;}#sk-container-id-1 div.sk-container {/* jupyter's `normalize.less` sets `[hidden] { display: none; }` but bootstrap.min.css set `[hidden] { display: none !important; }` so we also need the `!important` here to be able to override the default hidden behavior on the sphinx rendered scikit-learn.org. See: https://github.com/scikit-learn/scikit-learn/issues/21755 */display: inline-block !important;position: relative;}#sk-container-id-1 div.sk-text-repr-fallback {display: none;}</style><div id=\"sk-container-id-1\" class=\"sk-top-container\"><div class=\"sk-text-repr-fallback\"><pre>Pipeline(steps=[(&#x27;data_prep&#x27;,\n",
       "                 ColumnTransformer(transformers=[(&#x27;num_pipeline&#x27;,\n",
       "                                                  Pipeline(steps=[(&#x27;standard_scaler&#x27;,\n",
       "                                                                   StandardScaler())]),\n",
       "                                                  [&#x27;CreditLineAge&#x27;,\n",
       "                                                   &#x27;DebtIncRatio&#x27;, &#x27;FICOScore&#x27;,\n",
       "                                                   &#x27;Inquiries6Mnths&#x27;,\n",
       "                                                   &#x27;LogAnnualInc&#x27;, &#x27;RevBalance&#x27;,\n",
       "                                                   &#x27;RevUtilization&#x27;,\n",
       "                                                   &#x27;Installment&#x27;,\n",
       "                                                   &#x27;InterestRate&#x27;]),\n",
       "                                                 (&#x27;cat_pipeline&#x27;,\n",
       "                                                  Pipeline(steps=[(&#x27;onehot_encoder&#x27;,\n",
       "                                                                   OneHotEncoder())]),\n",
       "                                                  [&#x27;CreditPolicy&#x27;,\n",
       "                                                   &#x27;Delinquencies2Yrs&#x27;,\n",
       "                                                   &#x27;PublicRecord&#x27;,\n",
       "                                                   &#x27;Purpose&#x27;])])),\n",
       "                (&#x27;Forest_Model&#x27;, RandomForestClassifier())])</pre><b>In a Jupyter environment, please rerun this cell to show the HTML representation or trust the notebook. <br />On GitHub, the HTML representation is unable to render, please try loading this page with nbviewer.org.</b></div><div class=\"sk-container\" hidden><div class=\"sk-item sk-dashed-wrapped\"><div class=\"sk-label-container\"><div class=\"sk-label sk-toggleable\"><input class=\"sk-toggleable__control sk-hidden--visually\" id=\"sk-estimator-id-1\" type=\"checkbox\" ><label for=\"sk-estimator-id-1\" class=\"sk-toggleable__label sk-toggleable__label-arrow\">Pipeline</label><div class=\"sk-toggleable__content\"><pre>Pipeline(steps=[(&#x27;data_prep&#x27;,\n",
       "                 ColumnTransformer(transformers=[(&#x27;num_pipeline&#x27;,\n",
       "                                                  Pipeline(steps=[(&#x27;standard_scaler&#x27;,\n",
       "                                                                   StandardScaler())]),\n",
       "                                                  [&#x27;CreditLineAge&#x27;,\n",
       "                                                   &#x27;DebtIncRatio&#x27;, &#x27;FICOScore&#x27;,\n",
       "                                                   &#x27;Inquiries6Mnths&#x27;,\n",
       "                                                   &#x27;LogAnnualInc&#x27;, &#x27;RevBalance&#x27;,\n",
       "                                                   &#x27;RevUtilization&#x27;,\n",
       "                                                   &#x27;Installment&#x27;,\n",
       "                                                   &#x27;InterestRate&#x27;]),\n",
       "                                                 (&#x27;cat_pipeline&#x27;,\n",
       "                                                  Pipeline(steps=[(&#x27;onehot_encoder&#x27;,\n",
       "                                                                   OneHotEncoder())]),\n",
       "                                                  [&#x27;CreditPolicy&#x27;,\n",
       "                                                   &#x27;Delinquencies2Yrs&#x27;,\n",
       "                                                   &#x27;PublicRecord&#x27;,\n",
       "                                                   &#x27;Purpose&#x27;])])),\n",
       "                (&#x27;Forest_Model&#x27;, RandomForestClassifier())])</pre></div></div></div><div class=\"sk-serial\"><div class=\"sk-item sk-dashed-wrapped\"><div class=\"sk-label-container\"><div class=\"sk-label sk-toggleable\"><input class=\"sk-toggleable__control sk-hidden--visually\" id=\"sk-estimator-id-2\" type=\"checkbox\" ><label for=\"sk-estimator-id-2\" class=\"sk-toggleable__label sk-toggleable__label-arrow\">data_prep: ColumnTransformer</label><div class=\"sk-toggleable__content\"><pre>ColumnTransformer(transformers=[(&#x27;num_pipeline&#x27;,\n",
       "                                 Pipeline(steps=[(&#x27;standard_scaler&#x27;,\n",
       "                                                  StandardScaler())]),\n",
       "                                 [&#x27;CreditLineAge&#x27;, &#x27;DebtIncRatio&#x27;, &#x27;FICOScore&#x27;,\n",
       "                                  &#x27;Inquiries6Mnths&#x27;, &#x27;LogAnnualInc&#x27;,\n",
       "                                  &#x27;RevBalance&#x27;, &#x27;RevUtilization&#x27;, &#x27;Installment&#x27;,\n",
       "                                  &#x27;InterestRate&#x27;]),\n",
       "                                (&#x27;cat_pipeline&#x27;,\n",
       "                                 Pipeline(steps=[(&#x27;onehot_encoder&#x27;,\n",
       "                                                  OneHotEncoder())]),\n",
       "                                 [&#x27;CreditPolicy&#x27;, &#x27;Delinquencies2Yrs&#x27;,\n",
       "                                  &#x27;PublicRecord&#x27;, &#x27;Purpose&#x27;])])</pre></div></div></div><div class=\"sk-parallel\"><div class=\"sk-parallel-item\"><div class=\"sk-item\"><div class=\"sk-label-container\"><div class=\"sk-label sk-toggleable\"><input class=\"sk-toggleable__control sk-hidden--visually\" id=\"sk-estimator-id-3\" type=\"checkbox\" ><label for=\"sk-estimator-id-3\" class=\"sk-toggleable__label sk-toggleable__label-arrow\">num_pipeline</label><div class=\"sk-toggleable__content\"><pre>[&#x27;CreditLineAge&#x27;, &#x27;DebtIncRatio&#x27;, &#x27;FICOScore&#x27;, &#x27;Inquiries6Mnths&#x27;, &#x27;LogAnnualInc&#x27;, &#x27;RevBalance&#x27;, &#x27;RevUtilization&#x27;, &#x27;Installment&#x27;, &#x27;InterestRate&#x27;]</pre></div></div></div><div class=\"sk-serial\"><div class=\"sk-item\"><div class=\"sk-serial\"><div class=\"sk-item\"><div class=\"sk-estimator sk-toggleable\"><input class=\"sk-toggleable__control sk-hidden--visually\" id=\"sk-estimator-id-4\" type=\"checkbox\" ><label for=\"sk-estimator-id-4\" class=\"sk-toggleable__label sk-toggleable__label-arrow\">StandardScaler</label><div class=\"sk-toggleable__content\"><pre>StandardScaler()</pre></div></div></div></div></div></div></div></div><div class=\"sk-parallel-item\"><div class=\"sk-item\"><div class=\"sk-label-container\"><div class=\"sk-label sk-toggleable\"><input class=\"sk-toggleable__control sk-hidden--visually\" id=\"sk-estimator-id-5\" type=\"checkbox\" ><label for=\"sk-estimator-id-5\" class=\"sk-toggleable__label sk-toggleable__label-arrow\">cat_pipeline</label><div class=\"sk-toggleable__content\"><pre>[&#x27;CreditPolicy&#x27;, &#x27;Delinquencies2Yrs&#x27;, &#x27;PublicRecord&#x27;, &#x27;Purpose&#x27;]</pre></div></div></div><div class=\"sk-serial\"><div class=\"sk-item\"><div class=\"sk-serial\"><div class=\"sk-item\"><div class=\"sk-estimator sk-toggleable\"><input class=\"sk-toggleable__control sk-hidden--visually\" id=\"sk-estimator-id-6\" type=\"checkbox\" ><label for=\"sk-estimator-id-6\" class=\"sk-toggleable__label sk-toggleable__label-arrow\">OneHotEncoder</label><div class=\"sk-toggleable__content\"><pre>OneHotEncoder()</pre></div></div></div></div></div></div></div></div></div></div><div class=\"sk-item\"><div class=\"sk-estimator sk-toggleable\"><input class=\"sk-toggleable__control sk-hidden--visually\" id=\"sk-estimator-id-7\" type=\"checkbox\" ><label for=\"sk-estimator-id-7\" class=\"sk-toggleable__label sk-toggleable__label-arrow\">RandomForestClassifier</label><div class=\"sk-toggleable__content\"><pre>RandomForestClassifier()</pre></div></div></div></div></div></div></div>"
      ],
      "text/plain": [
       "Pipeline(steps=[('data_prep',\n",
       "                 ColumnTransformer(transformers=[('num_pipeline',\n",
       "                                                  Pipeline(steps=[('standard_scaler',\n",
       "                                                                   StandardScaler())]),\n",
       "                                                  ['CreditLineAge',\n",
       "                                                   'DebtIncRatio', 'FICOScore',\n",
       "                                                   'Inquiries6Mnths',\n",
       "                                                   'LogAnnualInc', 'RevBalance',\n",
       "                                                   'RevUtilization',\n",
       "                                                   'Installment',\n",
       "                                                   'InterestRate']),\n",
       "                                                 ('cat_pipeline',\n",
       "                                                  Pipeline(steps=[('onehot_encoder',\n",
       "                                                                   OneHotEncoder())]),\n",
       "                                                  ['CreditPolicy',\n",
       "                                                   'Delinquencies2Yrs',\n",
       "                                                   'PublicRecord',\n",
       "                                                   'Purpose'])])),\n",
       "                ('Forest_Model', RandomForestClassifier())])"
      ]
     },
     "execution_count": 4,
     "metadata": {},
     "output_type": "execute_result"
    }
   ],
   "source": [
    "### SK-Learn Pipeline\n",
    "num_pipeline = Pipeline([\n",
    "    (\"standard_scaler\", StandardScaler())\n",
    "])\n",
    "\n",
    "cat_pipeline = Pipeline([\n",
    "    (\"onehot_encoder\", OneHotEncoder()),\n",
    "])\n",
    "\n",
    "sk_pipeline = Pipeline([\n",
    "    (\"data_prep\", ColumnTransformer([(\"num_pipeline\", num_pipeline, numerical_features),(\"cat_pipeline\", cat_pipeline, categorical_features)])),\n",
    "    ('Forest_Model', RandomForestClassifier())])\n",
    "\n",
    "sk_pipeline"
   ]
  },
  {
   "cell_type": "code",
   "execution_count": 5,
   "metadata": {},
   "outputs": [],
   "source": [
    "#fit the pipeline\n",
    "sk_pipeline.fit(train[features], train[target])\n",
    "#Save predictions \n",
    "train_pred_sk = sk_pipeline.predict(train[features])\n",
    "valid_pred_sk = sk_pipeline.predict(valid[features])\n",
    "test_pred_sk = sk_pipeline.predict(test[features])\n",
    "#Compute Fit Metrics\n",
    "train_f1_sk = f1_score(train[target], train_pred_sk)\n",
    "valid_f1_sk = f1_score(valid[target], valid_pred_sk)\n",
    "test_f1_sk = f1_score(test[target], test_pred_sk)"
   ]
  },
  {
   "cell_type": "code",
   "execution_count": 6,
   "metadata": {},
   "outputs": [
    {
     "data": {
      "text/html": [
       "<style>#sk-container-id-2 {color: black;}#sk-container-id-2 pre{padding: 0;}#sk-container-id-2 div.sk-toggleable {background-color: white;}#sk-container-id-2 label.sk-toggleable__label {cursor: pointer;display: block;width: 100%;margin-bottom: 0;padding: 0.3em;box-sizing: border-box;text-align: center;}#sk-container-id-2 label.sk-toggleable__label-arrow:before {content: \"▸\";float: left;margin-right: 0.25em;color: #696969;}#sk-container-id-2 label.sk-toggleable__label-arrow:hover:before {color: black;}#sk-container-id-2 div.sk-estimator:hover label.sk-toggleable__label-arrow:before {color: black;}#sk-container-id-2 div.sk-toggleable__content {max-height: 0;max-width: 0;overflow: hidden;text-align: left;background-color: #f0f8ff;}#sk-container-id-2 div.sk-toggleable__content pre {margin: 0.2em;color: black;border-radius: 0.25em;background-color: #f0f8ff;}#sk-container-id-2 input.sk-toggleable__control:checked~div.sk-toggleable__content {max-height: 200px;max-width: 100%;overflow: auto;}#sk-container-id-2 input.sk-toggleable__control:checked~label.sk-toggleable__label-arrow:before {content: \"▾\";}#sk-container-id-2 div.sk-estimator input.sk-toggleable__control:checked~label.sk-toggleable__label {background-color: #d4ebff;}#sk-container-id-2 div.sk-label input.sk-toggleable__control:checked~label.sk-toggleable__label {background-color: #d4ebff;}#sk-container-id-2 input.sk-hidden--visually {border: 0;clip: rect(1px 1px 1px 1px);clip: rect(1px, 1px, 1px, 1px);height: 1px;margin: -1px;overflow: hidden;padding: 0;position: absolute;width: 1px;}#sk-container-id-2 div.sk-estimator {font-family: monospace;background-color: #f0f8ff;border: 1px dotted black;border-radius: 0.25em;box-sizing: border-box;margin-bottom: 0.5em;}#sk-container-id-2 div.sk-estimator:hover {background-color: #d4ebff;}#sk-container-id-2 div.sk-parallel-item::after {content: \"\";width: 100%;border-bottom: 1px solid gray;flex-grow: 1;}#sk-container-id-2 div.sk-label:hover label.sk-toggleable__label {background-color: #d4ebff;}#sk-container-id-2 div.sk-serial::before {content: \"\";position: absolute;border-left: 1px solid gray;box-sizing: border-box;top: 0;bottom: 0;left: 50%;z-index: 0;}#sk-container-id-2 div.sk-serial {display: flex;flex-direction: column;align-items: center;background-color: white;padding-right: 0.2em;padding-left: 0.2em;position: relative;}#sk-container-id-2 div.sk-item {position: relative;z-index: 1;}#sk-container-id-2 div.sk-parallel {display: flex;align-items: stretch;justify-content: center;background-color: white;position: relative;}#sk-container-id-2 div.sk-item::before, #sk-container-id-2 div.sk-parallel-item::before {content: \"\";position: absolute;border-left: 1px solid gray;box-sizing: border-box;top: 0;bottom: 0;left: 50%;z-index: -1;}#sk-container-id-2 div.sk-parallel-item {display: flex;flex-direction: column;z-index: 1;position: relative;background-color: white;}#sk-container-id-2 div.sk-parallel-item:first-child::after {align-self: flex-end;width: 50%;}#sk-container-id-2 div.sk-parallel-item:last-child::after {align-self: flex-start;width: 50%;}#sk-container-id-2 div.sk-parallel-item:only-child::after {width: 0;}#sk-container-id-2 div.sk-dashed-wrapped {border: 1px dashed gray;margin: 0 0.4em 0.5em 0.4em;box-sizing: border-box;padding-bottom: 0.4em;background-color: white;}#sk-container-id-2 div.sk-label label {font-family: monospace;font-weight: bold;display: inline-block;line-height: 1.2em;}#sk-container-id-2 div.sk-label-container {text-align: center;}#sk-container-id-2 div.sk-container {/* jupyter's `normalize.less` sets `[hidden] { display: none; }` but bootstrap.min.css set `[hidden] { display: none !important; }` so we also need the `!important` here to be able to override the default hidden behavior on the sphinx rendered scikit-learn.org. See: https://github.com/scikit-learn/scikit-learn/issues/21755 */display: inline-block !important;position: relative;}#sk-container-id-2 div.sk-text-repr-fallback {display: none;}</style><div id=\"sk-container-id-2\" class=\"sk-top-container\"><div class=\"sk-text-repr-fallback\"><pre>Pipeline(steps=[(&#x27;data_prep&#x27;,\n",
       "                 ColumnTransformer(transformers=[(&#x27;num_pipeline&#x27;,\n",
       "                                                  Pipeline(steps=[(&#x27;standard_scaler&#x27;,\n",
       "                                                                   StandardScaler())]),\n",
       "                                                  [&#x27;CreditLineAge&#x27;,\n",
       "                                                   &#x27;DebtIncRatio&#x27;, &#x27;FICOScore&#x27;,\n",
       "                                                   &#x27;Inquiries6Mnths&#x27;,\n",
       "                                                   &#x27;LogAnnualInc&#x27;, &#x27;RevBalance&#x27;,\n",
       "                                                   &#x27;RevUtilization&#x27;,\n",
       "                                                   &#x27;Installment&#x27;,\n",
       "                                                   &#x27;InterestRate&#x27;]),\n",
       "                                                 (&#x27;cat_pipeline&#x27;,\n",
       "                                                  Pipeline(steps=[(&#x27;onehot_encoder&#x27;,\n",
       "                                                                   OneHotEncoder())]),\n",
       "                                                  [&#x27;CreditPolicy&#x27;,\n",
       "                                                   &#x27;Delinquencies2Yrs&#x27;,\n",
       "                                                   &#x27;PublicRecord&#x27;,\n",
       "                                                   &#x27;Purpose&#x27;])])),\n",
       "                (&#x27;Forest_Model&#x27;, ForestClassifier())])</pre><b>In a Jupyter environment, please rerun this cell to show the HTML representation or trust the notebook. <br />On GitHub, the HTML representation is unable to render, please try loading this page with nbviewer.org.</b></div><div class=\"sk-container\" hidden><div class=\"sk-item sk-dashed-wrapped\"><div class=\"sk-label-container\"><div class=\"sk-label sk-toggleable\"><input class=\"sk-toggleable__control sk-hidden--visually\" id=\"sk-estimator-id-8\" type=\"checkbox\" ><label for=\"sk-estimator-id-8\" class=\"sk-toggleable__label sk-toggleable__label-arrow\">Pipeline</label><div class=\"sk-toggleable__content\"><pre>Pipeline(steps=[(&#x27;data_prep&#x27;,\n",
       "                 ColumnTransformer(transformers=[(&#x27;num_pipeline&#x27;,\n",
       "                                                  Pipeline(steps=[(&#x27;standard_scaler&#x27;,\n",
       "                                                                   StandardScaler())]),\n",
       "                                                  [&#x27;CreditLineAge&#x27;,\n",
       "                                                   &#x27;DebtIncRatio&#x27;, &#x27;FICOScore&#x27;,\n",
       "                                                   &#x27;Inquiries6Mnths&#x27;,\n",
       "                                                   &#x27;LogAnnualInc&#x27;, &#x27;RevBalance&#x27;,\n",
       "                                                   &#x27;RevUtilization&#x27;,\n",
       "                                                   &#x27;Installment&#x27;,\n",
       "                                                   &#x27;InterestRate&#x27;]),\n",
       "                                                 (&#x27;cat_pipeline&#x27;,\n",
       "                                                  Pipeline(steps=[(&#x27;onehot_encoder&#x27;,\n",
       "                                                                   OneHotEncoder())]),\n",
       "                                                  [&#x27;CreditPolicy&#x27;,\n",
       "                                                   &#x27;Delinquencies2Yrs&#x27;,\n",
       "                                                   &#x27;PublicRecord&#x27;,\n",
       "                                                   &#x27;Purpose&#x27;])])),\n",
       "                (&#x27;Forest_Model&#x27;, ForestClassifier())])</pre></div></div></div><div class=\"sk-serial\"><div class=\"sk-item sk-dashed-wrapped\"><div class=\"sk-label-container\"><div class=\"sk-label sk-toggleable\"><input class=\"sk-toggleable__control sk-hidden--visually\" id=\"sk-estimator-id-9\" type=\"checkbox\" ><label for=\"sk-estimator-id-9\" class=\"sk-toggleable__label sk-toggleable__label-arrow\">data_prep: ColumnTransformer</label><div class=\"sk-toggleable__content\"><pre>ColumnTransformer(transformers=[(&#x27;num_pipeline&#x27;,\n",
       "                                 Pipeline(steps=[(&#x27;standard_scaler&#x27;,\n",
       "                                                  StandardScaler())]),\n",
       "                                 [&#x27;CreditLineAge&#x27;, &#x27;DebtIncRatio&#x27;, &#x27;FICOScore&#x27;,\n",
       "                                  &#x27;Inquiries6Mnths&#x27;, &#x27;LogAnnualInc&#x27;,\n",
       "                                  &#x27;RevBalance&#x27;, &#x27;RevUtilization&#x27;, &#x27;Installment&#x27;,\n",
       "                                  &#x27;InterestRate&#x27;]),\n",
       "                                (&#x27;cat_pipeline&#x27;,\n",
       "                                 Pipeline(steps=[(&#x27;onehot_encoder&#x27;,\n",
       "                                                  OneHotEncoder())]),\n",
       "                                 [&#x27;CreditPolicy&#x27;, &#x27;Delinquencies2Yrs&#x27;,\n",
       "                                  &#x27;PublicRecord&#x27;, &#x27;Purpose&#x27;])])</pre></div></div></div><div class=\"sk-parallel\"><div class=\"sk-parallel-item\"><div class=\"sk-item\"><div class=\"sk-label-container\"><div class=\"sk-label sk-toggleable\"><input class=\"sk-toggleable__control sk-hidden--visually\" id=\"sk-estimator-id-10\" type=\"checkbox\" ><label for=\"sk-estimator-id-10\" class=\"sk-toggleable__label sk-toggleable__label-arrow\">num_pipeline</label><div class=\"sk-toggleable__content\"><pre>[&#x27;CreditLineAge&#x27;, &#x27;DebtIncRatio&#x27;, &#x27;FICOScore&#x27;, &#x27;Inquiries6Mnths&#x27;, &#x27;LogAnnualInc&#x27;, &#x27;RevBalance&#x27;, &#x27;RevUtilization&#x27;, &#x27;Installment&#x27;, &#x27;InterestRate&#x27;]</pre></div></div></div><div class=\"sk-serial\"><div class=\"sk-item\"><div class=\"sk-serial\"><div class=\"sk-item\"><div class=\"sk-estimator sk-toggleable\"><input class=\"sk-toggleable__control sk-hidden--visually\" id=\"sk-estimator-id-11\" type=\"checkbox\" ><label for=\"sk-estimator-id-11\" class=\"sk-toggleable__label sk-toggleable__label-arrow\">StandardScaler</label><div class=\"sk-toggleable__content\"><pre>StandardScaler()</pre></div></div></div></div></div></div></div></div><div class=\"sk-parallel-item\"><div class=\"sk-item\"><div class=\"sk-label-container\"><div class=\"sk-label sk-toggleable\"><input class=\"sk-toggleable__control sk-hidden--visually\" id=\"sk-estimator-id-12\" type=\"checkbox\" ><label for=\"sk-estimator-id-12\" class=\"sk-toggleable__label sk-toggleable__label-arrow\">cat_pipeline</label><div class=\"sk-toggleable__content\"><pre>[&#x27;CreditPolicy&#x27;, &#x27;Delinquencies2Yrs&#x27;, &#x27;PublicRecord&#x27;, &#x27;Purpose&#x27;]</pre></div></div></div><div class=\"sk-serial\"><div class=\"sk-item\"><div class=\"sk-serial\"><div class=\"sk-item\"><div class=\"sk-estimator sk-toggleable\"><input class=\"sk-toggleable__control sk-hidden--visually\" id=\"sk-estimator-id-13\" type=\"checkbox\" ><label for=\"sk-estimator-id-13\" class=\"sk-toggleable__label sk-toggleable__label-arrow\">OneHotEncoder</label><div class=\"sk-toggleable__content\"><pre>OneHotEncoder()</pre></div></div></div></div></div></div></div></div></div></div><div class=\"sk-item\"><div class=\"sk-estimator sk-toggleable\"><input class=\"sk-toggleable__control sk-hidden--visually\" id=\"sk-estimator-id-14\" type=\"checkbox\" ><label for=\"sk-estimator-id-14\" class=\"sk-toggleable__label sk-toggleable__label-arrow\">ForestClassifier</label><div class=\"sk-toggleable__content\"><pre>ForestClassifier()</pre></div></div></div></div></div></div></div>"
      ],
      "text/plain": [
       "Pipeline(steps=[('data_prep',\n",
       "                 ColumnTransformer(transformers=[('num_pipeline',\n",
       "                                                  Pipeline(steps=[('standard_scaler',\n",
       "                                                                   StandardScaler())]),\n",
       "                                                  ['CreditLineAge',\n",
       "                                                   'DebtIncRatio', 'FICOScore',\n",
       "                                                   'Inquiries6Mnths',\n",
       "                                                   'LogAnnualInc', 'RevBalance',\n",
       "                                                   'RevUtilization',\n",
       "                                                   'Installment',\n",
       "                                                   'InterestRate']),\n",
       "                                                 ('cat_pipeline',\n",
       "                                                  Pipeline(steps=[('onehot_encoder',\n",
       "                                                                   OneHotEncoder())]),\n",
       "                                                  ['CreditPolicy',\n",
       "                                                   'Delinquencies2Yrs',\n",
       "                                                   'PublicRecord',\n",
       "                                                   'Purpose'])])),\n",
       "                ('Forest_Model', ForestClassifier())])"
      ]
     },
     "execution_count": 6,
     "metadata": {},
     "output_type": "execute_result"
    }
   ],
   "source": [
    "viya_pipeline = Pipeline([\n",
    "    (\"data_prep\", ColumnTransformer([(\"num_pipeline\", num_pipeline, numerical_features),(\"cat_pipeline\", cat_pipeline, categorical_features)])),\n",
    "    ('Forest_Model', ForestClassifier())])\n",
    "\n",
    "viya_pipeline"
   ]
  },
  {
   "cell_type": "code",
   "execution_count": 7,
   "metadata": {},
   "outputs": [],
   "source": [
    "#fit the pipeline\n",
    "viya_pipeline.fit(train[features], train[target])\n",
    "#Save predictions \n",
    "train_pred_viya = viya_pipeline.predict(train[features])\n",
    "valid_pred_viya = viya_pipeline.predict(valid[features])\n",
    "test_pred_viya = viya_pipeline.predict(test[features])\n",
    "#Compute Fit Metrics\n",
    "train_f1_viya = f1_score(train[target], train_pred_viya)\n",
    "valid_f1_viya = f1_score(valid[target], valid_pred_viya)\n",
    "test_f1_viya = f1_score(test[target], test_pred_viya)"
   ]
  },
  {
   "cell_type": "code",
   "execution_count": 8,
   "metadata": {},
   "outputs": [
    {
     "data": {
      "text/html": [
       "<div>\n",
       "<style scoped>\n",
       "    .dataframe tbody tr th:only-of-type {\n",
       "        vertical-align: middle;\n",
       "    }\n",
       "\n",
       "    .dataframe tbody tr th {\n",
       "        vertical-align: top;\n",
       "    }\n",
       "\n",
       "    .dataframe thead th {\n",
       "        text-align: right;\n",
       "    }\n",
       "</style>\n",
       "<table border=\"1\" class=\"dataframe\">\n",
       "  <thead>\n",
       "    <tr style=\"text-align: right;\">\n",
       "      <th></th>\n",
       "      <th>Forest-SK</th>\n",
       "      <th>Forest-Viya</th>\n",
       "    </tr>\n",
       "  </thead>\n",
       "  <tbody>\n",
       "    <tr>\n",
       "      <th>Train F1</th>\n",
       "      <td>99.99</td>\n",
       "      <td>55.26</td>\n",
       "    </tr>\n",
       "    <tr>\n",
       "      <th>Valid F1</th>\n",
       "      <td>44.72</td>\n",
       "      <td>40.87</td>\n",
       "    </tr>\n",
       "    <tr>\n",
       "      <th>Test F1</th>\n",
       "      <td>42.96</td>\n",
       "      <td>41.24</td>\n",
       "    </tr>\n",
       "  </tbody>\n",
       "</table>\n",
       "</div>"
      ],
      "text/plain": [
       "          Forest-SK  Forest-Viya\n",
       "Train F1      99.99        55.26\n",
       "Valid F1      44.72        40.87\n",
       "Test F1       42.96        41.24"
      ]
     },
     "execution_count": 8,
     "metadata": {},
     "output_type": "execute_result"
    }
   ],
   "source": [
    "model_comparison = pd.DataFrame(\n",
    "    {'Forest-SK': [train_f1_sk, valid_f1_sk, test_f1_sk], \n",
    "     'Forest-Viya': [train_f1_viya, valid_f1_viya, test_f1_viya]},\n",
    "    ['Train F1', 'Valid F1', 'Test F1'])\n",
    "100*model_comparison.round(4)"
   ]
  },
  {
   "cell_type": "code",
   "execution_count": 9,
   "metadata": {},
   "outputs": [
    {
     "data": {
      "image/png": "[encoded data removed]",
      "text/plain": [
       "<Figure size 2000x500 with 4 Axes>"
      ]
     },
     "metadata": {},
     "output_type": "display_data"
    }
   ],
   "source": [
    "fig, axs = plt.subplots(ncols=2, figsize=(20,5))\n",
    "disp = ConfusionMatrixDisplay(confusion_matrix(test[target], test_pred_sk, normalize='true'))\n",
    "disp.plot(cmap=plt.cm.Blues, ax=axs[0])\n",
    "axs[0].set_title('Test Confusion Matrix - SK')\n",
    "\n",
    "disp = ConfusionMatrixDisplay(confusion_matrix(test[target], test_pred_viya, normalize='true'))\n",
    "disp.plot(cmap=plt.cm.Blues, ax=axs[1])\n",
    "axs[1].set_title('Test Confusion Matrix - Viya')\n",
    "\n",
    "plt.show()"
   ]
  },
  {
   "cell_type": "markdown",
   "metadata": {},
   "source": [
    "### Your Task\n",
    "\n",
    "Develop a Gradient Boosting Model, test different hyperparameters and compare its performance against the above trained Logistic and Forest Models.\n",
    "\n",
    "![GB Classifier Overview](../../img/GB_Details_Python.png)\n",
    "\n",
    "For further guidance: https://go.documentation.sas.com/doc/en/workbenchcdc/v_001/explore/n1kiea90s0276wn1xr0ig0hvkix6.htm"
   ]
  },
  {
   "cell_type": "code",
   "execution_count": null,
   "metadata": {},
   "outputs": [],
   "source": [
    "from sasviya.ml.tree import GradientBoostingClassifier"
   ]
  },
  {
   "cell_type": "code",
   "execution_count": null,
   "metadata": {},
   "outputs": [],
   "source": [
    "# Instantiate the model, fit it and evaluate it"
   ]
  },
  {
   "cell_type": "code",
   "execution_count": null,
   "metadata": {},
   "outputs": [],
   "source": [
    "# Make sure to compute the Train F1, Valid F1 and Test F1\n",
    "model_comparison = pd.DataFrame(\n",
    "    {'Forest-SK': [train_f1_sk, valid_f1_sk, test_f1_sk], \n",
    "     'Forest-Viya': [train_f1_viya, valid_f1_viya, test_f1_viya],\n",
    "     'GB': [_________]},\n",
    "    ['Train F1', 'Valid F1', 'Test F1'])\n",
    "100*model_comparison.round(4)"
   ]
  },
  {
   "cell_type": "code",
   "execution_count": null,
   "metadata": {},
   "outputs": [],
   "source": [
    "# Produce confusion matrices to compare performance against the Logistic Regression and the Gradient Boosting\n",
    "fig, axs = plt.subplots(ncols=3, figsize=(20,5))\n",
    "disp = ConfusionMatrixDisplay(confusion_matrix(test[target], test_pred_sk, normalize='true'))\n",
    "disp.plot(cmap=plt.cm.Blues, ax=axs[0])\n",
    "axs[0].set_title('Test Confusion Matrix - Logistic')\n",
    "\n",
    "disp = ConfusionMatrixDisplay(confusion_matrix(test[target], test_pred_viya, normalize='true'))\n",
    "disp.plot(cmap=plt.cm.Blues, ax=axs[1])\n",
    "axs[1].set_title('Test Confusion Matrix - Forest')\n",
    "\n",
    "disp = ConfusionMatrixDisplay(confusion_matrix(test[target], _______, normalize='true'))\n",
    "disp.plot(cmap=plt.cm.Blues, ax=axs[2])\n",
    "axs[2].set_title('Test Confusion Matrix - GB')\n",
    "\n",
    "plt.show()"
   ]
  },
  {
   "cell_type": "markdown",
   "metadata": {},
   "source": [
    "### Saving Models\n",
    "We create an artifacts folder and save the models"
   ]
  },
  {
   "cell_type": "code",
   "execution_count": 13,
   "metadata": {},
   "outputs": [],
   "source": [
    "mypath = 'artifacts'\n",
    "if not os.path.isdir(mypath):\n",
    "   os.makedirs(mypath)\n",
    "\n",
    "with open('artifacts/sklearn_forest_pipeline.pkl', 'wb') as file:\n",
    "    pickle.dump(sk_pipeline, file)\n",
    "\n",
    "with open('artifacts/viya_forest_pipeline.pkl', 'wb') as file:\n",
    "    pickle.dump(viya_pipeline, file)"
   ]
  }
 ],
 "metadata": {
  "kernelspec": {
   "display_name": ".venv",
   "language": "python",
   "name": "python3"
  },
  "language_info": {
   "codemirror_mode": {
    "name": "ipython",
    "version": 3
   },
   "file_extension": ".py",
   "mimetype": "text/x-python",
   "name": "python",
   "nbconvert_exporter": "python",
   "pygments_lexer": "ipython3",
   "version": "3.11.9"
  }
 },
 "nbformat": 4,
 "nbformat_minor": 2
}
