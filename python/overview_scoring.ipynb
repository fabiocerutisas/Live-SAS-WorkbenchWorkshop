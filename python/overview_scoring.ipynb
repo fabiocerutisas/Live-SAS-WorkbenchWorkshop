{
 "cells": [
  {
   "cell_type": "code",
   "execution_count": null,
   "metadata": {},
   "outputs": [],
   "source": [
    "import pandas as pd \n",
    "import sasviya"
   ]
  },
  {
   "cell_type": "markdown",
   "metadata": {},
   "source": [
    "### On-Demand Scoring"
   ]
  },
  {
   "cell_type": "code",
   "execution_count": null,
   "metadata": {},
   "outputs": [],
   "source": [
    "features = ['CreditPolicy', 'PublicRecord',  'Purpose', 'InterestRate', 'Installment','Delinquencies2Yrs', \n",
    "            'BIN_CreditLineAge', 'BIN_DebtIncRatio', 'BIN_FICOScore','BIN_Inquiries6Mnths', 'BIN_LogAnnualInc', \n",
    "            'BIN_RevBalance','BIN_RevUtilization']\n",
    "target = 'Default'"
   ]
  },
  {
   "cell_type": "code",
   "execution_count": null,
   "metadata": {},
   "outputs": [],
   "source": [
    "optimized_logistic=sasviya.load_model('artifacts/logistics_model.pkl')\n",
    "optimized_forest=sasviya.load_model('artifacts/forest_model.pkl')\n",
    "score_data = pd.read_csv('../data/cleaned_data/train_valid_test.csv').sample(n=10000)\n",
    "#Your GB Model\n",
    "#Your GB+Synth Model"
   ]
  },
  {
   "cell_type": "code",
   "execution_count": null,
   "metadata": {},
   "outputs": [],
   "source": [
    "score_data['Logistic_P1'] = optimized_logistic.predict_proba(score_data[features]).iloc[:,1]\n",
    "score_data['Logistic_P0'] = optimized_logistic.predict_proba(score_data[features]).iloc[:,0]\n",
    "score_data['Logistic_Preds'] = optimized_logistic.predict(score_data[features])\n",
    "\n",
    "score_data['Forest_P1'] = optimized_forest.predict_proba(score_data[features]).iloc[:,1]\n",
    "score_data['Forest_P0'] = optimized_forest.predict_proba(score_data[features]).iloc[:,0]\n",
    "score_data['Forest_Preds'] = optimized_forest.predict(score_data[features])\n",
    "\n",
    "#Your GB Preds\n",
    "#Your GB+Synth Preds"
   ]
  },
  {
   "cell_type": "code",
   "execution_count": null,
   "metadata": {},
   "outputs": [],
   "source": [
    "score_data[['Default', 'Logistic_Preds', 'Logistic_P1', 'Logistic_P0', 'Forest_Preds', 'Forest_P1', 'Forest_P0',________]].head(10)"
   ]
  }
 ],
 "metadata": {
  "kernelspec": {
   "display_name": ".venv",
   "language": "python",
   "name": "python3"
  },
  "language_info": {
   "codemirror_mode": {
    "name": "ipython",
    "version": 3
   },
   "file_extension": ".py",
   "mimetype": "text/x-python",
   "name": "python",
   "nbconvert_exporter": "python",
   "pygments_lexer": "ipython3",
   "version": "3.11.9"
  }
 },
 "nbformat": 4,
 "nbformat_minor": 2
}
