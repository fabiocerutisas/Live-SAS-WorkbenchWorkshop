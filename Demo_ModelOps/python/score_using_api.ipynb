{
 "cells": [
  {
   "cell_type": "code",
   "execution_count": 1,
   "metadata": {},
   "outputs": [],
   "source": [
    "from requests import request\n",
    "import json\n",
    "import pandas as pd\n",
    "import math\n",
    "import numpy\n",
    "import pickle\n",
    "from pathlib import Path\n",
    "import urllib3\n",
    "import getpass\n",
    "import warnings\n",
    "import os "
   ]
  },
  {
   "cell_type": "markdown",
   "metadata": {},
   "source": [
    "## Accessing Models via API\n",
    "Now, we can head over to SAS Viya to manage our model using the visual interface. But, you don't need to use the visual interface in SAS Viya if you don't want to! You can actually access most of the model management capabilities through the SAS open source package SASCTL. For whatever isn't included in the open source package, you can do through API!\n",
    "\n",
    "In this section, we will use the SAS Viya APIs to look at one of our deployed models. To use this notebook on your own, make sure you have deployed one of your models, either through the visual interface or programmatically. To get started, we need to generate an authorization token."
   ]
  },
  {
   "cell_type": "code",
   "execution_count": 2,
   "metadata": {},
   "outputs": [],
   "source": [
    "with open('access_token.txt', 'r') as token:\n",
    "\taccess_token = token.read()"
   ]
  },
  {
   "cell_type": "code",
   "execution_count": 3,
   "metadata": {},
   "outputs": [
    {
     "data": {
      "text/plain": [
       "('https://innovationlab.demo.sas.com/microanalyticScore/modules/gb_model_viyaml/steps',\n",
       " <Response [200]>)"
      ]
     },
     "execution_count": 3,
     "metadata": {},
     "output_type": "execute_result"
    }
   ],
   "source": [
    "deployed_name = \"gb_model_viyaml\"\n",
    "hostname = \"https://innovationlab.demo.sas.com\"\n",
    "headers = {'Authorization': 'Bearer ' + access_token}\n",
    "\n",
    "url = hostname + \"/microanalyticScore/modules/\" + deployed_name + \"/steps\"\n",
    "\n",
    "r = request('GET', url, headers = headers, verify=\"innovation_lab.pem\")\n",
    "\n",
    "url, r"
   ]
  },
  {
   "cell_type": "code",
   "execution_count": 4,
   "metadata": {},
   "outputs": [],
   "source": [
    "data_path = \"../../Data/cleaned_data/train_valid_test.csv\"\n",
    "numerical_features = [\"CreditLineAge\",\"DebtIncRatio\",\"FICOScore\",\"Inquiries6Mnths\",\n",
    "                      \"LogAnnualInc\",\"RevBalance\",\"RevUtilization\",\"Installment\",\"InterestRate\"]\n",
    "categorical_features = [\"CreditPolicy\",\"Delinquencies2Yrs\",\"PublicRecord\",\"Purpose\"]\n",
    "features = numerical_features+categorical_features\n",
    "target = \"Default\"\n",
    "\n",
    "\n",
    "test_data = pd.read_csv(data_path)\n",
    "test_data = test_data[test_data[\"_PartInd_\"]==3].reset_index(drop=True)\n",
    "\n",
    "with open(\"artifacts/data_prep.pkl\", mode=\"rb\") as f:\n",
    "    data_prep = pickle.load(f)\n",
    "    \n",
    "x_test_prep = pd.DataFrame(data_prep.transform(test_data[features]), columns=features)"
   ]
  },
  {
   "cell_type": "code",
   "execution_count": 5,
   "metadata": {},
   "outputs": [
    {
     "data": {
      "text/plain": [
       "'{\"inputs\": [{\"name\": \"creditlineage\", \"value\": 0.2711659181247951}, {\"name\": \"debtincratio\", \"value\": 2.1167826630698605}, {\"name\": \"ficoscore\", \"value\": 0.6282422545529979}, {\"name\": \"inquiries6mnths\", \"value\": -0.864307013574943}, {\"name\": \"logannualinc\", \"value\": -1.3402145125518632}, {\"name\": \"revbalance\", \"value\": 0.11215111173361521}, {\"name\": \"revutilization\", \"value\": 0.033144183084290506}, {\"name\": \"installment\", \"value\": -1.077988366909529}, {\"name\": \"interestrate\", \"value\": -1.4192111007956187}, {\"name\": \"creditpolicy\", \"value\": 1.0}, {\"name\": \"delinquencies2yrs\", \"value\": 0.0}, {\"name\": \"publicrecord\", \"value\": 0.0}, {\"name\": \"purpose\", \"value\": 0.0}]}'"
      ]
     },
     "execution_count": 5,
     "metadata": {},
     "output_type": "execute_result"
    }
   ],
   "source": [
    "# Prepare payload\n",
    "input_dict = x_test_prep.iloc[2,:].to_dict()\n",
    "l = []\n",
    "for k,v in input_dict.items():\n",
    "    d = {}\n",
    "    d[\"name\"]=k.lower()\n",
    "    d[\"value\"]=v\n",
    "    l.append(d)\n",
    "payload_dict = {\"inputs\":l}\n",
    "payload_str = f'{payload_dict}'.replace('\\'','\\\"')\n",
    "payload_str"
   ]
  },
  {
   "cell_type": "code",
   "execution_count": 6,
   "metadata": {},
   "outputs": [
    {
     "data": {
      "text/plain": [
       "{'links': [],\n",
       " 'version': 2,\n",
       " 'moduleId': 'gb_model_viyaml',\n",
       " 'stepId': 'score',\n",
       " 'executionState': 'completed',\n",
       " 'metadata': {'module_id': 'gb_model_viyaml', 'step_id': 'score'},\n",
       " 'outputs': [{'name': 'P_Default1', 'value': 0.47552758148545937},\n",
       "  {'name': 'P_Default0', 'value': 0.5244724185145406},\n",
       "  {'name': 'I_Default', 'value': '           0'},\n",
       "  {'name': '_WARN_', 'value': '    '}]}"
      ]
     },
     "execution_count": 6,
     "metadata": {},
     "output_type": "execute_result"
    }
   ],
   "source": [
    "# Send request\n",
    "headers = {'Content-Type': 'application/vnd.sas.microanalytic.module.step.input+json', \n",
    "            'Authorization': 'Bearer ' + access_token}\n",
    "    \n",
    "url = hostname + '/microanalyticScore/modules/' + deployed_name + '/steps/score'\n",
    "\n",
    "r = request('POST', url, data=payload_str, headers = headers, verify='innovation_lab.pem')\n",
    "r.json()"
   ]
  },
  {
   "cell_type": "code",
   "execution_count": null,
   "metadata": {},
   "outputs": [],
   "source": []
  }
 ],
 "metadata": {
  "kernelspec": {
   "display_name": ".venv",
   "language": "python",
   "name": "python3"
  },
  "language_info": {
   "codemirror_mode": {
    "name": "ipython",
    "version": 3
   },
   "file_extension": ".py",
   "mimetype": "text/x-python",
   "name": "python",
   "nbconvert_exporter": "python",
   "pygments_lexer": "ipython3",
   "version": "3.11.9"
  }
 },
 "nbformat": 4,
 "nbformat_minor": 2
}
